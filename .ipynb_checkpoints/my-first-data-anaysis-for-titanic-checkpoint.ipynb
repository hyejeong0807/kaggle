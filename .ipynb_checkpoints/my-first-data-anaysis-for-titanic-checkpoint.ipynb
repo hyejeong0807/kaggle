{
 "cells": [
  {
   "cell_type": "code",
   "execution_count": 1,
   "id": "fa385581",
   "metadata": {
    "execution": {
     "iopub.execute_input": "2021-08-20T09:10:02.799385Z",
     "iopub.status.busy": "2021-08-20T09:10:02.798014Z",
     "iopub.status.idle": "2021-08-20T09:10:03.829013Z",
     "shell.execute_reply": "2021-08-20T09:10:03.828289Z",
     "shell.execute_reply.started": "2021-08-20T08:56:19.950841Z"
    },
    "papermill": {
     "duration": 1.126774,
     "end_time": "2021-08-20T09:10:03.829194",
     "exception": false,
     "start_time": "2021-08-20T09:10:02.702420",
     "status": "completed"
    },
    "tags": []
   },
   "outputs": [],
   "source": [
    "import numpy as np\n",
    "import pandas as pd\n",
    "import matplotlib.pyplot as plt\n",
    "import seaborn as sns\n",
    "\n",
    "plt.style.use('seaborn')\n",
    "sns.set(font_scale=2.5)\n",
    "\n",
    "import missingno as msno\n",
    "\n",
    "# ignore warinings\n",
    "import warnings\n",
    "warnings.filterwarnings('ignore')\n",
    "\n",
    "%matplotlib inline"
   ]
  },
  {
   "cell_type": "code",
   "execution_count": 2,
   "id": "cf762af5",
   "metadata": {
    "execution": {
     "iopub.execute_input": "2021-08-20T09:10:03.984816Z",
     "iopub.status.busy": "2021-08-20T09:10:03.983968Z",
     "iopub.status.idle": "2021-08-20T09:10:04.017184Z",
     "shell.execute_reply": "2021-08-20T09:10:04.016491Z",
     "shell.execute_reply.started": "2021-08-20T08:56:19.974176Z"
    },
    "papermill": {
     "duration": 0.112843,
     "end_time": "2021-08-20T09:10:04.017403",
     "exception": false,
     "start_time": "2021-08-20T09:10:03.904560",
     "status": "completed"
    },
    "tags": []
   },
   "outputs": [],
   "source": [
    "df_train = pd.read_csv('../input/titanic/train.csv')\n",
    "df_test = pd.read_csv('../input/titanic/test.csv')"
   ]
  },
  {
   "cell_type": "code",
   "execution_count": 3,
   "id": "4590db4d",
   "metadata": {
    "execution": {
     "iopub.execute_input": "2021-08-20T09:10:04.180193Z",
     "iopub.status.busy": "2021-08-20T09:10:04.179316Z",
     "iopub.status.idle": "2021-08-20T09:10:04.205516Z",
     "shell.execute_reply": "2021-08-20T09:10:04.204798Z",
     "shell.execute_reply.started": "2021-08-20T08:56:20.008786Z"
    },
    "papermill": {
     "duration": 0.113464,
     "end_time": "2021-08-20T09:10:04.205660",
     "exception": false,
     "start_time": "2021-08-20T09:10:04.092196",
     "status": "completed"
    },
    "tags": []
   },
   "outputs": [
    {
     "data": {
      "text/html": [
       "<div>\n",
       "<style scoped>\n",
       "    .dataframe tbody tr th:only-of-type {\n",
       "        vertical-align: middle;\n",
       "    }\n",
       "\n",
       "    .dataframe tbody tr th {\n",
       "        vertical-align: top;\n",
       "    }\n",
       "\n",
       "    .dataframe thead th {\n",
       "        text-align: right;\n",
       "    }\n",
       "</style>\n",
       "<table border=\"1\" class=\"dataframe\">\n",
       "  <thead>\n",
       "    <tr style=\"text-align: right;\">\n",
       "      <th></th>\n",
       "      <th>PassengerId</th>\n",
       "      <th>Survived</th>\n",
       "      <th>Pclass</th>\n",
       "      <th>Name</th>\n",
       "      <th>Sex</th>\n",
       "      <th>Age</th>\n",
       "      <th>SibSp</th>\n",
       "      <th>Parch</th>\n",
       "      <th>Ticket</th>\n",
       "      <th>Fare</th>\n",
       "      <th>Cabin</th>\n",
       "      <th>Embarked</th>\n",
       "    </tr>\n",
       "  </thead>\n",
       "  <tbody>\n",
       "    <tr>\n",
       "      <th>0</th>\n",
       "      <td>1</td>\n",
       "      <td>0</td>\n",
       "      <td>3</td>\n",
       "      <td>Braund, Mr. Owen Harris</td>\n",
       "      <td>male</td>\n",
       "      <td>22.0</td>\n",
       "      <td>1</td>\n",
       "      <td>0</td>\n",
       "      <td>A/5 21171</td>\n",
       "      <td>7.2500</td>\n",
       "      <td>NaN</td>\n",
       "      <td>S</td>\n",
       "    </tr>\n",
       "    <tr>\n",
       "      <th>1</th>\n",
       "      <td>2</td>\n",
       "      <td>1</td>\n",
       "      <td>1</td>\n",
       "      <td>Cumings, Mrs. John Bradley (Florence Briggs Th...</td>\n",
       "      <td>female</td>\n",
       "      <td>38.0</td>\n",
       "      <td>1</td>\n",
       "      <td>0</td>\n",
       "      <td>PC 17599</td>\n",
       "      <td>71.2833</td>\n",
       "      <td>C85</td>\n",
       "      <td>C</td>\n",
       "    </tr>\n",
       "    <tr>\n",
       "      <th>2</th>\n",
       "      <td>3</td>\n",
       "      <td>1</td>\n",
       "      <td>3</td>\n",
       "      <td>Heikkinen, Miss. Laina</td>\n",
       "      <td>female</td>\n",
       "      <td>26.0</td>\n",
       "      <td>0</td>\n",
       "      <td>0</td>\n",
       "      <td>STON/O2. 3101282</td>\n",
       "      <td>7.9250</td>\n",
       "      <td>NaN</td>\n",
       "      <td>S</td>\n",
       "    </tr>\n",
       "    <tr>\n",
       "      <th>3</th>\n",
       "      <td>4</td>\n",
       "      <td>1</td>\n",
       "      <td>1</td>\n",
       "      <td>Futrelle, Mrs. Jacques Heath (Lily May Peel)</td>\n",
       "      <td>female</td>\n",
       "      <td>35.0</td>\n",
       "      <td>1</td>\n",
       "      <td>0</td>\n",
       "      <td>113803</td>\n",
       "      <td>53.1000</td>\n",
       "      <td>C123</td>\n",
       "      <td>S</td>\n",
       "    </tr>\n",
       "    <tr>\n",
       "      <th>4</th>\n",
       "      <td>5</td>\n",
       "      <td>0</td>\n",
       "      <td>3</td>\n",
       "      <td>Allen, Mr. William Henry</td>\n",
       "      <td>male</td>\n",
       "      <td>35.0</td>\n",
       "      <td>0</td>\n",
       "      <td>0</td>\n",
       "      <td>373450</td>\n",
       "      <td>8.0500</td>\n",
       "      <td>NaN</td>\n",
       "      <td>S</td>\n",
       "    </tr>\n",
       "  </tbody>\n",
       "</table>\n",
       "</div>"
      ],
      "text/plain": [
       "   PassengerId  Survived  Pclass  \\\n",
       "0            1         0       3   \n",
       "1            2         1       1   \n",
       "2            3         1       3   \n",
       "3            4         1       1   \n",
       "4            5         0       3   \n",
       "\n",
       "                                                Name     Sex   Age  SibSp  \\\n",
       "0                            Braund, Mr. Owen Harris    male  22.0      1   \n",
       "1  Cumings, Mrs. John Bradley (Florence Briggs Th...  female  38.0      1   \n",
       "2                             Heikkinen, Miss. Laina  female  26.0      0   \n",
       "3       Futrelle, Mrs. Jacques Heath (Lily May Peel)  female  35.0      1   \n",
       "4                           Allen, Mr. William Henry    male  35.0      0   \n",
       "\n",
       "   Parch            Ticket     Fare Cabin Embarked  \n",
       "0      0         A/5 21171   7.2500   NaN        S  \n",
       "1      0          PC 17599  71.2833   C85        C  \n",
       "2      0  STON/O2. 3101282   7.9250   NaN        S  \n",
       "3      0            113803  53.1000  C123        S  \n",
       "4      0            373450   8.0500   NaN        S  "
      ]
     },
     "execution_count": 3,
     "metadata": {},
     "output_type": "execute_result"
    }
   ],
   "source": [
    " df_train.head()"
   ]
  },
  {
   "cell_type": "code",
   "execution_count": 4,
   "id": "227fd0a1",
   "metadata": {
    "execution": {
     "iopub.execute_input": "2021-08-20T09:10:04.369020Z",
     "iopub.status.busy": "2021-08-20T09:10:04.367925Z",
     "iopub.status.idle": "2021-08-20T09:10:04.399052Z",
     "shell.execute_reply": "2021-08-20T09:10:04.398479Z",
     "shell.execute_reply.started": "2021-08-20T08:56:20.039174Z"
    },
    "papermill": {
     "duration": 0.117521,
     "end_time": "2021-08-20T09:10:04.399209",
     "exception": false,
     "start_time": "2021-08-20T09:10:04.281688",
     "status": "completed"
    },
    "tags": []
   },
   "outputs": [
    {
     "data": {
      "text/html": [
       "<div>\n",
       "<style scoped>\n",
       "    .dataframe tbody tr th:only-of-type {\n",
       "        vertical-align: middle;\n",
       "    }\n",
       "\n",
       "    .dataframe tbody tr th {\n",
       "        vertical-align: top;\n",
       "    }\n",
       "\n",
       "    .dataframe thead th {\n",
       "        text-align: right;\n",
       "    }\n",
       "</style>\n",
       "<table border=\"1\" class=\"dataframe\">\n",
       "  <thead>\n",
       "    <tr style=\"text-align: right;\">\n",
       "      <th></th>\n",
       "      <th>PassengerId</th>\n",
       "      <th>Survived</th>\n",
       "      <th>Pclass</th>\n",
       "      <th>Age</th>\n",
       "      <th>SibSp</th>\n",
       "      <th>Parch</th>\n",
       "      <th>Fare</th>\n",
       "    </tr>\n",
       "  </thead>\n",
       "  <tbody>\n",
       "    <tr>\n",
       "      <th>count</th>\n",
       "      <td>891.000000</td>\n",
       "      <td>891.000000</td>\n",
       "      <td>891.000000</td>\n",
       "      <td>714.000000</td>\n",
       "      <td>891.000000</td>\n",
       "      <td>891.000000</td>\n",
       "      <td>891.000000</td>\n",
       "    </tr>\n",
       "    <tr>\n",
       "      <th>mean</th>\n",
       "      <td>446.000000</td>\n",
       "      <td>0.383838</td>\n",
       "      <td>2.308642</td>\n",
       "      <td>29.699118</td>\n",
       "      <td>0.523008</td>\n",
       "      <td>0.381594</td>\n",
       "      <td>32.204208</td>\n",
       "    </tr>\n",
       "    <tr>\n",
       "      <th>std</th>\n",
       "      <td>257.353842</td>\n",
       "      <td>0.486592</td>\n",
       "      <td>0.836071</td>\n",
       "      <td>14.526497</td>\n",
       "      <td>1.102743</td>\n",
       "      <td>0.806057</td>\n",
       "      <td>49.693429</td>\n",
       "    </tr>\n",
       "    <tr>\n",
       "      <th>min</th>\n",
       "      <td>1.000000</td>\n",
       "      <td>0.000000</td>\n",
       "      <td>1.000000</td>\n",
       "      <td>0.420000</td>\n",
       "      <td>0.000000</td>\n",
       "      <td>0.000000</td>\n",
       "      <td>0.000000</td>\n",
       "    </tr>\n",
       "    <tr>\n",
       "      <th>25%</th>\n",
       "      <td>223.500000</td>\n",
       "      <td>0.000000</td>\n",
       "      <td>2.000000</td>\n",
       "      <td>20.125000</td>\n",
       "      <td>0.000000</td>\n",
       "      <td>0.000000</td>\n",
       "      <td>7.910400</td>\n",
       "    </tr>\n",
       "    <tr>\n",
       "      <th>50%</th>\n",
       "      <td>446.000000</td>\n",
       "      <td>0.000000</td>\n",
       "      <td>3.000000</td>\n",
       "      <td>28.000000</td>\n",
       "      <td>0.000000</td>\n",
       "      <td>0.000000</td>\n",
       "      <td>14.454200</td>\n",
       "    </tr>\n",
       "    <tr>\n",
       "      <th>75%</th>\n",
       "      <td>668.500000</td>\n",
       "      <td>1.000000</td>\n",
       "      <td>3.000000</td>\n",
       "      <td>38.000000</td>\n",
       "      <td>1.000000</td>\n",
       "      <td>0.000000</td>\n",
       "      <td>31.000000</td>\n",
       "    </tr>\n",
       "    <tr>\n",
       "      <th>max</th>\n",
       "      <td>891.000000</td>\n",
       "      <td>1.000000</td>\n",
       "      <td>3.000000</td>\n",
       "      <td>80.000000</td>\n",
       "      <td>8.000000</td>\n",
       "      <td>6.000000</td>\n",
       "      <td>512.329200</td>\n",
       "    </tr>\n",
       "  </tbody>\n",
       "</table>\n",
       "</div>"
      ],
      "text/plain": [
       "       PassengerId    Survived      Pclass         Age       SibSp  \\\n",
       "count   891.000000  891.000000  891.000000  714.000000  891.000000   \n",
       "mean    446.000000    0.383838    2.308642   29.699118    0.523008   \n",
       "std     257.353842    0.486592    0.836071   14.526497    1.102743   \n",
       "min       1.000000    0.000000    1.000000    0.420000    0.000000   \n",
       "25%     223.500000    0.000000    2.000000   20.125000    0.000000   \n",
       "50%     446.000000    0.000000    3.000000   28.000000    0.000000   \n",
       "75%     668.500000    1.000000    3.000000   38.000000    1.000000   \n",
       "max     891.000000    1.000000    3.000000   80.000000    8.000000   \n",
       "\n",
       "            Parch        Fare  \n",
       "count  891.000000  891.000000  \n",
       "mean     0.381594   32.204208  \n",
       "std      0.806057   49.693429  \n",
       "min      0.000000    0.000000  \n",
       "25%      0.000000    7.910400  \n",
       "50%      0.000000   14.454200  \n",
       "75%      0.000000   31.000000  \n",
       "max      6.000000  512.329200  "
      ]
     },
     "execution_count": 4,
     "metadata": {},
     "output_type": "execute_result"
    }
   ],
   "source": [
    " df_train.describe()"
   ]
  },
  {
   "cell_type": "code",
   "execution_count": 5,
   "id": "e2c813b3",
   "metadata": {
    "execution": {
     "iopub.execute_input": "2021-08-20T09:10:04.555910Z",
     "iopub.status.busy": "2021-08-20T09:10:04.555079Z",
     "iopub.status.idle": "2021-08-20T09:10:04.559300Z",
     "shell.execute_reply": "2021-08-20T09:10:04.558625Z",
     "shell.execute_reply.started": "2021-08-20T08:56:20.100208Z"
    },
    "papermill": {
     "duration": 0.085424,
     "end_time": "2021-08-20T09:10:04.559451",
     "exception": false,
     "start_time": "2021-08-20T09:10:04.474027",
     "status": "completed"
    },
    "tags": []
   },
   "outputs": [
    {
     "data": {
      "text/plain": [
       "(891, 12)"
      ]
     },
     "execution_count": 5,
     "metadata": {},
     "output_type": "execute_result"
    }
   ],
   "source": [
    "df_train.shape"
   ]
  },
  {
   "cell_type": "code",
   "execution_count": 6,
   "id": "c343cea6",
   "metadata": {
    "execution": {
     "iopub.execute_input": "2021-08-20T09:10:04.720152Z",
     "iopub.status.busy": "2021-08-20T09:10:04.718884Z",
     "iopub.status.idle": "2021-08-20T09:10:04.726752Z",
     "shell.execute_reply": "2021-08-20T09:10:04.725622Z",
     "shell.execute_reply.started": "2021-08-20T08:56:20.112369Z"
    },
    "papermill": {
     "duration": 0.092335,
     "end_time": "2021-08-20T09:10:04.726988",
     "exception": false,
     "start_time": "2021-08-20T09:10:04.634653",
     "status": "completed"
    },
    "tags": []
   },
   "outputs": [
    {
     "name": "stdout",
     "output_type": "stream",
     "text": [
      "column: PassengerId\t Percent of NaN Value: 0.000000%\n",
      "column:   Survived\t Percent of NaN Value: 0.000000%\n",
      "column:     Pclass\t Percent of NaN Value: 0.000000%\n",
      "column:       Name\t Percent of NaN Value: 0.000000%\n",
      "column:        Sex\t Percent of NaN Value: 0.000000%\n",
      "column:        Age\t Percent of NaN Value: 19.865320%\n",
      "column:      SibSp\t Percent of NaN Value: 0.000000%\n",
      "column:      Parch\t Percent of NaN Value: 0.000000%\n",
      "column:     Ticket\t Percent of NaN Value: 0.000000%\n",
      "column:       Fare\t Percent of NaN Value: 0.000000%\n",
      "column:      Cabin\t Percent of NaN Value: 77.104377%\n",
      "column:   Embarked\t Percent of NaN Value: 0.224467%\n"
     ]
    }
   ],
   "source": [
    "for col in df_train.columns:\n",
    "    msg = 'column: {:>10}\\t Percent of NaN Value: {:2f}%'.format(col, 100 * (df_train[col].isnull().sum() / df_train[col].shape[0]))\n",
    "    print(msg)"
   ]
  },
  {
   "cell_type": "code",
   "execution_count": 7,
   "id": "19cbc262",
   "metadata": {
    "execution": {
     "iopub.execute_input": "2021-08-20T09:10:04.887444Z",
     "iopub.status.busy": "2021-08-20T09:10:04.886216Z",
     "iopub.status.idle": "2021-08-20T09:10:04.892104Z",
     "shell.execute_reply": "2021-08-20T09:10:04.891490Z",
     "shell.execute_reply.started": "2021-08-20T08:56:20.141924Z"
    },
    "papermill": {
     "duration": 0.088582,
     "end_time": "2021-08-20T09:10:04.892281",
     "exception": false,
     "start_time": "2021-08-20T09:10:04.803699",
     "status": "completed"
    },
    "tags": []
   },
   "outputs": [
    {
     "data": {
      "text/plain": [
       "2"
      ]
     },
     "execution_count": 7,
     "metadata": {},
     "output_type": "execute_result"
    }
   ],
   "source": [
    "df_train[col].isnull().sum()"
   ]
  },
  {
   "cell_type": "code",
   "execution_count": 8,
   "id": "98bbf503",
   "metadata": {
    "execution": {
     "iopub.execute_input": "2021-08-20T09:10:05.057082Z",
     "iopub.status.busy": "2021-08-20T09:10:05.055781Z",
     "iopub.status.idle": "2021-08-20T09:10:05.533264Z",
     "shell.execute_reply": "2021-08-20T09:10:05.532726Z",
     "shell.execute_reply.started": "2021-08-20T08:56:20.160849Z"
    },
    "papermill": {
     "duration": 0.563801,
     "end_time": "2021-08-20T09:10:05.533422",
     "exception": false,
     "start_time": "2021-08-20T09:10:04.969621",
     "status": "completed"
    },
    "tags": []
   },
   "outputs": [
    {
     "data": {
      "text/plain": [
       "<AxesSubplot:>"
      ]
     },
     "execution_count": 8,
     "metadata": {},
     "output_type": "execute_result"
    },
    {
     "data": {
      "image/png": "[encoded data removed]",
      "text/plain": [
       "<Figure size 576x576 with 2 Axes>"
      ]
     },
     "metadata": {
      "needs_background": "light"
     },
     "output_type": "display_data"
    }
   ],
   "source": [
    "msno.matrix(df = df_train.iloc[:, :], figsize=(8, 8), color=(0.8, 0.5, 0.2))"
   ]
  },
  {
   "cell_type": "code",
   "execution_count": 9,
   "id": "26a0b620",
   "metadata": {
    "execution": {
     "iopub.execute_input": "2021-08-20T09:10:05.699305Z",
     "iopub.status.busy": "2021-08-20T09:10:05.698564Z",
     "iopub.status.idle": "2021-08-20T09:10:06.721621Z",
     "shell.execute_reply": "2021-08-20T09:10:06.722429Z",
     "shell.execute_reply.started": "2021-08-20T08:56:20.691369Z"
    },
    "papermill": {
     "duration": 1.111137,
     "end_time": "2021-08-20T09:10:06.722634",
     "exception": false,
     "start_time": "2021-08-20T09:10:05.611497",
     "status": "completed"
    },
    "tags": []
   },
   "outputs": [
    {
     "data": {
      "text/plain": [
       "<AxesSubplot:>"
      ]
     },
     "execution_count": 9,
     "metadata": {},
     "output_type": "execute_result"
    },
    {
     "data": {
      "image/png": "[encoded data removed]",
      "text/plain": [
       "<Figure size 576x576 with 3 Axes>"
      ]
     },
     "metadata": {
      "needs_background": "light"
     },
     "output_type": "display_data"
    }
   ],
   "source": [
    "msno.bar(df = df_train.iloc[:, :], figsize=(8, 8), color=(0.8, 0.5, 0.2))"
   ]
  },
  {
   "cell_type": "code",
   "execution_count": 10,
   "id": "d2a9cd57",
   "metadata": {
    "execution": {
     "iopub.execute_input": "2021-08-20T09:10:06.893086Z",
     "iopub.status.busy": "2021-08-20T09:10:06.892038Z",
     "iopub.status.idle": "2021-08-20T09:10:07.205827Z",
     "shell.execute_reply": "2021-08-20T09:10:07.206455Z",
     "shell.execute_reply.started": "2021-08-20T08:56:21.878131Z"
    },
    "papermill": {
     "duration": 0.401095,
     "end_time": "2021-08-20T09:10:07.206637",
     "exception": false,
     "start_time": "2021-08-20T09:10:06.805542",
     "status": "completed"
    },
    "tags": []
   },
   "outputs": [
    {
     "data": {
      "image/png": "[encoded data removed]",
      "text/plain": [
       "<Figure size 1296x576 with 2 Axes>"
      ]
     },
     "metadata": {
      "needs_background": "light"
     },
     "output_type": "display_data"
    }
   ],
   "source": [
    "f, ax = plt.subplots(1, 2, figsize=(18, 8))\n",
    "\n",
    "df_train['Survived'].value_counts().plot.pie(explode=[0, 0.1], autopct='%1.1f%%', ax=ax[0], shadow=True)\n",
    "ax[0].set_title('Pie plot - Survived')\n",
    "ax[0].set_ylabel('')\n",
    "sns.countplot('Survived', data=df_train, ax=ax[1])\n",
    "plt.show()"
   ]
  },
  {
   "cell_type": "code",
   "execution_count": 11,
   "id": "41f731ab",
   "metadata": {
    "execution": {
     "iopub.execute_input": "2021-08-20T09:10:07.378597Z",
     "iopub.status.busy": "2021-08-20T09:10:07.377460Z",
     "iopub.status.idle": "2021-08-20T09:10:07.506199Z",
     "shell.execute_reply": "2021-08-20T09:10:07.506914Z",
     "shell.execute_reply.started": "2021-08-20T08:56:22.190117Z"
    },
    "papermill": {
     "duration": 0.217645,
     "end_time": "2021-08-20T09:10:07.507110",
     "exception": false,
     "start_time": "2021-08-20T09:10:07.289465",
     "status": "completed"
    },
    "tags": []
   },
   "outputs": [
    {
     "data": {
      "text/plain": [
       "<AxesSubplot:ylabel='Survived'>"
      ]
     },
     "execution_count": 11,
     "metadata": {},
     "output_type": "execute_result"
    },
    {
     "data": {
      "image/png": "[encoded data removed]",
      "text/plain": [
       "<Figure size 432x288 with 1 Axes>"
      ]
     },
     "metadata": {},
     "output_type": "display_data"
    }
   ],
   "source": [
    "df_train['Survived'].value_counts().plot.pie(explode=[0, 0.1], autopct='%1.1f%%', shadow=True)"
   ]
  },
  {
   "cell_type": "markdown",
   "id": "5166cf0e",
   "metadata": {
    "papermill": {
     "duration": 0.085671,
     "end_time": "2021-08-20T09:10:07.678176",
     "exception": false,
     "start_time": "2021-08-20T09:10:07.592505",
     "status": "completed"
    },
    "tags": []
   },
   "source": [
    "**2.1Pclass**"
   ]
  },
  {
   "cell_type": "code",
   "execution_count": 12,
   "id": "8cc91d37",
   "metadata": {
    "execution": {
     "iopub.execute_input": "2021-08-20T09:10:07.860724Z",
     "iopub.status.busy": "2021-08-20T09:10:07.855037Z",
     "iopub.status.idle": "2021-08-20T09:10:07.869333Z",
     "shell.execute_reply": "2021-08-20T09:10:07.869908Z",
     "shell.execute_reply.started": "2021-08-20T08:56:22.387078Z"
    },
    "papermill": {
     "duration": 0.106102,
     "end_time": "2021-08-20T09:10:07.870114",
     "exception": false,
     "start_time": "2021-08-20T09:10:07.764012",
     "status": "completed"
    },
    "tags": []
   },
   "outputs": [
    {
     "data": {
      "text/html": [
       "<div>\n",
       "<style scoped>\n",
       "    .dataframe tbody tr th:only-of-type {\n",
       "        vertical-align: middle;\n",
       "    }\n",
       "\n",
       "    .dataframe tbody tr th {\n",
       "        vertical-align: top;\n",
       "    }\n",
       "\n",
       "    .dataframe thead th {\n",
       "        text-align: right;\n",
       "    }\n",
       "</style>\n",
       "<table border=\"1\" class=\"dataframe\">\n",
       "  <thead>\n",
       "    <tr style=\"text-align: right;\">\n",
       "      <th></th>\n",
       "      <th>Survived</th>\n",
       "    </tr>\n",
       "    <tr>\n",
       "      <th>Pclass</th>\n",
       "      <th></th>\n",
       "    </tr>\n",
       "  </thead>\n",
       "  <tbody>\n",
       "    <tr>\n",
       "      <th>1</th>\n",
       "      <td>216</td>\n",
       "    </tr>\n",
       "    <tr>\n",
       "      <th>2</th>\n",
       "      <td>184</td>\n",
       "    </tr>\n",
       "    <tr>\n",
       "      <th>3</th>\n",
       "      <td>491</td>\n",
       "    </tr>\n",
       "  </tbody>\n",
       "</table>\n",
       "</div>"
      ],
      "text/plain": [
       "        Survived\n",
       "Pclass          \n",
       "1            216\n",
       "2            184\n",
       "3            491"
      ]
     },
     "execution_count": 12,
     "metadata": {},
     "output_type": "execute_result"
    }
   ],
   "source": [
    "df_train[['Pclass', 'Survived']].groupby(['Pclass'], as_index=True).count()"
   ]
  },
  {
   "cell_type": "code",
   "execution_count": 13,
   "id": "e4642345",
   "metadata": {
    "execution": {
     "iopub.execute_input": "2021-08-20T09:10:08.041969Z",
     "iopub.status.busy": "2021-08-20T09:10:08.040867Z",
     "iopub.status.idle": "2021-08-20T09:10:08.053725Z",
     "shell.execute_reply": "2021-08-20T09:10:08.054217Z",
     "shell.execute_reply.started": "2021-08-20T08:56:22.408751Z"
    },
    "papermill": {
     "duration": 0.100965,
     "end_time": "2021-08-20T09:10:08.054431",
     "exception": false,
     "start_time": "2021-08-20T09:10:07.953466",
     "status": "completed"
    },
    "tags": []
   },
   "outputs": [
    {
     "data": {
      "text/html": [
       "<div>\n",
       "<style scoped>\n",
       "    .dataframe tbody tr th:only-of-type {\n",
       "        vertical-align: middle;\n",
       "    }\n",
       "\n",
       "    .dataframe tbody tr th {\n",
       "        vertical-align: top;\n",
       "    }\n",
       "\n",
       "    .dataframe thead th {\n",
       "        text-align: right;\n",
       "    }\n",
       "</style>\n",
       "<table border=\"1\" class=\"dataframe\">\n",
       "  <thead>\n",
       "    <tr style=\"text-align: right;\">\n",
       "      <th></th>\n",
       "      <th>Survived</th>\n",
       "    </tr>\n",
       "    <tr>\n",
       "      <th>Pclass</th>\n",
       "      <th></th>\n",
       "    </tr>\n",
       "  </thead>\n",
       "  <tbody>\n",
       "    <tr>\n",
       "      <th>1</th>\n",
       "      <td>136</td>\n",
       "    </tr>\n",
       "    <tr>\n",
       "      <th>2</th>\n",
       "      <td>87</td>\n",
       "    </tr>\n",
       "    <tr>\n",
       "      <th>3</th>\n",
       "      <td>119</td>\n",
       "    </tr>\n",
       "  </tbody>\n",
       "</table>\n",
       "</div>"
      ],
      "text/plain": [
       "        Survived\n",
       "Pclass          \n",
       "1            136\n",
       "2             87\n",
       "3            119"
      ]
     },
     "execution_count": 13,
     "metadata": {},
     "output_type": "execute_result"
    }
   ],
   "source": [
    "df_train[['Pclass', 'Survived']].groupby(['Pclass']).sum()"
   ]
  },
  {
   "cell_type": "code",
   "execution_count": 14,
   "id": "a7a7100b",
   "metadata": {
    "execution": {
     "iopub.execute_input": "2021-08-20T09:10:08.227896Z",
     "iopub.status.busy": "2021-08-20T09:10:08.226884Z",
     "iopub.status.idle": "2021-08-20T09:10:08.445555Z",
     "shell.execute_reply": "2021-08-20T09:10:08.444972Z",
     "shell.execute_reply.started": "2021-08-20T08:56:22.439964Z"
    },
    "papermill": {
     "duration": 0.305839,
     "end_time": "2021-08-20T09:10:08.445728",
     "exception": false,
     "start_time": "2021-08-20T09:10:08.139889",
     "status": "completed"
    },
    "tags": []
   },
   "outputs": [
    {
     "data": {
      "text/html": [
       "<style  type=\"text/css\" >\n",
       "#T_d346d_row0_col0,#T_d346d_row1_col1,#T_d346d_row1_col2{\n",
       "            background-color:  #ffff66;\n",
       "            color:  #000000;\n",
       "        }#T_d346d_row0_col1{\n",
       "            background-color:  #cee666;\n",
       "            color:  #000000;\n",
       "        }#T_d346d_row0_col2{\n",
       "            background-color:  #f4fa66;\n",
       "            color:  #000000;\n",
       "        }#T_d346d_row1_col0{\n",
       "            background-color:  #f6fa66;\n",
       "            color:  #000000;\n",
       "        }#T_d346d_row2_col0{\n",
       "            background-color:  #60b066;\n",
       "            color:  #000000;\n",
       "        }#T_d346d_row2_col1{\n",
       "            background-color:  #dfef66;\n",
       "            color:  #000000;\n",
       "        }#T_d346d_row2_col2{\n",
       "            background-color:  #90c866;\n",
       "            color:  #000000;\n",
       "        }#T_d346d_row3_col0,#T_d346d_row3_col1,#T_d346d_row3_col2{\n",
       "            background-color:  #008066;\n",
       "            color:  #f1f1f1;\n",
       "        }</style><table id=\"T_d346d_\" ><thead>    <tr>        <th class=\"index_name level0\" >Survived</th>        <th class=\"col_heading level0 col0\" >0</th>        <th class=\"col_heading level0 col1\" >1</th>        <th class=\"col_heading level0 col2\" >All</th>    </tr>    <tr>        <th class=\"index_name level0\" >Pclass</th>        <th class=\"blank\" ></th>        <th class=\"blank\" ></th>        <th class=\"blank\" ></th>    </tr></thead><tbody>\n",
       "                <tr>\n",
       "                        <th id=\"T_d346d_level0_row0\" class=\"row_heading level0 row0\" >1</th>\n",
       "                        <td id=\"T_d346d_row0_col0\" class=\"data row0 col0\" >80</td>\n",
       "                        <td id=\"T_d346d_row0_col1\" class=\"data row0 col1\" >136</td>\n",
       "                        <td id=\"T_d346d_row0_col2\" class=\"data row0 col2\" >216</td>\n",
       "            </tr>\n",
       "            <tr>\n",
       "                        <th id=\"T_d346d_level0_row1\" class=\"row_heading level0 row1\" >2</th>\n",
       "                        <td id=\"T_d346d_row1_col0\" class=\"data row1 col0\" >97</td>\n",
       "                        <td id=\"T_d346d_row1_col1\" class=\"data row1 col1\" >87</td>\n",
       "                        <td id=\"T_d346d_row1_col2\" class=\"data row1 col2\" >184</td>\n",
       "            </tr>\n",
       "            <tr>\n",
       "                        <th id=\"T_d346d_level0_row2\" class=\"row_heading level0 row2\" >3</th>\n",
       "                        <td id=\"T_d346d_row2_col0\" class=\"data row2 col0\" >372</td>\n",
       "                        <td id=\"T_d346d_row2_col1\" class=\"data row2 col1\" >119</td>\n",
       "                        <td id=\"T_d346d_row2_col2\" class=\"data row2 col2\" >491</td>\n",
       "            </tr>\n",
       "            <tr>\n",
       "                        <th id=\"T_d346d_level0_row3\" class=\"row_heading level0 row3\" >All</th>\n",
       "                        <td id=\"T_d346d_row3_col0\" class=\"data row3 col0\" >549</td>\n",
       "                        <td id=\"T_d346d_row3_col1\" class=\"data row3 col1\" >342</td>\n",
       "                        <td id=\"T_d346d_row3_col2\" class=\"data row3 col2\" >891</td>\n",
       "            </tr>\n",
       "    </tbody></table>"
      ],
      "text/plain": [
       "<pandas.io.formats.style.Styler at 0x7f5c7d91cb10>"
      ]
     },
     "execution_count": 14,
     "metadata": {},
     "output_type": "execute_result"
    }
   ],
   "source": [
    "pd.crosstab(df_train['Pclass'], df_train['Survived'], margins=True).style.background_gradient(cmap='summer_r')"
   ]
  },
  {
   "cell_type": "code",
   "execution_count": 15,
   "id": "4c55f080",
   "metadata": {
    "execution": {
     "iopub.execute_input": "2021-08-20T09:10:08.630373Z",
     "iopub.status.busy": "2021-08-20T09:10:08.629661Z",
     "iopub.status.idle": "2021-08-20T09:10:08.816523Z",
     "shell.execute_reply": "2021-08-20T09:10:08.817032Z",
     "shell.execute_reply.started": "2021-08-20T08:56:22.521512Z"
    },
    "papermill": {
     "duration": 0.281599,
     "end_time": "2021-08-20T09:10:08.817234",
     "exception": false,
     "start_time": "2021-08-20T09:10:08.535635",
     "status": "completed"
    },
    "tags": []
   },
   "outputs": [
    {
     "data": {
      "text/plain": [
       "<AxesSubplot:xlabel='Pclass'>"
      ]
     },
     "execution_count": 15,
     "metadata": {},
     "output_type": "execute_result"
    },
    {
     "data": {
      "image/png": "[encoded data removed]",
      "text/plain": [
       "<Figure size 432x288 with 1 Axes>"
      ]
     },
     "metadata": {
      "needs_background": "light"
     },
     "output_type": "display_data"
    }
   ],
   "source": [
    "df_train[['Pclass', 'Survived']].groupby(['Pclass'], as_index=True).mean().sort_values(by='Survived', ascending=False).plot.bar()"
   ]
  },
  {
   "cell_type": "code",
   "execution_count": 16,
   "id": "8ff835fc",
   "metadata": {
    "execution": {
     "iopub.execute_input": "2021-08-20T09:10:08.993745Z",
     "iopub.status.busy": "2021-08-20T09:10:08.993048Z",
     "iopub.status.idle": "2021-08-20T09:10:09.005343Z",
     "shell.execute_reply": "2021-08-20T09:10:09.004531Z",
     "shell.execute_reply.started": "2021-08-20T08:56:22.738444Z"
    },
    "papermill": {
     "duration": 0.101741,
     "end_time": "2021-08-20T09:10:09.005510",
     "exception": false,
     "start_time": "2021-08-20T09:10:08.903769",
     "status": "completed"
    },
    "tags": []
   },
   "outputs": [
    {
     "data": {
      "text/html": [
       "<div>\n",
       "<style scoped>\n",
       "    .dataframe tbody tr th:only-of-type {\n",
       "        vertical-align: middle;\n",
       "    }\n",
       "\n",
       "    .dataframe tbody tr th {\n",
       "        vertical-align: top;\n",
       "    }\n",
       "\n",
       "    .dataframe thead th {\n",
       "        text-align: right;\n",
       "    }\n",
       "</style>\n",
       "<table border=\"1\" class=\"dataframe\">\n",
       "  <thead>\n",
       "    <tr style=\"text-align: right;\">\n",
       "      <th></th>\n",
       "      <th>Survived</th>\n",
       "    </tr>\n",
       "    <tr>\n",
       "      <th>Pclass</th>\n",
       "      <th></th>\n",
       "    </tr>\n",
       "  </thead>\n",
       "  <tbody>\n",
       "    <tr>\n",
       "      <th>1</th>\n",
       "      <td>216</td>\n",
       "    </tr>\n",
       "    <tr>\n",
       "      <th>2</th>\n",
       "      <td>184</td>\n",
       "    </tr>\n",
       "    <tr>\n",
       "      <th>3</th>\n",
       "      <td>491</td>\n",
       "    </tr>\n",
       "  </tbody>\n",
       "</table>\n",
       "</div>"
      ],
      "text/plain": [
       "        Survived\n",
       "Pclass          \n",
       "1            216\n",
       "2            184\n",
       "3            491"
      ]
     },
     "execution_count": 16,
     "metadata": {},
     "output_type": "execute_result"
    }
   ],
   "source": [
    "df_train[['Pclass', 'Survived']].groupby(['Pclass'], as_index=True).count()"
   ]
  },
  {
   "cell_type": "code",
   "execution_count": 17,
   "id": "d5fef802",
   "metadata": {
    "execution": {
     "iopub.execute_input": "2021-08-20T09:10:09.184294Z",
     "iopub.status.busy": "2021-08-20T09:10:09.183402Z",
     "iopub.status.idle": "2021-08-20T09:10:09.478978Z",
     "shell.execute_reply": "2021-08-20T09:10:09.479493Z",
     "shell.execute_reply.started": "2021-08-20T08:56:22.759243Z"
    },
    "papermill": {
     "duration": 0.38777,
     "end_time": "2021-08-20T09:10:09.479694",
     "exception": false,
     "start_time": "2021-08-20T09:10:09.091924",
     "status": "completed"
    },
    "tags": []
   },
   "outputs": [
    {
     "data": {
      "image/png": "[encoded data removed]",
      "text/plain": [
       "<Figure size 1296x576 with 2 Axes>"
      ]
     },
     "metadata": {
      "needs_background": "light"
     },
     "output_type": "display_data"
    }
   ],
   "source": [
    "y_position = 1.02\n",
    "f, ax = plt.subplots(1, 2, figsize=(18, 8))\n",
    "df_train['Pclass'].value_counts().plot.bar(color=['#CD7F32', '#FFDF00', '#D3D3D3'], ax=ax[0])\n",
    "ax[0].set_title('Number of passengers By Pclass', y=y_position)\n",
    "ax[0].set_ylabel('Count')\n",
    "sns.countplot('Pclass', hue='Survived', data=df_train, ax=ax[1])\n",
    "ax[1].set_title('Pclass: Survived vs Dead', y=y_position)\n",
    "plt.show()"
   ]
  },
  {
   "cell_type": "markdown",
   "id": "f4885581",
   "metadata": {
    "papermill": {
     "duration": 0.088324,
     "end_time": "2021-08-20T09:10:09.656949",
     "exception": false,
     "start_time": "2021-08-20T09:10:09.568625",
     "status": "completed"
    },
    "tags": []
   },
   "source": [
    "**2.2 Sex**"
   ]
  },
  {
   "cell_type": "code",
   "execution_count": 18,
   "id": "e11dc066",
   "metadata": {
    "execution": {
     "iopub.execute_input": "2021-08-20T09:10:09.836809Z",
     "iopub.status.busy": "2021-08-20T09:10:09.836024Z",
     "iopub.status.idle": "2021-08-20T09:10:10.170724Z",
     "shell.execute_reply": "2021-08-20T09:10:10.171279Z",
     "shell.execute_reply.started": "2021-08-20T08:56:23.524643Z"
    },
    "papermill": {
     "duration": 0.426574,
     "end_time": "2021-08-20T09:10:10.171492",
     "exception": false,
     "start_time": "2021-08-20T09:10:09.744918",
     "status": "completed"
    },
    "tags": []
   },
   "outputs": [
    {
     "data": {
      "image/png": "[encoded data removed]",
      "text/plain": [
       "<Figure size 1296x576 with 2 Axes>"
      ]
     },
     "metadata": {
      "needs_background": "light"
     },
     "output_type": "display_data"
    }
   ],
   "source": [
    "f, ax = plt.subplots(1, 2, figsize=(18, 8))\n",
    "df_train[['Sex', 'Survived']].groupby(['Sex'], as_index=True).mean().plot.bar(ax=ax[0])\n",
    "ax[0].set_title('Survived vs Sex')\n",
    "sns.countplot('Sex', hue='Survived', data=df_train, ax=ax[1])\n",
    "ax[1].set_title('Sex: Survived vs Dead')\n",
    "plt.show()"
   ]
  },
  {
   "cell_type": "code",
   "execution_count": 19,
   "id": "2e39b6a1",
   "metadata": {
    "execution": {
     "iopub.execute_input": "2021-08-20T09:10:10.354662Z",
     "iopub.status.busy": "2021-08-20T09:10:10.353948Z",
     "iopub.status.idle": "2021-08-20T09:10:10.368428Z",
     "shell.execute_reply": "2021-08-20T09:10:10.367760Z",
     "shell.execute_reply.started": "2021-08-20T08:56:23.921870Z"
    },
    "papermill": {
     "duration": 0.107448,
     "end_time": "2021-08-20T09:10:10.368586",
     "exception": false,
     "start_time": "2021-08-20T09:10:10.261138",
     "status": "completed"
    },
    "tags": []
   },
   "outputs": [
    {
     "data": {
      "text/html": [
       "<div>\n",
       "<style scoped>\n",
       "    .dataframe tbody tr th:only-of-type {\n",
       "        vertical-align: middle;\n",
       "    }\n",
       "\n",
       "    .dataframe tbody tr th {\n",
       "        vertical-align: top;\n",
       "    }\n",
       "\n",
       "    .dataframe thead th {\n",
       "        text-align: right;\n",
       "    }\n",
       "</style>\n",
       "<table border=\"1\" class=\"dataframe\">\n",
       "  <thead>\n",
       "    <tr style=\"text-align: right;\">\n",
       "      <th></th>\n",
       "      <th>Survived</th>\n",
       "    </tr>\n",
       "    <tr>\n",
       "      <th>Sex</th>\n",
       "      <th></th>\n",
       "    </tr>\n",
       "  </thead>\n",
       "  <tbody>\n",
       "    <tr>\n",
       "      <th>female</th>\n",
       "      <td>0.742038</td>\n",
       "    </tr>\n",
       "    <tr>\n",
       "      <th>male</th>\n",
       "      <td>0.188908</td>\n",
       "    </tr>\n",
       "  </tbody>\n",
       "</table>\n",
       "</div>"
      ],
      "text/plain": [
       "        Survived\n",
       "Sex             \n",
       "female  0.742038\n",
       "male    0.188908"
      ]
     },
     "execution_count": 19,
     "metadata": {},
     "output_type": "execute_result"
    }
   ],
   "source": [
    "df_train[['Sex', 'Survived']].groupby(['Sex'], as_index=True).mean()"
   ]
  },
  {
   "cell_type": "code",
   "execution_count": 20,
   "id": "12475fe4",
   "metadata": {
    "execution": {
     "iopub.execute_input": "2021-08-20T09:10:10.573118Z",
     "iopub.status.busy": "2021-08-20T09:10:10.568622Z",
     "iopub.status.idle": "2021-08-20T09:10:10.614286Z",
     "shell.execute_reply": "2021-08-20T09:10:10.613645Z",
     "shell.execute_reply.started": "2021-08-20T08:56:23.944957Z"
    },
    "papermill": {
     "duration": 0.156083,
     "end_time": "2021-08-20T09:10:10.614441",
     "exception": false,
     "start_time": "2021-08-20T09:10:10.458358",
     "status": "completed"
    },
    "tags": []
   },
   "outputs": [
    {
     "data": {
      "text/html": [
       "<style  type=\"text/css\" >\n",
       "#T_3bd67_row0_col0,#T_3bd67_row0_col2,#T_3bd67_row1_col1{\n",
       "            background-color:  #ffff66;\n",
       "            color:  #000000;\n",
       "        }#T_3bd67_row0_col1{\n",
       "            background-color:  #77bb66;\n",
       "            color:  #000000;\n",
       "        }#T_3bd67_row1_col0{\n",
       "            background-color:  #2c9666;\n",
       "            color:  #000000;\n",
       "        }#T_3bd67_row1_col2{\n",
       "            background-color:  #8bc566;\n",
       "            color:  #000000;\n",
       "        }#T_3bd67_row2_col0,#T_3bd67_row2_col1,#T_3bd67_row2_col2{\n",
       "            background-color:  #008066;\n",
       "            color:  #f1f1f1;\n",
       "        }</style><table id=\"T_3bd67_\" ><thead>    <tr>        <th class=\"index_name level0\" >Survived</th>        <th class=\"col_heading level0 col0\" >0</th>        <th class=\"col_heading level0 col1\" >1</th>        <th class=\"col_heading level0 col2\" >All</th>    </tr>    <tr>        <th class=\"index_name level0\" >Sex</th>        <th class=\"blank\" ></th>        <th class=\"blank\" ></th>        <th class=\"blank\" ></th>    </tr></thead><tbody>\n",
       "                <tr>\n",
       "                        <th id=\"T_3bd67_level0_row0\" class=\"row_heading level0 row0\" >female</th>\n",
       "                        <td id=\"T_3bd67_row0_col0\" class=\"data row0 col0\" >81</td>\n",
       "                        <td id=\"T_3bd67_row0_col1\" class=\"data row0 col1\" >233</td>\n",
       "                        <td id=\"T_3bd67_row0_col2\" class=\"data row0 col2\" >314</td>\n",
       "            </tr>\n",
       "            <tr>\n",
       "                        <th id=\"T_3bd67_level0_row1\" class=\"row_heading level0 row1\" >male</th>\n",
       "                        <td id=\"T_3bd67_row1_col0\" class=\"data row1 col0\" >468</td>\n",
       "                        <td id=\"T_3bd67_row1_col1\" class=\"data row1 col1\" >109</td>\n",
       "                        <td id=\"T_3bd67_row1_col2\" class=\"data row1 col2\" >577</td>\n",
       "            </tr>\n",
       "            <tr>\n",
       "                        <th id=\"T_3bd67_level0_row2\" class=\"row_heading level0 row2\" >All</th>\n",
       "                        <td id=\"T_3bd67_row2_col0\" class=\"data row2 col0\" >549</td>\n",
       "                        <td id=\"T_3bd67_row2_col1\" class=\"data row2 col1\" >342</td>\n",
       "                        <td id=\"T_3bd67_row2_col2\" class=\"data row2 col2\" >891</td>\n",
       "            </tr>\n",
       "    </tbody></table>"
      ],
      "text/plain": [
       "<pandas.io.formats.style.Styler at 0x7f5c7b1cd9d0>"
      ]
     },
     "execution_count": 20,
     "metadata": {},
     "output_type": "execute_result"
    }
   ],
   "source": [
    "pd.crosstab(df_train['Sex'], df_train['Survived'], margins=True).style.background_gradient(cmap='summer_r')"
   ]
  },
  {
   "cell_type": "code",
   "execution_count": 21,
   "id": "54237417",
   "metadata": {
    "execution": {
     "iopub.execute_input": "2021-08-20T09:10:10.806606Z",
     "iopub.status.busy": "2021-08-20T09:10:10.805877Z",
     "iopub.status.idle": "2021-08-20T09:10:11.528915Z",
     "shell.execute_reply": "2021-08-20T09:10:11.528297Z",
     "shell.execute_reply.started": "2021-08-20T08:56:24.024770Z"
    },
    "papermill": {
     "duration": 0.822525,
     "end_time": "2021-08-20T09:10:11.529069",
     "exception": false,
     "start_time": "2021-08-20T09:10:10.706544",
     "status": "completed"
    },
    "tags": []
   },
   "outputs": [
    {
     "data": {
      "text/plain": [
       "<seaborn.axisgrid.FacetGrid at 0x7f5c7b323e90>"
      ]
     },
     "execution_count": 21,
     "metadata": {},
     "output_type": "execute_result"
    },
    {
     "data": {
      "image/png": "[encoded data removed]",
      "text/plain": [
       "<Figure size 734.125x360 with 1 Axes>"
      ]
     },
     "metadata": {
      "needs_background": "light"
     },
     "output_type": "display_data"
    }
   ],
   "source": [
    "sns.factorplot('Pclass', 'Survived', hue='Sex', data=df_train, aspect=1.5)"
   ]
  },
  {
   "cell_type": "markdown",
   "id": "7c4230f9",
   "metadata": {
    "papermill": {
     "duration": 0.092876,
     "end_time": "2021-08-20T09:10:11.714767",
     "exception": false,
     "start_time": "2021-08-20T09:10:11.621891",
     "status": "completed"
    },
    "tags": []
   },
   "source": [
    "- Lady first,\n",
    "- Money brings survival?"
   ]
  },
  {
   "cell_type": "code",
   "execution_count": 22,
   "id": "82799b87",
   "metadata": {
    "execution": {
     "iopub.execute_input": "2021-08-20T09:10:11.916069Z",
     "iopub.status.busy": "2021-08-20T09:10:11.914944Z",
     "iopub.status.idle": "2021-08-20T09:10:12.917615Z",
     "shell.execute_reply": "2021-08-20T09:10:12.917047Z",
     "shell.execute_reply.started": "2021-08-20T08:56:24.819470Z"
    },
    "papermill": {
     "duration": 1.106418,
     "end_time": "2021-08-20T09:10:12.917758",
     "exception": false,
     "start_time": "2021-08-20T09:10:11.811340",
     "status": "completed"
    },
    "tags": []
   },
   "outputs": [
    {
     "data": {
      "text/plain": [
       "<seaborn.axisgrid.FacetGrid at 0x7f5c7b309650>"
      ]
     },
     "execution_count": 22,
     "metadata": {},
     "output_type": "execute_result"
    },
    {
     "data": {
      "image/png": "[encoded data removed]",
      "text/plain": [
       "<Figure size 1944x648 with 3 Axes>"
      ]
     },
     "metadata": {
      "needs_background": "light"
     },
     "output_type": "display_data"
    }
   ],
   "source": [
    "sns.factorplot(x='Sex', y='Survived', col='Pclass', data=df_train, saturation=.5, size=9, aspect=1)"
   ]
  },
  {
   "cell_type": "markdown",
   "id": "6bf9c96c",
   "metadata": {
    "papermill": {
     "duration": 0.094949,
     "end_time": "2021-08-20T09:10:13.109867",
     "exception": false,
     "start_time": "2021-08-20T09:10:13.014918",
     "status": "completed"
    },
    "tags": []
   },
   "source": [
    "**Age**"
   ]
  },
  {
   "cell_type": "code",
   "execution_count": 23,
   "id": "5cb5f1c1",
   "metadata": {
    "execution": {
     "iopub.execute_input": "2021-08-20T09:10:13.308856Z",
     "iopub.status.busy": "2021-08-20T09:10:13.308103Z",
     "iopub.status.idle": "2021-08-20T09:10:13.311638Z",
     "shell.execute_reply": "2021-08-20T09:10:13.312568Z",
     "shell.execute_reply.started": "2021-08-20T08:56:25.873253Z"
    },
    "papermill": {
     "duration": 0.106886,
     "end_time": "2021-08-20T09:10:13.312838",
     "exception": false,
     "start_time": "2021-08-20T09:10:13.205952",
     "status": "completed"
    },
    "tags": []
   },
   "outputs": [
    {
     "name": "stdout",
     "output_type": "stream",
     "text": [
      "제일 나이 많은 탑승객: 80.0 years\n",
      "제일 어린 탑승객: 0.4 years\n",
      "탑승객 평균 나이: 29.7 years\n"
     ]
    }
   ],
   "source": [
    "print(\"제일 나이 많은 탑승객: {:.1f} years\".format(df_train['Age'].max()))\n",
    "print(\"제일 어린 탑승객: {:.1f} years\".format(df_train['Age'].min()))\n",
    "print(\"탑승객 평균 나이: {:.1f} years\".format(df_train['Age'].mean()))"
   ]
  },
  {
   "cell_type": "code",
   "execution_count": 24,
   "id": "abac5129",
   "metadata": {
    "execution": {
     "iopub.execute_input": "2021-08-20T09:10:13.508434Z",
     "iopub.status.busy": "2021-08-20T09:10:13.507733Z",
     "iopub.status.idle": "2021-08-20T09:10:13.912333Z",
     "shell.execute_reply": "2021-08-20T09:10:13.911683Z",
     "shell.execute_reply.started": "2021-08-20T08:56:25.885708Z"
    },
    "papermill": {
     "duration": 0.501895,
     "end_time": "2021-08-20T09:10:13.912486",
     "exception": false,
     "start_time": "2021-08-20T09:10:13.410591",
     "status": "completed"
    },
    "tags": []
   },
   "outputs": [
    {
     "data": {
      "image/png": "[encoded data removed]",
      "text/plain": [
       "<Figure size 648x360 with 1 Axes>"
      ]
     },
     "metadata": {
      "needs_background": "light"
     },
     "output_type": "display_data"
    }
   ],
   "source": [
    "fig, ax = plt.subplots(1, 1, figsize=(9, 5))\n",
    "sns.kdeplot(df_train[df_train['Survived'] == 1]['Age'], ax=ax)\n",
    "sns.kdeplot(df_train[df_train['Survived'] == 0]['Age'], ax=ax)\n",
    "plt.legend(['Survived == 1', 'Survived == 0'])\n",
    "plt.show()"
   ]
  },
  {
   "cell_type": "code",
   "execution_count": 25,
   "id": "ddb14a22",
   "metadata": {
    "execution": {
     "iopub.execute_input": "2021-08-20T09:10:14.159324Z",
     "iopub.status.busy": "2021-08-20T09:10:14.158629Z",
     "iopub.status.idle": "2021-08-20T09:10:14.343569Z",
     "shell.execute_reply": "2021-08-20T09:10:14.344090Z",
     "shell.execute_reply.started": "2021-08-20T08:56:26.188867Z"
    },
    "papermill": {
     "duration": 0.331526,
     "end_time": "2021-08-20T09:10:14.344316",
     "exception": false,
     "start_time": "2021-08-20T09:10:14.012790",
     "status": "completed"
    },
    "tags": []
   },
   "outputs": [
    {
     "data": {
      "text/plain": [
       "<AxesSubplot:>"
      ]
     },
     "execution_count": 25,
     "metadata": {},
     "output_type": "execute_result"
    },
    {
     "data": {
      "image/png": "[encoded data removed]",
      "text/plain": [
       "<Figure size 432x288 with 1 Axes>"
      ]
     },
     "metadata": {
      "needs_background": "light"
     },
     "output_type": "display_data"
    }
   ],
   "source": [
    "df_train[df_train['Survived'] == 1]['Age'].hist()"
   ]
  },
  {
   "cell_type": "code",
   "execution_count": 26,
   "id": "5771665c",
   "metadata": {
    "execution": {
     "iopub.execute_input": "2021-08-20T09:10:14.545874Z",
     "iopub.status.busy": "2021-08-20T09:10:14.545089Z",
     "iopub.status.idle": "2021-08-20T09:10:14.865581Z",
     "shell.execute_reply": "2021-08-20T09:10:14.866104Z",
     "shell.execute_reply.started": "2021-08-20T08:56:26.440057Z"
    },
    "papermill": {
     "duration": 0.424223,
     "end_time": "2021-08-20T09:10:14.866298",
     "exception": false,
     "start_time": "2021-08-20T09:10:14.442075",
     "status": "completed"
    },
    "tags": []
   },
   "outputs": [
    {
     "data": {
      "text/plain": [
       "<matplotlib.legend.Legend at 0x7f5c6ac2ed50>"
      ]
     },
     "execution_count": 26,
     "metadata": {},
     "output_type": "execute_result"
    },
    {
     "data": {
      "image/png": "[encoded data removed]",
      "text/plain": [
       "<Figure size 576x432 with 1 Axes>"
      ]
     },
     "metadata": {
      "needs_background": "light"
     },
     "output_type": "display_data"
    }
   ],
   "source": [
    "plt.figure(figsize=(8, 6))\n",
    "df_train['Age'][df_train['Pclass'] == 1].plot(kind='kde')\n",
    "df_train['Age'][df_train['Pclass'] == 2].plot(kind='kde')\n",
    "df_train['Age'][df_train['Pclass'] == 3].plot(kind='kde')\n",
    "\n",
    "plt.xlabel('Age')  # ax = set_xlabel()\n",
    "plt.title('Age Distribution within classes')\n",
    "plt.legend(['1st Class', '2nd Class', '3rd Class'])"
   ]
  },
  {
   "cell_type": "code",
   "execution_count": 27,
   "id": "e0608bc4",
   "metadata": {
    "execution": {
     "iopub.execute_input": "2021-08-20T09:10:15.110770Z",
     "iopub.status.busy": "2021-08-20T09:10:15.107745Z",
     "iopub.status.idle": "2021-08-20T09:10:15.320153Z",
     "shell.execute_reply": "2021-08-20T09:10:15.319573Z",
     "shell.execute_reply.started": "2021-08-20T08:56:26.835607Z"
    },
    "papermill": {
     "duration": 0.354379,
     "end_time": "2021-08-20T09:10:15.320403",
     "exception": false,
     "start_time": "2021-08-20T09:10:14.966024",
     "status": "completed"
    },
    "tags": []
   },
   "outputs": [
    {
     "data": {
      "image/png": "[encoded data removed]",
      "text/plain": [
       "<Figure size 648x360 with 1 Axes>"
      ]
     },
     "metadata": {
      "needs_background": "light"
     },
     "output_type": "display_data"
    }
   ],
   "source": [
    "fig, ax = plt.subplots(1, 1, figsize=(9, 5))\n",
    "sns.kdeplot(df_train[(df_train['Survived'] == 0) & (df_train['Pclass'] == 1)]['Age'], ax=ax)\n",
    "sns.kdeplot(df_train[(df_train['Survived'] == 1) & (df_train['Pclass'] == 1)]['Age'], ax=ax)\n",
    "plt.legend(['Survived == 0', 'Survived == 1'])\n",
    "plt.show()"
   ]
  },
  {
   "cell_type": "markdown",
   "id": "036a8985",
   "metadata": {
    "papermill": {
     "duration": 0.101321,
     "end_time": "2021-08-20T09:10:15.526875",
     "exception": false,
     "start_time": "2021-08-20T09:10:15.425554",
     "status": "completed"
    },
    "tags": []
   },
   "source": [
    "**Fare**"
   ]
  },
  {
   "cell_type": "code",
   "execution_count": 28,
   "id": "8c096de2",
   "metadata": {
    "execution": {
     "iopub.execute_input": "2021-08-20T09:10:15.745145Z",
     "iopub.status.busy": "2021-08-20T09:10:15.744432Z",
     "iopub.status.idle": "2021-08-20T09:10:15.748141Z",
     "shell.execute_reply": "2021-08-20T09:10:15.747582Z",
     "shell.execute_reply.started": "2021-08-20T09:05:41.271088Z"
    },
    "papermill": {
     "duration": 0.117152,
     "end_time": "2021-08-20T09:10:15.748317",
     "exception": false,
     "start_time": "2021-08-20T09:10:15.631165",
     "status": "completed"
    },
    "tags": []
   },
   "outputs": [],
   "source": [
    "df_train['Fare'] = df_train['Fare'].map(lambda i: np.log(i) if i > 0 else 0)\n",
    "df_test['Fare'] = df_test['Fare'].map(lambda i: np.log(i) if i > 0 else 0)"
   ]
  },
  {
   "cell_type": "code",
   "execution_count": 29,
   "id": "adf3ef5b",
   "metadata": {
    "execution": {
     "iopub.execute_input": "2021-08-20T09:10:15.977836Z",
     "iopub.status.busy": "2021-08-20T09:10:15.966585Z",
     "iopub.status.idle": "2021-08-20T09:10:16.302877Z",
     "shell.execute_reply": "2021-08-20T09:10:16.302101Z",
     "shell.execute_reply.started": "2021-08-20T09:07:13.470431Z"
    },
    "papermill": {
     "duration": 0.451501,
     "end_time": "2021-08-20T09:10:16.303028",
     "exception": false,
     "start_time": "2021-08-20T09:10:15.851527",
     "status": "completed"
    },
    "tags": []
   },
   "outputs": [
    {
     "data": {
      "image/png": "[encoded data removed]",
      "text/plain": [
       "<Figure size 576x576 with 1 Axes>"
      ]
     },
     "metadata": {
      "needs_background": "light"
     },
     "output_type": "display_data"
    }
   ],
   "source": [
    "fig, ax = plt.subplots(1, 1, figsize=(8, 8))\n",
    "g = sns.distplot(df_train['Fare'], color='b', label='Skewness: {:.2f}'.format(df_train['Fare'].skew()), ax=ax)\n",
    "g = g.legend(loc='best')"
   ]
  },
  {
   "cell_type": "markdown",
   "id": "2205027a",
   "metadata": {
    "papermill": {
     "duration": 0.160005,
     "end_time": "2021-08-20T09:10:16.568635",
     "exception": false,
     "start_time": "2021-08-20T09:10:16.408630",
     "status": "completed"
    },
    "tags": []
   },
   "source": [
    "**Feature Engineering - Fill Null in Age**"
   ]
  },
  {
   "cell_type": "code",
   "execution_count": 30,
   "id": "7c2d9a02",
   "metadata": {
    "execution": {
     "iopub.execute_input": "2021-08-20T09:10:16.786100Z",
     "iopub.status.busy": "2021-08-20T09:10:16.785111Z",
     "iopub.status.idle": "2021-08-20T09:10:16.790200Z",
     "shell.execute_reply": "2021-08-20T09:10:16.789608Z",
     "shell.execute_reply.started": "2021-08-20T08:56:27.138852Z"
    },
    "papermill": {
     "duration": 0.114968,
     "end_time": "2021-08-20T09:10:16.790394",
     "exception": false,
     "start_time": "2021-08-20T09:10:16.675426",
     "status": "completed"
    },
    "tags": []
   },
   "outputs": [
    {
     "data": {
      "text/plain": [
       "177"
      ]
     },
     "execution_count": 30,
     "metadata": {},
     "output_type": "execute_result"
    }
   ],
   "source": [
    "df_train['Age'].isnull().sum()"
   ]
  },
  {
   "cell_type": "code",
   "execution_count": 31,
   "id": "b8a67bee",
   "metadata": {
    "execution": {
     "iopub.execute_input": "2021-08-20T09:10:17.016689Z",
     "iopub.status.busy": "2021-08-20T09:10:17.015931Z",
     "iopub.status.idle": "2021-08-20T09:10:17.018995Z",
     "shell.execute_reply": "2021-08-20T09:10:17.018264Z",
     "shell.execute_reply.started": "2021-08-20T08:56:27.153732Z"
    },
    "papermill": {
     "duration": 0.124387,
     "end_time": "2021-08-20T09:10:17.019148",
     "exception": false,
     "start_time": "2021-08-20T09:10:16.894761",
     "status": "completed"
    },
    "tags": []
   },
   "outputs": [],
   "source": [
    "df_train['Initial'] = df_train['Name'].str.extract('([A-Za-z]+)\\.')\n",
    "df_test['Initial'] = df_test['Name'].str.extract('([A-Za-z]+)\\.')"
   ]
  },
  {
   "cell_type": "code",
   "execution_count": 32,
   "id": "ac363b22",
   "metadata": {
    "execution": {
     "iopub.execute_input": "2021-08-20T09:10:17.243837Z",
     "iopub.status.busy": "2021-08-20T09:10:17.242788Z",
     "iopub.status.idle": "2021-08-20T09:10:17.298183Z",
     "shell.execute_reply": "2021-08-20T09:10:17.297396Z",
     "shell.execute_reply.started": "2021-08-20T08:56:27.173624Z"
    },
    "papermill": {
     "duration": 0.171733,
     "end_time": "2021-08-20T09:10:17.298366",
     "exception": false,
     "start_time": "2021-08-20T09:10:17.126633",
     "status": "completed"
    },
    "tags": []
   },
   "outputs": [
    {
     "data": {
      "text/html": [
       "<style  type=\"text/css\" >\n",
       "#T_dda27_row0_col0,#T_dda27_row0_col1,#T_dda27_row0_col3,#T_dda27_row0_col4,#T_dda27_row0_col5,#T_dda27_row0_col7,#T_dda27_row0_col8,#T_dda27_row0_col12,#T_dda27_row0_col15,#T_dda27_row0_col16,#T_dda27_row1_col2,#T_dda27_row1_col6,#T_dda27_row1_col9,#T_dda27_row1_col10,#T_dda27_row1_col11,#T_dda27_row1_col13,#T_dda27_row1_col14{\n",
       "            background-color:  #ffff66;\n",
       "            color:  #000000;\n",
       "        }#T_dda27_row0_col2,#T_dda27_row0_col6,#T_dda27_row0_col9,#T_dda27_row0_col10,#T_dda27_row0_col11,#T_dda27_row0_col13,#T_dda27_row0_col14,#T_dda27_row1_col0,#T_dda27_row1_col1,#T_dda27_row1_col3,#T_dda27_row1_col4,#T_dda27_row1_col5,#T_dda27_row1_col7,#T_dda27_row1_col8,#T_dda27_row1_col12,#T_dda27_row1_col15,#T_dda27_row1_col16{\n",
       "            background-color:  #008066;\n",
       "            color:  #f1f1f1;\n",
       "        }</style><table id=\"T_dda27_\" ><thead>    <tr>        <th class=\"index_name level0\" >Initial</th>        <th class=\"col_heading level0 col0\" >Capt</th>        <th class=\"col_heading level0 col1\" >Col</th>        <th class=\"col_heading level0 col2\" >Countess</th>        <th class=\"col_heading level0 col3\" >Don</th>        <th class=\"col_heading level0 col4\" >Dr</th>        <th class=\"col_heading level0 col5\" >Jonkheer</th>        <th class=\"col_heading level0 col6\" >Lady</th>        <th class=\"col_heading level0 col7\" >Major</th>        <th class=\"col_heading level0 col8\" >Master</th>        <th class=\"col_heading level0 col9\" >Miss</th>        <th class=\"col_heading level0 col10\" >Mlle</th>        <th class=\"col_heading level0 col11\" >Mme</th>        <th class=\"col_heading level0 col12\" >Mr</th>        <th class=\"col_heading level0 col13\" >Mrs</th>        <th class=\"col_heading level0 col14\" >Ms</th>        <th class=\"col_heading level0 col15\" >Rev</th>        <th class=\"col_heading level0 col16\" >Sir</th>    </tr>    <tr>        <th class=\"index_name level0\" >Sex</th>        <th class=\"blank\" ></th>        <th class=\"blank\" ></th>        <th class=\"blank\" ></th>        <th class=\"blank\" ></th>        <th class=\"blank\" ></th>        <th class=\"blank\" ></th>        <th class=\"blank\" ></th>        <th class=\"blank\" ></th>        <th class=\"blank\" ></th>        <th class=\"blank\" ></th>        <th class=\"blank\" ></th>        <th class=\"blank\" ></th>        <th class=\"blank\" ></th>        <th class=\"blank\" ></th>        <th class=\"blank\" ></th>        <th class=\"blank\" ></th>        <th class=\"blank\" ></th>    </tr></thead><tbody>\n",
       "                <tr>\n",
       "                        <th id=\"T_dda27_level0_row0\" class=\"row_heading level0 row0\" >female</th>\n",
       "                        <td id=\"T_dda27_row0_col0\" class=\"data row0 col0\" >0</td>\n",
       "                        <td id=\"T_dda27_row0_col1\" class=\"data row0 col1\" >0</td>\n",
       "                        <td id=\"T_dda27_row0_col2\" class=\"data row0 col2\" >1</td>\n",
       "                        <td id=\"T_dda27_row0_col3\" class=\"data row0 col3\" >0</td>\n",
       "                        <td id=\"T_dda27_row0_col4\" class=\"data row0 col4\" >1</td>\n",
       "                        <td id=\"T_dda27_row0_col5\" class=\"data row0 col5\" >0</td>\n",
       "                        <td id=\"T_dda27_row0_col6\" class=\"data row0 col6\" >1</td>\n",
       "                        <td id=\"T_dda27_row0_col7\" class=\"data row0 col7\" >0</td>\n",
       "                        <td id=\"T_dda27_row0_col8\" class=\"data row0 col8\" >0</td>\n",
       "                        <td id=\"T_dda27_row0_col9\" class=\"data row0 col9\" >182</td>\n",
       "                        <td id=\"T_dda27_row0_col10\" class=\"data row0 col10\" >2</td>\n",
       "                        <td id=\"T_dda27_row0_col11\" class=\"data row0 col11\" >1</td>\n",
       "                        <td id=\"T_dda27_row0_col12\" class=\"data row0 col12\" >0</td>\n",
       "                        <td id=\"T_dda27_row0_col13\" class=\"data row0 col13\" >125</td>\n",
       "                        <td id=\"T_dda27_row0_col14\" class=\"data row0 col14\" >1</td>\n",
       "                        <td id=\"T_dda27_row0_col15\" class=\"data row0 col15\" >0</td>\n",
       "                        <td id=\"T_dda27_row0_col16\" class=\"data row0 col16\" >0</td>\n",
       "            </tr>\n",
       "            <tr>\n",
       "                        <th id=\"T_dda27_level0_row1\" class=\"row_heading level0 row1\" >male</th>\n",
       "                        <td id=\"T_dda27_row1_col0\" class=\"data row1 col0\" >1</td>\n",
       "                        <td id=\"T_dda27_row1_col1\" class=\"data row1 col1\" >2</td>\n",
       "                        <td id=\"T_dda27_row1_col2\" class=\"data row1 col2\" >0</td>\n",
       "                        <td id=\"T_dda27_row1_col3\" class=\"data row1 col3\" >1</td>\n",
       "                        <td id=\"T_dda27_row1_col4\" class=\"data row1 col4\" >6</td>\n",
       "                        <td id=\"T_dda27_row1_col5\" class=\"data row1 col5\" >1</td>\n",
       "                        <td id=\"T_dda27_row1_col6\" class=\"data row1 col6\" >0</td>\n",
       "                        <td id=\"T_dda27_row1_col7\" class=\"data row1 col7\" >2</td>\n",
       "                        <td id=\"T_dda27_row1_col8\" class=\"data row1 col8\" >40</td>\n",
       "                        <td id=\"T_dda27_row1_col9\" class=\"data row1 col9\" >0</td>\n",
       "                        <td id=\"T_dda27_row1_col10\" class=\"data row1 col10\" >0</td>\n",
       "                        <td id=\"T_dda27_row1_col11\" class=\"data row1 col11\" >0</td>\n",
       "                        <td id=\"T_dda27_row1_col12\" class=\"data row1 col12\" >517</td>\n",
       "                        <td id=\"T_dda27_row1_col13\" class=\"data row1 col13\" >0</td>\n",
       "                        <td id=\"T_dda27_row1_col14\" class=\"data row1 col14\" >0</td>\n",
       "                        <td id=\"T_dda27_row1_col15\" class=\"data row1 col15\" >6</td>\n",
       "                        <td id=\"T_dda27_row1_col16\" class=\"data row1 col16\" >1</td>\n",
       "            </tr>\n",
       "    </tbody></table>"
      ],
      "text/plain": [
       "<pandas.io.formats.style.Styler at 0x7f5c6abab290>"
      ]
     },
     "execution_count": 32,
     "metadata": {},
     "output_type": "execute_result"
    }
   ],
   "source": [
    "pd.crosstab(df_train['Initial'], df_train['Sex']).T.style.background_gradient(cmap='summer_r')"
   ]
  },
  {
   "cell_type": "code",
   "execution_count": 33,
   "id": "24cc21ee",
   "metadata": {
    "execution": {
     "iopub.execute_input": "2021-08-20T09:10:17.524555Z",
     "iopub.status.busy": "2021-08-20T09:10:17.523446Z",
     "iopub.status.idle": "2021-08-20T09:10:17.526583Z",
     "shell.execute_reply": "2021-08-20T09:10:17.527042Z",
     "shell.execute_reply.started": "2021-08-20T08:56:27.257930Z"
    },
    "papermill": {
     "duration": 0.121165,
     "end_time": "2021-08-20T09:10:17.527225",
     "exception": false,
     "start_time": "2021-08-20T09:10:17.406060",
     "status": "completed"
    },
    "tags": []
   },
   "outputs": [],
   "source": [
    "df_train['Initial'].replace(['Mlle', 'Mme', 'Ms', 'Dr', 'Major', 'Lady', 'Countess', 'Jonkheer', 'Col', 'Rev', 'Capt', 'Sir', 'Don', 'Dona'],\n",
    "                           ['Miss', 'Miss', 'Miss', 'Mr', 'Mr', 'Mrs', 'Mrs', 'Other', 'Other', 'Other', 'Ms', 'Ms', 'Ms', 'Ms'], inplace=True)\n",
    "\n",
    "df_test['Initial'].replace(['Mlle', 'Mme', 'Ms', 'Dr', 'Major', 'Lady', 'Countess', 'Jonkheer', 'Col', 'Rev', 'Capt', 'Sir', 'Don', 'Dona'],\n",
    "                           ['Miss', 'Miss', 'Miss', 'Mr', 'Mr', 'Mrs', 'Mrs', 'Other', 'Other', 'Other', 'Ms', 'Ms', 'Ms', 'Ms'], inplace=True)"
   ]
  },
  {
   "cell_type": "code",
   "execution_count": 34,
   "id": "06ca0761",
   "metadata": {
    "execution": {
     "iopub.execute_input": "2021-08-20T09:10:17.743861Z",
     "iopub.status.busy": "2021-08-20T09:10:17.742039Z",
     "iopub.status.idle": "2021-08-20T09:10:17.760693Z",
     "shell.execute_reply": "2021-08-20T09:10:17.759943Z",
     "shell.execute_reply.started": "2021-08-20T08:56:27.278211Z"
    },
    "papermill": {
     "duration": 0.128186,
     "end_time": "2021-08-20T09:10:17.760868",
     "exception": false,
     "start_time": "2021-08-20T09:10:17.632682",
     "status": "completed"
    },
    "tags": []
   },
   "outputs": [
    {
     "data": {
      "text/html": [
       "<div>\n",
       "<style scoped>\n",
       "    .dataframe tbody tr th:only-of-type {\n",
       "        vertical-align: middle;\n",
       "    }\n",
       "\n",
       "    .dataframe tbody tr th {\n",
       "        vertical-align: top;\n",
       "    }\n",
       "\n",
       "    .dataframe thead th {\n",
       "        text-align: right;\n",
       "    }\n",
       "</style>\n",
       "<table border=\"1\" class=\"dataframe\">\n",
       "  <thead>\n",
       "    <tr style=\"text-align: right;\">\n",
       "      <th></th>\n",
       "      <th>PassengerId</th>\n",
       "      <th>Survived</th>\n",
       "      <th>Pclass</th>\n",
       "      <th>Age</th>\n",
       "      <th>SibSp</th>\n",
       "      <th>Parch</th>\n",
       "      <th>Fare</th>\n",
       "    </tr>\n",
       "    <tr>\n",
       "      <th>Initial</th>\n",
       "      <th></th>\n",
       "      <th></th>\n",
       "      <th></th>\n",
       "      <th></th>\n",
       "      <th></th>\n",
       "      <th></th>\n",
       "      <th></th>\n",
       "    </tr>\n",
       "  </thead>\n",
       "  <tbody>\n",
       "    <tr>\n",
       "      <th>Master</th>\n",
       "      <td>414.975000</td>\n",
       "      <td>0.575000</td>\n",
       "      <td>2.625000</td>\n",
       "      <td>4.574167</td>\n",
       "      <td>2.300000</td>\n",
       "      <td>1.375000</td>\n",
       "      <td>3.340710</td>\n",
       "    </tr>\n",
       "    <tr>\n",
       "      <th>Miss</th>\n",
       "      <td>411.741935</td>\n",
       "      <td>0.704301</td>\n",
       "      <td>2.284946</td>\n",
       "      <td>21.860000</td>\n",
       "      <td>0.698925</td>\n",
       "      <td>0.537634</td>\n",
       "      <td>3.123713</td>\n",
       "    </tr>\n",
       "    <tr>\n",
       "      <th>Mr</th>\n",
       "      <td>455.863118</td>\n",
       "      <td>0.161597</td>\n",
       "      <td>2.389734</td>\n",
       "      <td>32.589901</td>\n",
       "      <td>0.290875</td>\n",
       "      <td>0.150190</td>\n",
       "      <td>2.644526</td>\n",
       "    </tr>\n",
       "    <tr>\n",
       "      <th>Mrs</th>\n",
       "      <td>456.393701</td>\n",
       "      <td>0.795276</td>\n",
       "      <td>1.984252</td>\n",
       "      <td>35.981818</td>\n",
       "      <td>0.692913</td>\n",
       "      <td>0.818898</td>\n",
       "      <td>3.443751</td>\n",
       "    </tr>\n",
       "    <tr>\n",
       "      <th>Ms</th>\n",
       "      <td>459.000000</td>\n",
       "      <td>0.333333</td>\n",
       "      <td>1.000000</td>\n",
       "      <td>53.000000</td>\n",
       "      <td>0.666667</td>\n",
       "      <td>0.333333</td>\n",
       "      <td>3.875557</td>\n",
       "    </tr>\n",
       "    <tr>\n",
       "      <th>Other</th>\n",
       "      <td>564.444444</td>\n",
       "      <td>0.111111</td>\n",
       "      <td>1.666667</td>\n",
       "      <td>45.888889</td>\n",
       "      <td>0.111111</td>\n",
       "      <td>0.111111</td>\n",
       "      <td>2.641605</td>\n",
       "    </tr>\n",
       "  </tbody>\n",
       "</table>\n",
       "</div>"
      ],
      "text/plain": [
       "         PassengerId  Survived    Pclass        Age     SibSp     Parch  \\\n",
       "Initial                                                                   \n",
       "Master    414.975000  0.575000  2.625000   4.574167  2.300000  1.375000   \n",
       "Miss      411.741935  0.704301  2.284946  21.860000  0.698925  0.537634   \n",
       "Mr        455.863118  0.161597  2.389734  32.589901  0.290875  0.150190   \n",
       "Mrs       456.393701  0.795276  1.984252  35.981818  0.692913  0.818898   \n",
       "Ms        459.000000  0.333333  1.000000  53.000000  0.666667  0.333333   \n",
       "Other     564.444444  0.111111  1.666667  45.888889  0.111111  0.111111   \n",
       "\n",
       "             Fare  \n",
       "Initial            \n",
       "Master   3.340710  \n",
       "Miss     3.123713  \n",
       "Mr       2.644526  \n",
       "Mrs      3.443751  \n",
       "Ms       3.875557  \n",
       "Other    2.641605  "
      ]
     },
     "execution_count": 34,
     "metadata": {},
     "output_type": "execute_result"
    }
   ],
   "source": [
    "df_train.groupby('Initial').mean()"
   ]
  },
  {
   "cell_type": "code",
   "execution_count": 35,
   "id": "ba07992d",
   "metadata": {
    "execution": {
     "iopub.execute_input": "2021-08-20T09:10:18.004702Z",
     "iopub.status.busy": "2021-08-20T09:10:17.999792Z",
     "iopub.status.idle": "2021-08-20T09:10:18.175700Z",
     "shell.execute_reply": "2021-08-20T09:10:18.174929Z",
     "shell.execute_reply.started": "2021-08-20T08:56:27.320417Z"
    },
    "papermill": {
     "duration": 0.306536,
     "end_time": "2021-08-20T09:10:18.175874",
     "exception": false,
     "start_time": "2021-08-20T09:10:17.869338",
     "status": "completed"
    },
    "tags": []
   },
   "outputs": [
    {
     "data": {
      "text/plain": [
       "<AxesSubplot:xlabel='Initial'>"
      ]
     },
     "execution_count": 35,
     "metadata": {},
     "output_type": "execute_result"
    },
    {
     "data": {
      "image/png": "[encoded data removed]",
      "text/plain": [
       "<Figure size 432x288 with 1 Axes>"
      ]
     },
     "metadata": {
      "needs_background": "light"
     },
     "output_type": "display_data"
    }
   ],
   "source": [
    "df_train.groupby('Initial')['Survived'].mean().plot.bar()"
   ]
  },
  {
   "cell_type": "code",
   "execution_count": 36,
   "id": "3fc877b8",
   "metadata": {
    "execution": {
     "iopub.execute_input": "2021-08-20T09:10:18.405286Z",
     "iopub.status.busy": "2021-08-20T09:10:18.404576Z",
     "iopub.status.idle": "2021-08-20T09:10:18.407750Z",
     "shell.execute_reply": "2021-08-20T09:10:18.407112Z",
     "shell.execute_reply.started": "2021-08-20T08:56:27.549241Z"
    },
    "papermill": {
     "duration": 0.122776,
     "end_time": "2021-08-20T09:10:18.407903",
     "exception": false,
     "start_time": "2021-08-20T09:10:18.285127",
     "status": "completed"
    },
    "tags": []
   },
   "outputs": [],
   "source": [
    "df_all = pd.concat([df_train, df_test])"
   ]
  },
  {
   "cell_type": "code",
   "execution_count": 37,
   "id": "3f347e16",
   "metadata": {
    "execution": {
     "iopub.execute_input": "2021-08-20T09:10:18.628957Z",
     "iopub.status.busy": "2021-08-20T09:10:18.628032Z",
     "iopub.status.idle": "2021-08-20T09:10:18.646588Z",
     "shell.execute_reply": "2021-08-20T09:10:18.645967Z",
     "shell.execute_reply.started": "2021-08-20T08:56:27.564135Z"
    },
    "papermill": {
     "duration": 0.130686,
     "end_time": "2021-08-20T09:10:18.646745",
     "exception": false,
     "start_time": "2021-08-20T09:10:18.516059",
     "status": "completed"
    },
    "tags": []
   },
   "outputs": [
    {
     "data": {
      "text/html": [
       "<div>\n",
       "<style scoped>\n",
       "    .dataframe tbody tr th:only-of-type {\n",
       "        vertical-align: middle;\n",
       "    }\n",
       "\n",
       "    .dataframe tbody tr th {\n",
       "        vertical-align: top;\n",
       "    }\n",
       "\n",
       "    .dataframe thead th {\n",
       "        text-align: right;\n",
       "    }\n",
       "</style>\n",
       "<table border=\"1\" class=\"dataframe\">\n",
       "  <thead>\n",
       "    <tr style=\"text-align: right;\">\n",
       "      <th></th>\n",
       "      <th>PassengerId</th>\n",
       "      <th>Survived</th>\n",
       "      <th>Pclass</th>\n",
       "      <th>Age</th>\n",
       "      <th>SibSp</th>\n",
       "      <th>Parch</th>\n",
       "      <th>Fare</th>\n",
       "    </tr>\n",
       "    <tr>\n",
       "      <th>Initial</th>\n",
       "      <th></th>\n",
       "      <th></th>\n",
       "      <th></th>\n",
       "      <th></th>\n",
       "      <th></th>\n",
       "      <th></th>\n",
       "      <th></th>\n",
       "    </tr>\n",
       "  </thead>\n",
       "  <tbody>\n",
       "    <tr>\n",
       "      <th>Master</th>\n",
       "      <td>658.852459</td>\n",
       "      <td>0.575000</td>\n",
       "      <td>2.655738</td>\n",
       "      <td>5.482642</td>\n",
       "      <td>2.049180</td>\n",
       "      <td>1.377049</td>\n",
       "      <td>3.262225</td>\n",
       "    </tr>\n",
       "    <tr>\n",
       "      <th>Miss</th>\n",
       "      <td>616.992453</td>\n",
       "      <td>0.704301</td>\n",
       "      <td>2.332075</td>\n",
       "      <td>21.834533</td>\n",
       "      <td>0.652830</td>\n",
       "      <td>0.494340</td>\n",
       "      <td>3.065227</td>\n",
       "    </tr>\n",
       "    <tr>\n",
       "      <th>Mr</th>\n",
       "      <td>658.769231</td>\n",
       "      <td>0.161597</td>\n",
       "      <td>2.366362</td>\n",
       "      <td>32.441525</td>\n",
       "      <td>0.285528</td>\n",
       "      <td>0.159061</td>\n",
       "      <td>2.668749</td>\n",
       "    </tr>\n",
       "    <tr>\n",
       "      <th>Mrs</th>\n",
       "      <td>685.673367</td>\n",
       "      <td>0.795276</td>\n",
       "      <td>1.929648</td>\n",
       "      <td>37.034884</td>\n",
       "      <td>0.658291</td>\n",
       "      <td>0.824121</td>\n",
       "      <td>3.488188</td>\n",
       "    </tr>\n",
       "    <tr>\n",
       "      <th>Ms</th>\n",
       "      <td>670.750000</td>\n",
       "      <td>0.333333</td>\n",
       "      <td>1.000000</td>\n",
       "      <td>49.500000</td>\n",
       "      <td>0.500000</td>\n",
       "      <td>0.250000</td>\n",
       "      <td>4.079275</td>\n",
       "    </tr>\n",
       "    <tr>\n",
       "      <th>Other</th>\n",
       "      <td>714.923077</td>\n",
       "      <td>0.111111</td>\n",
       "      <td>1.615385</td>\n",
       "      <td>44.923077</td>\n",
       "      <td>0.230769</td>\n",
       "      <td>0.153846</td>\n",
       "      <td>2.951897</td>\n",
       "    </tr>\n",
       "  </tbody>\n",
       "</table>\n",
       "</div>"
      ],
      "text/plain": [
       "         PassengerId  Survived    Pclass        Age     SibSp     Parch  \\\n",
       "Initial                                                                   \n",
       "Master    658.852459  0.575000  2.655738   5.482642  2.049180  1.377049   \n",
       "Miss      616.992453  0.704301  2.332075  21.834533  0.652830  0.494340   \n",
       "Mr        658.769231  0.161597  2.366362  32.441525  0.285528  0.159061   \n",
       "Mrs       685.673367  0.795276  1.929648  37.034884  0.658291  0.824121   \n",
       "Ms        670.750000  0.333333  1.000000  49.500000  0.500000  0.250000   \n",
       "Other     714.923077  0.111111  1.615385  44.923077  0.230769  0.153846   \n",
       "\n",
       "             Fare  \n",
       "Initial            \n",
       "Master   3.262225  \n",
       "Miss     3.065227  \n",
       "Mr       2.668749  \n",
       "Mrs      3.488188  \n",
       "Ms       4.079275  \n",
       "Other    2.951897  "
      ]
     },
     "execution_count": 37,
     "metadata": {},
     "output_type": "execute_result"
    }
   ],
   "source": [
    "df_all.groupby('Initial').mean()"
   ]
  },
  {
   "cell_type": "code",
   "execution_count": 38,
   "id": "c6577a7d",
   "metadata": {
    "execution": {
     "iopub.execute_input": "2021-08-20T09:10:18.887973Z",
     "iopub.status.busy": "2021-08-20T09:10:18.881754Z",
     "iopub.status.idle": "2021-08-20T09:10:18.901860Z",
     "shell.execute_reply": "2021-08-20T09:10:18.901183Z",
     "shell.execute_reply.started": "2021-08-20T08:56:27.600416Z"
    },
    "papermill": {
     "duration": 0.148721,
     "end_time": "2021-08-20T09:10:18.902026",
     "exception": false,
     "start_time": "2021-08-20T09:10:18.753305",
     "status": "completed"
    },
    "tags": []
   },
   "outputs": [
    {
     "data": {
      "text/html": [
       "<div>\n",
       "<style scoped>\n",
       "    .dataframe tbody tr th:only-of-type {\n",
       "        vertical-align: middle;\n",
       "    }\n",
       "\n",
       "    .dataframe tbody tr th {\n",
       "        vertical-align: top;\n",
       "    }\n",
       "\n",
       "    .dataframe thead th {\n",
       "        text-align: right;\n",
       "    }\n",
       "</style>\n",
       "<table border=\"1\" class=\"dataframe\">\n",
       "  <thead>\n",
       "    <tr style=\"text-align: right;\">\n",
       "      <th></th>\n",
       "      <th>PassengerId</th>\n",
       "      <th>Survived</th>\n",
       "      <th>Pclass</th>\n",
       "      <th>Name</th>\n",
       "      <th>Sex</th>\n",
       "      <th>Age</th>\n",
       "      <th>SibSp</th>\n",
       "      <th>Parch</th>\n",
       "      <th>Ticket</th>\n",
       "      <th>Fare</th>\n",
       "      <th>Cabin</th>\n",
       "      <th>Embarked</th>\n",
       "      <th>Initial</th>\n",
       "    </tr>\n",
       "  </thead>\n",
       "  <tbody>\n",
       "    <tr>\n",
       "      <th>1</th>\n",
       "      <td>2</td>\n",
       "      <td>1</td>\n",
       "      <td>1</td>\n",
       "      <td>Cumings, Mrs. John Bradley (Florence Briggs Th...</td>\n",
       "      <td>female</td>\n",
       "      <td>38.0</td>\n",
       "      <td>1</td>\n",
       "      <td>0</td>\n",
       "      <td>PC 17599</td>\n",
       "      <td>4.266662</td>\n",
       "      <td>C85</td>\n",
       "      <td>C</td>\n",
       "      <td>Mrs</td>\n",
       "    </tr>\n",
       "    <tr>\n",
       "      <th>2</th>\n",
       "      <td>3</td>\n",
       "      <td>1</td>\n",
       "      <td>3</td>\n",
       "      <td>Heikkinen, Miss. Laina</td>\n",
       "      <td>female</td>\n",
       "      <td>26.0</td>\n",
       "      <td>0</td>\n",
       "      <td>0</td>\n",
       "      <td>STON/O2. 3101282</td>\n",
       "      <td>2.070022</td>\n",
       "      <td>NaN</td>\n",
       "      <td>S</td>\n",
       "      <td>Miss</td>\n",
       "    </tr>\n",
       "    <tr>\n",
       "      <th>3</th>\n",
       "      <td>4</td>\n",
       "      <td>1</td>\n",
       "      <td>1</td>\n",
       "      <td>Futrelle, Mrs. Jacques Heath (Lily May Peel)</td>\n",
       "      <td>female</td>\n",
       "      <td>35.0</td>\n",
       "      <td>1</td>\n",
       "      <td>0</td>\n",
       "      <td>113803</td>\n",
       "      <td>3.972177</td>\n",
       "      <td>C123</td>\n",
       "      <td>S</td>\n",
       "      <td>Mrs</td>\n",
       "    </tr>\n",
       "    <tr>\n",
       "      <th>8</th>\n",
       "      <td>9</td>\n",
       "      <td>1</td>\n",
       "      <td>3</td>\n",
       "      <td>Johnson, Mrs. Oscar W (Elisabeth Vilhelmina Berg)</td>\n",
       "      <td>female</td>\n",
       "      <td>27.0</td>\n",
       "      <td>0</td>\n",
       "      <td>2</td>\n",
       "      <td>347742</td>\n",
       "      <td>2.409941</td>\n",
       "      <td>NaN</td>\n",
       "      <td>S</td>\n",
       "      <td>Mrs</td>\n",
       "    </tr>\n",
       "    <tr>\n",
       "      <th>9</th>\n",
       "      <td>10</td>\n",
       "      <td>1</td>\n",
       "      <td>2</td>\n",
       "      <td>Nasser, Mrs. Nicholas (Adele Achem)</td>\n",
       "      <td>female</td>\n",
       "      <td>14.0</td>\n",
       "      <td>1</td>\n",
       "      <td>0</td>\n",
       "      <td>237736</td>\n",
       "      <td>3.403555</td>\n",
       "      <td>NaN</td>\n",
       "      <td>C</td>\n",
       "      <td>Mrs</td>\n",
       "    </tr>\n",
       "    <tr>\n",
       "      <th>...</th>\n",
       "      <td>...</td>\n",
       "      <td>...</td>\n",
       "      <td>...</td>\n",
       "      <td>...</td>\n",
       "      <td>...</td>\n",
       "      <td>...</td>\n",
       "      <td>...</td>\n",
       "      <td>...</td>\n",
       "      <td>...</td>\n",
       "      <td>...</td>\n",
       "      <td>...</td>\n",
       "      <td>...</td>\n",
       "      <td>...</td>\n",
       "    </tr>\n",
       "    <tr>\n",
       "      <th>875</th>\n",
       "      <td>876</td>\n",
       "      <td>1</td>\n",
       "      <td>3</td>\n",
       "      <td>Najib, Miss. Adele Kiamie \"Jane\"</td>\n",
       "      <td>female</td>\n",
       "      <td>15.0</td>\n",
       "      <td>0</td>\n",
       "      <td>0</td>\n",
       "      <td>2667</td>\n",
       "      <td>1.977547</td>\n",
       "      <td>NaN</td>\n",
       "      <td>C</td>\n",
       "      <td>Miss</td>\n",
       "    </tr>\n",
       "    <tr>\n",
       "      <th>879</th>\n",
       "      <td>880</td>\n",
       "      <td>1</td>\n",
       "      <td>1</td>\n",
       "      <td>Potter, Mrs. Thomas Jr (Lily Alexenia Wilson)</td>\n",
       "      <td>female</td>\n",
       "      <td>56.0</td>\n",
       "      <td>0</td>\n",
       "      <td>1</td>\n",
       "      <td>11767</td>\n",
       "      <td>4.420746</td>\n",
       "      <td>C50</td>\n",
       "      <td>C</td>\n",
       "      <td>Mrs</td>\n",
       "    </tr>\n",
       "    <tr>\n",
       "      <th>880</th>\n",
       "      <td>881</td>\n",
       "      <td>1</td>\n",
       "      <td>2</td>\n",
       "      <td>Shelley, Mrs. William (Imanita Parrish Hall)</td>\n",
       "      <td>female</td>\n",
       "      <td>25.0</td>\n",
       "      <td>0</td>\n",
       "      <td>1</td>\n",
       "      <td>230433</td>\n",
       "      <td>3.258097</td>\n",
       "      <td>NaN</td>\n",
       "      <td>S</td>\n",
       "      <td>Mrs</td>\n",
       "    </tr>\n",
       "    <tr>\n",
       "      <th>887</th>\n",
       "      <td>888</td>\n",
       "      <td>1</td>\n",
       "      <td>1</td>\n",
       "      <td>Graham, Miss. Margaret Edith</td>\n",
       "      <td>female</td>\n",
       "      <td>19.0</td>\n",
       "      <td>0</td>\n",
       "      <td>0</td>\n",
       "      <td>112053</td>\n",
       "      <td>3.401197</td>\n",
       "      <td>B42</td>\n",
       "      <td>S</td>\n",
       "      <td>Miss</td>\n",
       "    </tr>\n",
       "    <tr>\n",
       "      <th>889</th>\n",
       "      <td>890</td>\n",
       "      <td>1</td>\n",
       "      <td>1</td>\n",
       "      <td>Behr, Mr. Karl Howell</td>\n",
       "      <td>male</td>\n",
       "      <td>26.0</td>\n",
       "      <td>0</td>\n",
       "      <td>0</td>\n",
       "      <td>111369</td>\n",
       "      <td>3.401197</td>\n",
       "      <td>C148</td>\n",
       "      <td>C</td>\n",
       "      <td>Mr</td>\n",
       "    </tr>\n",
       "  </tbody>\n",
       "</table>\n",
       "<p>342 rows × 13 columns</p>\n",
       "</div>"
      ],
      "text/plain": [
       "     PassengerId  Survived  Pclass  \\\n",
       "1              2         1       1   \n",
       "2              3         1       3   \n",
       "3              4         1       1   \n",
       "8              9         1       3   \n",
       "9             10         1       2   \n",
       "..           ...       ...     ...   \n",
       "875          876         1       3   \n",
       "879          880         1       1   \n",
       "880          881         1       2   \n",
       "887          888         1       1   \n",
       "889          890         1       1   \n",
       "\n",
       "                                                  Name     Sex   Age  SibSp  \\\n",
       "1    Cumings, Mrs. John Bradley (Florence Briggs Th...  female  38.0      1   \n",
       "2                               Heikkinen, Miss. Laina  female  26.0      0   \n",
       "3         Futrelle, Mrs. Jacques Heath (Lily May Peel)  female  35.0      1   \n",
       "8    Johnson, Mrs. Oscar W (Elisabeth Vilhelmina Berg)  female  27.0      0   \n",
       "9                  Nasser, Mrs. Nicholas (Adele Achem)  female  14.0      1   \n",
       "..                                                 ...     ...   ...    ...   \n",
       "875                   Najib, Miss. Adele Kiamie \"Jane\"  female  15.0      0   \n",
       "879      Potter, Mrs. Thomas Jr (Lily Alexenia Wilson)  female  56.0      0   \n",
       "880       Shelley, Mrs. William (Imanita Parrish Hall)  female  25.0      0   \n",
       "887                       Graham, Miss. Margaret Edith  female  19.0      0   \n",
       "889                              Behr, Mr. Karl Howell    male  26.0      0   \n",
       "\n",
       "     Parch            Ticket      Fare Cabin Embarked Initial  \n",
       "1        0          PC 17599  4.266662   C85        C     Mrs  \n",
       "2        0  STON/O2. 3101282  2.070022   NaN        S    Miss  \n",
       "3        0            113803  3.972177  C123        S     Mrs  \n",
       "8        2            347742  2.409941   NaN        S     Mrs  \n",
       "9        0            237736  3.403555   NaN        C     Mrs  \n",
       "..     ...               ...       ...   ...      ...     ...  \n",
       "875      0              2667  1.977547   NaN        C    Miss  \n",
       "879      1             11767  4.420746   C50        C     Mrs  \n",
       "880      1            230433  3.258097   NaN        S     Mrs  \n",
       "887      0            112053  3.401197   B42        S    Miss  \n",
       "889      0            111369  3.401197  C148        C      Mr  \n",
       "\n",
       "[342 rows x 13 columns]"
      ]
     },
     "execution_count": 38,
     "metadata": {},
     "output_type": "execute_result"
    }
   ],
   "source": [
    "df_train.loc[df_train['Survived'] == 1]"
   ]
  },
  {
   "cell_type": "code",
   "execution_count": 39,
   "id": "9a831603",
   "metadata": {
    "execution": {
     "iopub.execute_input": "2021-08-20T09:10:19.147038Z",
     "iopub.status.busy": "2021-08-20T09:10:19.145978Z",
     "iopub.status.idle": "2021-08-20T09:10:19.149049Z",
     "shell.execute_reply": "2021-08-20T09:10:19.148524Z",
     "shell.execute_reply.started": "2021-08-20T08:56:27.648951Z"
    },
    "papermill": {
     "duration": 0.134625,
     "end_time": "2021-08-20T09:10:19.149198",
     "exception": false,
     "start_time": "2021-08-20T09:10:19.014573",
     "status": "completed"
    },
    "tags": []
   },
   "outputs": [],
   "source": [
    "df_train.loc[(df_train['Age'].isnull()) & (df_train['Initial'] == 'Mr'), 'Age'] = 33\n",
    "df_train.loc[(df_train['Age'].isnull()) & (df_train['Initial'] == 'Mrs'), 'Age'] = 37\n",
    "df_train.loc[(df_train['Age'].isnull()) & (df_train['Initial'] == 'Master'), 'Age'] = 5\n",
    "df_train.loc[(df_train['Age'].isnull()) & (df_train['Initial'] == 'Miss'), 'Age'] = 22\n",
    "df_train.loc[(df_train['Age'].isnull()) & (df_train['Initial'] == 'Other'), 'Age'] = 45\n",
    "\n",
    "df_test.loc[(df_test['Age'].isnull()) & (df_test['Initial'] == 'Mr'), 'Age'] = 33\n",
    "df_test.loc[(df_test['Age'].isnull()) & (df_test['Initial'] == 'Mrs'), 'Age'] = 37\n",
    "df_test.loc[(df_test['Age'].isnull()) & (df_test['Initial'] == 'Master'), 'Age'] = 5\n",
    "df_test.loc[(df_test['Age'].isnull()) & (df_test['Initial'] == 'Miss'), 'Age'] = 22\n",
    "df_test.loc[(df_test['Age'].isnull()) & (df_test['Initial'] == 'Other'), 'Age'] = 45"
   ]
  },
  {
   "cell_type": "code",
   "execution_count": 40,
   "id": "4ae9f6b7",
   "metadata": {
    "execution": {
     "iopub.execute_input": "2021-08-20T09:10:19.371782Z",
     "iopub.status.busy": "2021-08-20T09:10:19.370787Z",
     "iopub.status.idle": "2021-08-20T09:10:19.375174Z",
     "shell.execute_reply": "2021-08-20T09:10:19.374628Z",
     "shell.execute_reply.started": "2021-08-20T08:56:27.685412Z"
    },
    "papermill": {
     "duration": 0.118893,
     "end_time": "2021-08-20T09:10:19.375353",
     "exception": false,
     "start_time": "2021-08-20T09:10:19.256460",
     "status": "completed"
    },
    "tags": []
   },
   "outputs": [
    {
     "data": {
      "text/plain": [
       "2"
      ]
     },
     "execution_count": 40,
     "metadata": {},
     "output_type": "execute_result"
    }
   ],
   "source": [
    "df_train['Embarked'].isnull().sum()"
   ]
  },
  {
   "cell_type": "code",
   "execution_count": 41,
   "id": "32aff536",
   "metadata": {
    "execution": {
     "iopub.execute_input": "2021-08-20T09:10:19.595861Z",
     "iopub.status.busy": "2021-08-20T09:10:19.595086Z",
     "iopub.status.idle": "2021-08-20T09:10:19.599179Z",
     "shell.execute_reply": "2021-08-20T09:10:19.598571Z",
     "shell.execute_reply.started": "2021-08-20T08:56:27.699504Z"
    },
    "papermill": {
     "duration": 0.116777,
     "end_time": "2021-08-20T09:10:19.599347",
     "exception": false,
     "start_time": "2021-08-20T09:10:19.482570",
     "status": "completed"
    },
    "tags": []
   },
   "outputs": [
    {
     "data": {
      "text/plain": [
       "(891, 13)"
      ]
     },
     "execution_count": 41,
     "metadata": {},
     "output_type": "execute_result"
    }
   ],
   "source": [
    "df_train.shape"
   ]
  },
  {
   "cell_type": "code",
   "execution_count": 42,
   "id": "0d8c3aec",
   "metadata": {
    "execution": {
     "iopub.execute_input": "2021-08-20T09:10:19.823219Z",
     "iopub.status.busy": "2021-08-20T09:10:19.822229Z",
     "iopub.status.idle": "2021-08-20T09:10:19.824810Z",
     "shell.execute_reply": "2021-08-20T09:10:19.825336Z",
     "shell.execute_reply.started": "2021-08-20T08:56:27.715622Z"
    },
    "papermill": {
     "duration": 0.117222,
     "end_time": "2021-08-20T09:10:19.825516",
     "exception": false,
     "start_time": "2021-08-20T09:10:19.708294",
     "status": "completed"
    },
    "tags": []
   },
   "outputs": [],
   "source": [
    "df_train['Embarked'].fillna('S', inplace=True)"
   ]
  },
  {
   "cell_type": "code",
   "execution_count": 43,
   "id": "06760ac1",
   "metadata": {
    "execution": {
     "iopub.execute_input": "2021-08-20T09:10:20.049073Z",
     "iopub.status.busy": "2021-08-20T09:10:20.048355Z",
     "iopub.status.idle": "2021-08-20T09:10:20.051759Z",
     "shell.execute_reply": "2021-08-20T09:10:20.051176Z",
     "shell.execute_reply.started": "2021-08-20T08:56:27.728761Z"
    },
    "papermill": {
     "duration": 0.118318,
     "end_time": "2021-08-20T09:10:20.051942",
     "exception": false,
     "start_time": "2021-08-20T09:10:19.933624",
     "status": "completed"
    },
    "tags": []
   },
   "outputs": [],
   "source": [
    "df_train['Age_cat'] = 0\n",
    "df_test['Age_cat'] = 0"
   ]
  },
  {
   "cell_type": "code",
   "execution_count": 44,
   "id": "9df982a1",
   "metadata": {
    "execution": {
     "iopub.execute_input": "2021-08-20T09:10:20.296821Z",
     "iopub.status.busy": "2021-08-20T09:10:20.295763Z",
     "iopub.status.idle": "2021-08-20T09:10:20.301273Z",
     "shell.execute_reply": "2021-08-20T09:10:20.300586Z",
     "shell.execute_reply.started": "2021-08-20T08:56:27.745818Z"
    },
    "papermill": {
     "duration": 0.139487,
     "end_time": "2021-08-20T09:10:20.301437",
     "exception": false,
     "start_time": "2021-08-20T09:10:20.161950",
     "status": "completed"
    },
    "tags": []
   },
   "outputs": [
    {
     "data": {
      "text/html": [
       "<div>\n",
       "<style scoped>\n",
       "    .dataframe tbody tr th:only-of-type {\n",
       "        vertical-align: middle;\n",
       "    }\n",
       "\n",
       "    .dataframe tbody tr th {\n",
       "        vertical-align: top;\n",
       "    }\n",
       "\n",
       "    .dataframe thead th {\n",
       "        text-align: right;\n",
       "    }\n",
       "</style>\n",
       "<table border=\"1\" class=\"dataframe\">\n",
       "  <thead>\n",
       "    <tr style=\"text-align: right;\">\n",
       "      <th></th>\n",
       "      <th>PassengerId</th>\n",
       "      <th>Survived</th>\n",
       "      <th>Pclass</th>\n",
       "      <th>Name</th>\n",
       "      <th>Sex</th>\n",
       "      <th>Age</th>\n",
       "      <th>SibSp</th>\n",
       "      <th>Parch</th>\n",
       "      <th>Ticket</th>\n",
       "      <th>Fare</th>\n",
       "      <th>Cabin</th>\n",
       "      <th>Embarked</th>\n",
       "      <th>Initial</th>\n",
       "      <th>Age_cat</th>\n",
       "    </tr>\n",
       "  </thead>\n",
       "  <tbody>\n",
       "    <tr>\n",
       "      <th>0</th>\n",
       "      <td>1</td>\n",
       "      <td>0</td>\n",
       "      <td>3</td>\n",
       "      <td>Braund, Mr. Owen Harris</td>\n",
       "      <td>male</td>\n",
       "      <td>22.0</td>\n",
       "      <td>1</td>\n",
       "      <td>0</td>\n",
       "      <td>A/5 21171</td>\n",
       "      <td>1.981001</td>\n",
       "      <td>NaN</td>\n",
       "      <td>S</td>\n",
       "      <td>Mr</td>\n",
       "      <td>0</td>\n",
       "    </tr>\n",
       "    <tr>\n",
       "      <th>1</th>\n",
       "      <td>2</td>\n",
       "      <td>1</td>\n",
       "      <td>1</td>\n",
       "      <td>Cumings, Mrs. John Bradley (Florence Briggs Th...</td>\n",
       "      <td>female</td>\n",
       "      <td>38.0</td>\n",
       "      <td>1</td>\n",
       "      <td>0</td>\n",
       "      <td>PC 17599</td>\n",
       "      <td>4.266662</td>\n",
       "      <td>C85</td>\n",
       "      <td>C</td>\n",
       "      <td>Mrs</td>\n",
       "      <td>0</td>\n",
       "    </tr>\n",
       "    <tr>\n",
       "      <th>2</th>\n",
       "      <td>3</td>\n",
       "      <td>1</td>\n",
       "      <td>3</td>\n",
       "      <td>Heikkinen, Miss. Laina</td>\n",
       "      <td>female</td>\n",
       "      <td>26.0</td>\n",
       "      <td>0</td>\n",
       "      <td>0</td>\n",
       "      <td>STON/O2. 3101282</td>\n",
       "      <td>2.070022</td>\n",
       "      <td>NaN</td>\n",
       "      <td>S</td>\n",
       "      <td>Miss</td>\n",
       "      <td>0</td>\n",
       "    </tr>\n",
       "    <tr>\n",
       "      <th>3</th>\n",
       "      <td>4</td>\n",
       "      <td>1</td>\n",
       "      <td>1</td>\n",
       "      <td>Futrelle, Mrs. Jacques Heath (Lily May Peel)</td>\n",
       "      <td>female</td>\n",
       "      <td>35.0</td>\n",
       "      <td>1</td>\n",
       "      <td>0</td>\n",
       "      <td>113803</td>\n",
       "      <td>3.972177</td>\n",
       "      <td>C123</td>\n",
       "      <td>S</td>\n",
       "      <td>Mrs</td>\n",
       "      <td>0</td>\n",
       "    </tr>\n",
       "    <tr>\n",
       "      <th>4</th>\n",
       "      <td>5</td>\n",
       "      <td>0</td>\n",
       "      <td>3</td>\n",
       "      <td>Allen, Mr. William Henry</td>\n",
       "      <td>male</td>\n",
       "      <td>35.0</td>\n",
       "      <td>0</td>\n",
       "      <td>0</td>\n",
       "      <td>373450</td>\n",
       "      <td>2.085672</td>\n",
       "      <td>NaN</td>\n",
       "      <td>S</td>\n",
       "      <td>Mr</td>\n",
       "      <td>0</td>\n",
       "    </tr>\n",
       "  </tbody>\n",
       "</table>\n",
       "</div>"
      ],
      "text/plain": [
       "   PassengerId  Survived  Pclass  \\\n",
       "0            1         0       3   \n",
       "1            2         1       1   \n",
       "2            3         1       3   \n",
       "3            4         1       1   \n",
       "4            5         0       3   \n",
       "\n",
       "                                                Name     Sex   Age  SibSp  \\\n",
       "0                            Braund, Mr. Owen Harris    male  22.0      1   \n",
       "1  Cumings, Mrs. John Bradley (Florence Briggs Th...  female  38.0      1   \n",
       "2                             Heikkinen, Miss. Laina  female  26.0      0   \n",
       "3       Futrelle, Mrs. Jacques Heath (Lily May Peel)  female  35.0      1   \n",
       "4                           Allen, Mr. William Henry    male  35.0      0   \n",
       "\n",
       "   Parch            Ticket      Fare Cabin Embarked Initial  Age_cat  \n",
       "0      0         A/5 21171  1.981001   NaN        S      Mr        0  \n",
       "1      0          PC 17599  4.266662   C85        C     Mrs        0  \n",
       "2      0  STON/O2. 3101282  2.070022   NaN        S    Miss        0  \n",
       "3      0            113803  3.972177  C123        S     Mrs        0  \n",
       "4      0            373450  2.085672   NaN        S      Mr        0  "
      ]
     },
     "execution_count": 44,
     "metadata": {},
     "output_type": "execute_result"
    }
   ],
   "source": [
    "df_train.head()"
   ]
  },
  {
   "cell_type": "code",
   "execution_count": 45,
   "id": "6b68bd03",
   "metadata": {
    "execution": {
     "iopub.execute_input": "2021-08-20T09:10:20.543401Z",
     "iopub.status.busy": "2021-08-20T09:10:20.542628Z",
     "iopub.status.idle": "2021-08-20T09:10:20.546672Z",
     "shell.execute_reply": "2021-08-20T09:10:20.546070Z",
     "shell.execute_reply.started": "2021-08-20T08:56:27.776931Z"
    },
    "papermill": {
     "duration": 0.132348,
     "end_time": "2021-08-20T09:10:20.546828",
     "exception": false,
     "start_time": "2021-08-20T09:10:20.414480",
     "status": "completed"
    },
    "tags": []
   },
   "outputs": [],
   "source": [
    "df_train.loc[df_train['Age'] < 10, 'Age_cat'] = 0\n",
    "df_train.loc[(10 <= df_train['Age']) & (df_train['Age'] < 20), 'Age_cat'] = 1\n",
    "df_train.loc[(20 <= df_train['Age']) & (df_train['Age'] < 30), 'Age_cat'] = 2\n",
    "df_train.loc[(30 <= df_train['Age']) & (df_train['Age'] < 40), 'Age_cat'] = 3\n",
    "df_train.loc[(40 <= df_train['Age']) & (df_train['Age'] < 50), 'Age_cat'] = 4\n",
    "df_train.loc[(50 <= df_train['Age']) & (df_train['Age'] < 60), 'Age_cat'] = 5\n",
    "df_train.loc[(60 <= df_train['Age']) & (df_train['Age'] < 70), 'Age_cat'] = 6\n",
    "df_train.loc[df_train['Age'] >= 70, 'Age_cat'] = 7"
   ]
  },
  {
   "cell_type": "code",
   "execution_count": 46,
   "id": "1086f502",
   "metadata": {
    "execution": {
     "iopub.execute_input": "2021-08-20T09:10:20.784372Z",
     "iopub.status.busy": "2021-08-20T09:10:20.783566Z",
     "iopub.status.idle": "2021-08-20T09:10:20.787645Z",
     "shell.execute_reply": "2021-08-20T09:10:20.787041Z",
     "shell.execute_reply.started": "2021-08-20T08:56:27.808941Z"
    },
    "papermill": {
     "duration": 0.132269,
     "end_time": "2021-08-20T09:10:20.787815",
     "exception": false,
     "start_time": "2021-08-20T09:10:20.655546",
     "status": "completed"
    },
    "tags": []
   },
   "outputs": [
    {
     "data": {
      "text/html": [
       "<div>\n",
       "<style scoped>\n",
       "    .dataframe tbody tr th:only-of-type {\n",
       "        vertical-align: middle;\n",
       "    }\n",
       "\n",
       "    .dataframe tbody tr th {\n",
       "        vertical-align: top;\n",
       "    }\n",
       "\n",
       "    .dataframe thead th {\n",
       "        text-align: right;\n",
       "    }\n",
       "</style>\n",
       "<table border=\"1\" class=\"dataframe\">\n",
       "  <thead>\n",
       "    <tr style=\"text-align: right;\">\n",
       "      <th></th>\n",
       "      <th>PassengerId</th>\n",
       "      <th>Survived</th>\n",
       "      <th>Pclass</th>\n",
       "      <th>Name</th>\n",
       "      <th>Sex</th>\n",
       "      <th>Age</th>\n",
       "      <th>SibSp</th>\n",
       "      <th>Parch</th>\n",
       "      <th>Ticket</th>\n",
       "      <th>Fare</th>\n",
       "      <th>Cabin</th>\n",
       "      <th>Embarked</th>\n",
       "      <th>Initial</th>\n",
       "      <th>Age_cat</th>\n",
       "    </tr>\n",
       "  </thead>\n",
       "  <tbody>\n",
       "    <tr>\n",
       "      <th>0</th>\n",
       "      <td>1</td>\n",
       "      <td>0</td>\n",
       "      <td>3</td>\n",
       "      <td>Braund, Mr. Owen Harris</td>\n",
       "      <td>male</td>\n",
       "      <td>22.0</td>\n",
       "      <td>1</td>\n",
       "      <td>0</td>\n",
       "      <td>A/5 21171</td>\n",
       "      <td>1.981001</td>\n",
       "      <td>NaN</td>\n",
       "      <td>S</td>\n",
       "      <td>Mr</td>\n",
       "      <td>2</td>\n",
       "    </tr>\n",
       "    <tr>\n",
       "      <th>1</th>\n",
       "      <td>2</td>\n",
       "      <td>1</td>\n",
       "      <td>1</td>\n",
       "      <td>Cumings, Mrs. John Bradley (Florence Briggs Th...</td>\n",
       "      <td>female</td>\n",
       "      <td>38.0</td>\n",
       "      <td>1</td>\n",
       "      <td>0</td>\n",
       "      <td>PC 17599</td>\n",
       "      <td>4.266662</td>\n",
       "      <td>C85</td>\n",
       "      <td>C</td>\n",
       "      <td>Mrs</td>\n",
       "      <td>3</td>\n",
       "    </tr>\n",
       "    <tr>\n",
       "      <th>2</th>\n",
       "      <td>3</td>\n",
       "      <td>1</td>\n",
       "      <td>3</td>\n",
       "      <td>Heikkinen, Miss. Laina</td>\n",
       "      <td>female</td>\n",
       "      <td>26.0</td>\n",
       "      <td>0</td>\n",
       "      <td>0</td>\n",
       "      <td>STON/O2. 3101282</td>\n",
       "      <td>2.070022</td>\n",
       "      <td>NaN</td>\n",
       "      <td>S</td>\n",
       "      <td>Miss</td>\n",
       "      <td>2</td>\n",
       "    </tr>\n",
       "    <tr>\n",
       "      <th>3</th>\n",
       "      <td>4</td>\n",
       "      <td>1</td>\n",
       "      <td>1</td>\n",
       "      <td>Futrelle, Mrs. Jacques Heath (Lily May Peel)</td>\n",
       "      <td>female</td>\n",
       "      <td>35.0</td>\n",
       "      <td>1</td>\n",
       "      <td>0</td>\n",
       "      <td>113803</td>\n",
       "      <td>3.972177</td>\n",
       "      <td>C123</td>\n",
       "      <td>S</td>\n",
       "      <td>Mrs</td>\n",
       "      <td>3</td>\n",
       "    </tr>\n",
       "    <tr>\n",
       "      <th>4</th>\n",
       "      <td>5</td>\n",
       "      <td>0</td>\n",
       "      <td>3</td>\n",
       "      <td>Allen, Mr. William Henry</td>\n",
       "      <td>male</td>\n",
       "      <td>35.0</td>\n",
       "      <td>0</td>\n",
       "      <td>0</td>\n",
       "      <td>373450</td>\n",
       "      <td>2.085672</td>\n",
       "      <td>NaN</td>\n",
       "      <td>S</td>\n",
       "      <td>Mr</td>\n",
       "      <td>3</td>\n",
       "    </tr>\n",
       "  </tbody>\n",
       "</table>\n",
       "</div>"
      ],
      "text/plain": [
       "   PassengerId  Survived  Pclass  \\\n",
       "0            1         0       3   \n",
       "1            2         1       1   \n",
       "2            3         1       3   \n",
       "3            4         1       1   \n",
       "4            5         0       3   \n",
       "\n",
       "                                                Name     Sex   Age  SibSp  \\\n",
       "0                            Braund, Mr. Owen Harris    male  22.0      1   \n",
       "1  Cumings, Mrs. John Bradley (Florence Briggs Th...  female  38.0      1   \n",
       "2                             Heikkinen, Miss. Laina  female  26.0      0   \n",
       "3       Futrelle, Mrs. Jacques Heath (Lily May Peel)  female  35.0      1   \n",
       "4                           Allen, Mr. William Henry    male  35.0      0   \n",
       "\n",
       "   Parch            Ticket      Fare Cabin Embarked Initial  Age_cat  \n",
       "0      0         A/5 21171  1.981001   NaN        S      Mr        2  \n",
       "1      0          PC 17599  4.266662   C85        C     Mrs        3  \n",
       "2      0  STON/O2. 3101282  2.070022   NaN        S    Miss        2  \n",
       "3      0            113803  3.972177  C123        S     Mrs        3  \n",
       "4      0            373450  2.085672   NaN        S      Mr        3  "
      ]
     },
     "execution_count": 46,
     "metadata": {},
     "output_type": "execute_result"
    }
   ],
   "source": [
    "df_train.head()"
   ]
  },
  {
   "cell_type": "code",
   "execution_count": 47,
   "id": "9eb2797b",
   "metadata": {
    "execution": {
     "iopub.execute_input": "2021-08-20T09:10:21.020478Z",
     "iopub.status.busy": "2021-08-20T09:10:21.019604Z",
     "iopub.status.idle": "2021-08-20T09:10:21.023766Z",
     "shell.execute_reply": "2021-08-20T09:10:21.022962Z",
     "shell.execute_reply.started": "2021-08-20T08:56:27.835985Z"
    },
    "papermill": {
     "duration": 0.124397,
     "end_time": "2021-08-20T09:10:21.023983",
     "exception": false,
     "start_time": "2021-08-20T09:10:20.899586",
     "status": "completed"
    },
    "tags": []
   },
   "outputs": [],
   "source": [
    "def category_age(x):\n",
    "    if x < 10:\n",
    "        return 0\n",
    "    elif x < 20:\n",
    "        return 1\n",
    "    elif x < 30:\n",
    "        return 2\n",
    "    elif x < 40:\n",
    "        return 3\n",
    "    elif x < 50:\n",
    "        return 4\n",
    "    elif x < 60:\n",
    "        return 5\n",
    "    elif x < 70:\n",
    "        return 6\n",
    "    else:\n",
    "        return 7"
   ]
  },
  {
   "cell_type": "code",
   "execution_count": 48,
   "id": "1458d041",
   "metadata": {
    "execution": {
     "iopub.execute_input": "2021-08-20T09:10:21.254659Z",
     "iopub.status.busy": "2021-08-20T09:10:21.253977Z",
     "iopub.status.idle": "2021-08-20T09:10:21.257146Z",
     "shell.execute_reply": "2021-08-20T09:10:21.256615Z",
     "shell.execute_reply.started": "2021-08-20T08:56:27.850808Z"
    },
    "papermill": {
     "duration": 0.121343,
     "end_time": "2021-08-20T09:10:21.257318",
     "exception": false,
     "start_time": "2021-08-20T09:10:21.135975",
     "status": "completed"
    },
    "tags": []
   },
   "outputs": [],
   "source": [
    "df_train['Age_cat_2'] = df_train['Age'].apply(category_age)\n",
    "df_test['Age_cat'] = df_test['Age'].apply(category_age)"
   ]
  },
  {
   "cell_type": "code",
   "execution_count": 49,
   "id": "dda0371e",
   "metadata": {
    "execution": {
     "iopub.execute_input": "2021-08-20T09:10:21.484527Z",
     "iopub.status.busy": "2021-08-20T09:10:21.483784Z",
     "iopub.status.idle": "2021-08-20T09:10:21.487193Z",
     "shell.execute_reply": "2021-08-20T09:10:21.487802Z",
     "shell.execute_reply.started": "2021-08-20T08:56:27.872254Z"
    },
    "papermill": {
     "duration": 0.121342,
     "end_time": "2021-08-20T09:10:21.488142",
     "exception": false,
     "start_time": "2021-08-20T09:10:21.366800",
     "status": "completed"
    },
    "tags": []
   },
   "outputs": [
    {
     "data": {
      "text/plain": [
       "True"
      ]
     },
     "execution_count": 49,
     "metadata": {},
     "output_type": "execute_result"
    }
   ],
   "source": [
    "(df_train['Age_cat'] == df_train['Age_cat_2']).all()"
   ]
  },
  {
   "cell_type": "code",
   "execution_count": 50,
   "id": "a93f01a4",
   "metadata": {
    "execution": {
     "iopub.execute_input": "2021-08-20T09:10:21.710143Z",
     "iopub.status.busy": "2021-08-20T09:10:21.709474Z",
     "iopub.status.idle": "2021-08-20T09:10:21.716911Z",
     "shell.execute_reply": "2021-08-20T09:10:21.716366Z",
     "shell.execute_reply.started": "2021-08-20T08:56:27.890964Z"
    },
    "papermill": {
     "duration": 0.11908,
     "end_time": "2021-08-20T09:10:21.717060",
     "exception": false,
     "start_time": "2021-08-20T09:10:21.597980",
     "status": "completed"
    },
    "tags": []
   },
   "outputs": [
    {
     "data": {
      "text/plain": [
       "True"
      ]
     },
     "execution_count": 50,
     "metadata": {},
     "output_type": "execute_result"
    }
   ],
   "source": [
    "(df_train['Age_cat'] == df_train['Age_cat_2']).any()"
   ]
  },
  {
   "cell_type": "code",
   "execution_count": 51,
   "id": "839b1062",
   "metadata": {
    "execution": {
     "iopub.execute_input": "2021-08-20T09:10:21.948951Z",
     "iopub.status.busy": "2021-08-20T09:10:21.948165Z",
     "iopub.status.idle": "2021-08-20T09:10:21.950475Z",
     "shell.execute_reply": "2021-08-20T09:10:21.950949Z",
     "shell.execute_reply.started": "2021-08-20T08:56:27.904757Z"
    },
    "papermill": {
     "duration": 0.122806,
     "end_time": "2021-08-20T09:10:21.951140",
     "exception": false,
     "start_time": "2021-08-20T09:10:21.828334",
     "status": "completed"
    },
    "tags": []
   },
   "outputs": [],
   "source": [
    "df_train.drop(['Age', 'Age_cat_2'], axis=1, inplace=True)\n",
    "df_test.drop(['Age'], axis=1, inplace=True)"
   ]
  },
  {
   "cell_type": "code",
   "execution_count": 52,
   "id": "958c50b5",
   "metadata": {
    "execution": {
     "iopub.execute_input": "2021-08-20T09:10:22.179128Z",
     "iopub.status.busy": "2021-08-20T09:10:22.178323Z",
     "iopub.status.idle": "2021-08-20T09:10:22.184609Z",
     "shell.execute_reply": "2021-08-20T09:10:22.185155Z",
     "shell.execute_reply.started": "2021-08-20T08:56:27.927054Z"
    },
    "papermill": {
     "duration": 0.121227,
     "end_time": "2021-08-20T09:10:22.185376",
     "exception": false,
     "start_time": "2021-08-20T09:10:22.064149",
     "status": "completed"
    },
    "tags": []
   },
   "outputs": [
    {
     "data": {
      "text/plain": [
       "array(['Mr', 'Mrs', 'Miss', 'Master', 'Ms', 'Other'], dtype=object)"
      ]
     },
     "execution_count": 52,
     "metadata": {},
     "output_type": "execute_result"
    }
   ],
   "source": [
    "df_train.Initial.unique()"
   ]
  },
  {
   "cell_type": "code",
   "execution_count": 53,
   "id": "4c28ebca",
   "metadata": {
    "execution": {
     "iopub.execute_input": "2021-08-20T09:10:22.412139Z",
     "iopub.status.busy": "2021-08-20T09:10:22.411470Z",
     "iopub.status.idle": "2021-08-20T09:10:22.419743Z",
     "shell.execute_reply": "2021-08-20T09:10:22.420378Z",
     "shell.execute_reply.started": "2021-08-20T08:56:27.945462Z"
    },
    "papermill": {
     "duration": 0.123777,
     "end_time": "2021-08-20T09:10:22.420578",
     "exception": false,
     "start_time": "2021-08-20T09:10:22.296801",
     "status": "completed"
    },
    "tags": []
   },
   "outputs": [],
   "source": [
    "df_train['Initial'] = df_train['Initial'].map({'Master': 0, 'Miss': 1, 'Mr': 2, 'Mrs': 3, 'Other': 4})\n",
    "df_test['Initial'] = df_test['Initial'].map({'Master': 0, 'Miss': 1, 'Mr': 2, 'Mrs': 3, 'Other': 4})"
   ]
  },
  {
   "cell_type": "code",
   "execution_count": 54,
   "id": "96ca9fe5",
   "metadata": {
    "execution": {
     "iopub.execute_input": "2021-08-20T09:10:22.644682Z",
     "iopub.status.busy": "2021-08-20T09:10:22.644017Z",
     "iopub.status.idle": "2021-08-20T09:10:22.652070Z",
     "shell.execute_reply": "2021-08-20T09:10:22.652638Z",
     "shell.execute_reply.started": "2021-08-20T08:56:27.961651Z"
    },
    "papermill": {
     "duration": 0.121965,
     "end_time": "2021-08-20T09:10:22.652955",
     "exception": false,
     "start_time": "2021-08-20T09:10:22.530990",
     "status": "completed"
    },
    "tags": []
   },
   "outputs": [],
   "source": [
    "df_train['Embarked'] = df_train['Embarked'].map({'C': 0, 'Q': 1, 'S': 2})\n",
    "df_test['Embarked'] = df_test['Embarked'].map({'C': 0, 'Q': 1, 'S': 2})"
   ]
  },
  {
   "cell_type": "code",
   "execution_count": 55,
   "id": "f7183db9",
   "metadata": {
    "execution": {
     "iopub.execute_input": "2021-08-20T09:10:22.877962Z",
     "iopub.status.busy": "2021-08-20T09:10:22.877300Z",
     "iopub.status.idle": "2021-08-20T09:10:22.896596Z",
     "shell.execute_reply": "2021-08-20T09:10:22.896026Z",
     "shell.execute_reply.started": "2021-08-20T08:56:27.981689Z"
    },
    "papermill": {
     "duration": 0.132937,
     "end_time": "2021-08-20T09:10:22.896766",
     "exception": false,
     "start_time": "2021-08-20T09:10:22.763829",
     "status": "completed"
    },
    "tags": []
   },
   "outputs": [
    {
     "data": {
      "text/html": [
       "<div>\n",
       "<style scoped>\n",
       "    .dataframe tbody tr th:only-of-type {\n",
       "        vertical-align: middle;\n",
       "    }\n",
       "\n",
       "    .dataframe tbody tr th {\n",
       "        vertical-align: top;\n",
       "    }\n",
       "\n",
       "    .dataframe thead th {\n",
       "        text-align: right;\n",
       "    }\n",
       "</style>\n",
       "<table border=\"1\" class=\"dataframe\">\n",
       "  <thead>\n",
       "    <tr style=\"text-align: right;\">\n",
       "      <th></th>\n",
       "      <th>PassengerId</th>\n",
       "      <th>Survived</th>\n",
       "      <th>Pclass</th>\n",
       "      <th>Name</th>\n",
       "      <th>Sex</th>\n",
       "      <th>SibSp</th>\n",
       "      <th>Parch</th>\n",
       "      <th>Ticket</th>\n",
       "      <th>Fare</th>\n",
       "      <th>Cabin</th>\n",
       "      <th>Embarked</th>\n",
       "      <th>Initial</th>\n",
       "      <th>Age_cat</th>\n",
       "    </tr>\n",
       "  </thead>\n",
       "  <tbody>\n",
       "    <tr>\n",
       "      <th>0</th>\n",
       "      <td>1</td>\n",
       "      <td>0</td>\n",
       "      <td>3</td>\n",
       "      <td>Braund, Mr. Owen Harris</td>\n",
       "      <td>male</td>\n",
       "      <td>1</td>\n",
       "      <td>0</td>\n",
       "      <td>A/5 21171</td>\n",
       "      <td>1.981001</td>\n",
       "      <td>NaN</td>\n",
       "      <td>2</td>\n",
       "      <td>2.0</td>\n",
       "      <td>2</td>\n",
       "    </tr>\n",
       "    <tr>\n",
       "      <th>1</th>\n",
       "      <td>2</td>\n",
       "      <td>1</td>\n",
       "      <td>1</td>\n",
       "      <td>Cumings, Mrs. John Bradley (Florence Briggs Th...</td>\n",
       "      <td>female</td>\n",
       "      <td>1</td>\n",
       "      <td>0</td>\n",
       "      <td>PC 17599</td>\n",
       "      <td>4.266662</td>\n",
       "      <td>C85</td>\n",
       "      <td>0</td>\n",
       "      <td>3.0</td>\n",
       "      <td>3</td>\n",
       "    </tr>\n",
       "    <tr>\n",
       "      <th>2</th>\n",
       "      <td>3</td>\n",
       "      <td>1</td>\n",
       "      <td>3</td>\n",
       "      <td>Heikkinen, Miss. Laina</td>\n",
       "      <td>female</td>\n",
       "      <td>0</td>\n",
       "      <td>0</td>\n",
       "      <td>STON/O2. 3101282</td>\n",
       "      <td>2.070022</td>\n",
       "      <td>NaN</td>\n",
       "      <td>2</td>\n",
       "      <td>1.0</td>\n",
       "      <td>2</td>\n",
       "    </tr>\n",
       "    <tr>\n",
       "      <th>3</th>\n",
       "      <td>4</td>\n",
       "      <td>1</td>\n",
       "      <td>1</td>\n",
       "      <td>Futrelle, Mrs. Jacques Heath (Lily May Peel)</td>\n",
       "      <td>female</td>\n",
       "      <td>1</td>\n",
       "      <td>0</td>\n",
       "      <td>113803</td>\n",
       "      <td>3.972177</td>\n",
       "      <td>C123</td>\n",
       "      <td>2</td>\n",
       "      <td>3.0</td>\n",
       "      <td>3</td>\n",
       "    </tr>\n",
       "    <tr>\n",
       "      <th>4</th>\n",
       "      <td>5</td>\n",
       "      <td>0</td>\n",
       "      <td>3</td>\n",
       "      <td>Allen, Mr. William Henry</td>\n",
       "      <td>male</td>\n",
       "      <td>0</td>\n",
       "      <td>0</td>\n",
       "      <td>373450</td>\n",
       "      <td>2.085672</td>\n",
       "      <td>NaN</td>\n",
       "      <td>2</td>\n",
       "      <td>2.0</td>\n",
       "      <td>3</td>\n",
       "    </tr>\n",
       "  </tbody>\n",
       "</table>\n",
       "</div>"
      ],
      "text/plain": [
       "   PassengerId  Survived  Pclass  \\\n",
       "0            1         0       3   \n",
       "1            2         1       1   \n",
       "2            3         1       3   \n",
       "3            4         1       1   \n",
       "4            5         0       3   \n",
       "\n",
       "                                                Name     Sex  SibSp  Parch  \\\n",
       "0                            Braund, Mr. Owen Harris    male      1      0   \n",
       "1  Cumings, Mrs. John Bradley (Florence Briggs Th...  female      1      0   \n",
       "2                             Heikkinen, Miss. Laina  female      0      0   \n",
       "3       Futrelle, Mrs. Jacques Heath (Lily May Peel)  female      1      0   \n",
       "4                           Allen, Mr. William Henry    male      0      0   \n",
       "\n",
       "             Ticket      Fare Cabin  Embarked  Initial  Age_cat  \n",
       "0         A/5 21171  1.981001   NaN         2      2.0        2  \n",
       "1          PC 17599  4.266662   C85         0      3.0        3  \n",
       "2  STON/O2. 3101282  2.070022   NaN         2      1.0        2  \n",
       "3            113803  3.972177  C123         2      3.0        3  \n",
       "4            373450  2.085672   NaN         2      2.0        3  "
      ]
     },
     "execution_count": 55,
     "metadata": {},
     "output_type": "execute_result"
    }
   ],
   "source": [
    "df_train.head()"
   ]
  },
  {
   "cell_type": "code",
   "execution_count": 56,
   "id": "e3a4dd47",
   "metadata": {
    "execution": {
     "iopub.execute_input": "2021-08-20T09:10:23.127172Z",
     "iopub.status.busy": "2021-08-20T09:10:23.126111Z",
     "iopub.status.idle": "2021-08-20T09:10:23.130921Z",
     "shell.execute_reply": "2021-08-20T09:10:23.130208Z",
     "shell.execute_reply.started": "2021-08-20T08:56:28.012834Z"
    },
    "papermill": {
     "duration": 0.122941,
     "end_time": "2021-08-20T09:10:23.131077",
     "exception": false,
     "start_time": "2021-08-20T09:10:23.008136",
     "status": "completed"
    },
    "tags": []
   },
   "outputs": [
    {
     "data": {
      "text/plain": [
       "False"
      ]
     },
     "execution_count": 56,
     "metadata": {},
     "output_type": "execute_result"
    }
   ],
   "source": [
    "df_train.Embarked.isnull().any()"
   ]
  },
  {
   "cell_type": "code",
   "execution_count": 57,
   "id": "836416f2",
   "metadata": {
    "execution": {
     "iopub.execute_input": "2021-08-20T09:10:23.363114Z",
     "iopub.status.busy": "2021-08-20T09:10:23.361964Z",
     "iopub.status.idle": "2021-08-20T09:10:23.367066Z",
     "shell.execute_reply": "2021-08-20T09:10:23.366360Z",
     "shell.execute_reply.started": "2021-08-20T08:56:28.025965Z"
    },
    "papermill": {
     "duration": 0.123237,
     "end_time": "2021-08-20T09:10:23.367219",
     "exception": false,
     "start_time": "2021-08-20T09:10:23.243982",
     "status": "completed"
    },
    "tags": []
   },
   "outputs": [
    {
     "data": {
      "text/plain": [
       "array(['male', 'female'], dtype=object)"
      ]
     },
     "execution_count": 57,
     "metadata": {},
     "output_type": "execute_result"
    }
   ],
   "source": [
    "df_train['Sex'].unique()"
   ]
  },
  {
   "cell_type": "code",
   "execution_count": 58,
   "id": "ee7be8c9",
   "metadata": {
    "execution": {
     "iopub.execute_input": "2021-08-20T09:10:23.611851Z",
     "iopub.status.busy": "2021-08-20T09:10:23.611128Z",
     "iopub.status.idle": "2021-08-20T09:10:23.614831Z",
     "shell.execute_reply": "2021-08-20T09:10:23.614057Z",
     "shell.execute_reply.started": "2021-08-20T08:56:28.044652Z"
    },
    "papermill": {
     "duration": 0.125365,
     "end_time": "2021-08-20T09:10:23.614990",
     "exception": false,
     "start_time": "2021-08-20T09:10:23.489625",
     "status": "completed"
    },
    "tags": []
   },
   "outputs": [],
   "source": [
    "df_train['Sex'] = df_train['Sex'].map({'female': 0, 'male': 1})\n",
    "df_test['Sex'] = df_test['Sex'].map({'female': 0, 'male': 1})"
   ]
  },
  {
   "cell_type": "code",
   "execution_count": 59,
   "id": "e7cd69da",
   "metadata": {
    "execution": {
     "iopub.execute_input": "2021-08-20T09:10:23.845614Z",
     "iopub.status.busy": "2021-08-20T09:10:23.844553Z",
     "iopub.status.idle": "2021-08-20T09:10:23.862287Z",
     "shell.execute_reply": "2021-08-20T09:10:23.862817Z",
     "shell.execute_reply.started": "2021-08-20T08:56:28.061429Z"
    },
    "papermill": {
     "duration": 0.135054,
     "end_time": "2021-08-20T09:10:23.862991",
     "exception": false,
     "start_time": "2021-08-20T09:10:23.727937",
     "status": "completed"
    },
    "tags": []
   },
   "outputs": [
    {
     "data": {
      "text/html": [
       "<div>\n",
       "<style scoped>\n",
       "    .dataframe tbody tr th:only-of-type {\n",
       "        vertical-align: middle;\n",
       "    }\n",
       "\n",
       "    .dataframe tbody tr th {\n",
       "        vertical-align: top;\n",
       "    }\n",
       "\n",
       "    .dataframe thead th {\n",
       "        text-align: right;\n",
       "    }\n",
       "</style>\n",
       "<table border=\"1\" class=\"dataframe\">\n",
       "  <thead>\n",
       "    <tr style=\"text-align: right;\">\n",
       "      <th></th>\n",
       "      <th>PassengerId</th>\n",
       "      <th>Survived</th>\n",
       "      <th>Pclass</th>\n",
       "      <th>Name</th>\n",
       "      <th>Sex</th>\n",
       "      <th>SibSp</th>\n",
       "      <th>Parch</th>\n",
       "      <th>Ticket</th>\n",
       "      <th>Fare</th>\n",
       "      <th>Cabin</th>\n",
       "      <th>Embarked</th>\n",
       "      <th>Initial</th>\n",
       "      <th>Age_cat</th>\n",
       "    </tr>\n",
       "  </thead>\n",
       "  <tbody>\n",
       "    <tr>\n",
       "      <th>0</th>\n",
       "      <td>1</td>\n",
       "      <td>0</td>\n",
       "      <td>3</td>\n",
       "      <td>Braund, Mr. Owen Harris</td>\n",
       "      <td>1</td>\n",
       "      <td>1</td>\n",
       "      <td>0</td>\n",
       "      <td>A/5 21171</td>\n",
       "      <td>1.981001</td>\n",
       "      <td>NaN</td>\n",
       "      <td>2</td>\n",
       "      <td>2.0</td>\n",
       "      <td>2</td>\n",
       "    </tr>\n",
       "    <tr>\n",
       "      <th>1</th>\n",
       "      <td>2</td>\n",
       "      <td>1</td>\n",
       "      <td>1</td>\n",
       "      <td>Cumings, Mrs. John Bradley (Florence Briggs Th...</td>\n",
       "      <td>0</td>\n",
       "      <td>1</td>\n",
       "      <td>0</td>\n",
       "      <td>PC 17599</td>\n",
       "      <td>4.266662</td>\n",
       "      <td>C85</td>\n",
       "      <td>0</td>\n",
       "      <td>3.0</td>\n",
       "      <td>3</td>\n",
       "    </tr>\n",
       "    <tr>\n",
       "      <th>2</th>\n",
       "      <td>3</td>\n",
       "      <td>1</td>\n",
       "      <td>3</td>\n",
       "      <td>Heikkinen, Miss. Laina</td>\n",
       "      <td>0</td>\n",
       "      <td>0</td>\n",
       "      <td>0</td>\n",
       "      <td>STON/O2. 3101282</td>\n",
       "      <td>2.070022</td>\n",
       "      <td>NaN</td>\n",
       "      <td>2</td>\n",
       "      <td>1.0</td>\n",
       "      <td>2</td>\n",
       "    </tr>\n",
       "    <tr>\n",
       "      <th>3</th>\n",
       "      <td>4</td>\n",
       "      <td>1</td>\n",
       "      <td>1</td>\n",
       "      <td>Futrelle, Mrs. Jacques Heath (Lily May Peel)</td>\n",
       "      <td>0</td>\n",
       "      <td>1</td>\n",
       "      <td>0</td>\n",
       "      <td>113803</td>\n",
       "      <td>3.972177</td>\n",
       "      <td>C123</td>\n",
       "      <td>2</td>\n",
       "      <td>3.0</td>\n",
       "      <td>3</td>\n",
       "    </tr>\n",
       "    <tr>\n",
       "      <th>4</th>\n",
       "      <td>5</td>\n",
       "      <td>0</td>\n",
       "      <td>3</td>\n",
       "      <td>Allen, Mr. William Henry</td>\n",
       "      <td>1</td>\n",
       "      <td>0</td>\n",
       "      <td>0</td>\n",
       "      <td>373450</td>\n",
       "      <td>2.085672</td>\n",
       "      <td>NaN</td>\n",
       "      <td>2</td>\n",
       "      <td>2.0</td>\n",
       "      <td>3</td>\n",
       "    </tr>\n",
       "  </tbody>\n",
       "</table>\n",
       "</div>"
      ],
      "text/plain": [
       "   PassengerId  Survived  Pclass  \\\n",
       "0            1         0       3   \n",
       "1            2         1       1   \n",
       "2            3         1       3   \n",
       "3            4         1       1   \n",
       "4            5         0       3   \n",
       "\n",
       "                                                Name  Sex  SibSp  Parch  \\\n",
       "0                            Braund, Mr. Owen Harris    1      1      0   \n",
       "1  Cumings, Mrs. John Bradley (Florence Briggs Th...    0      1      0   \n",
       "2                             Heikkinen, Miss. Laina    0      0      0   \n",
       "3       Futrelle, Mrs. Jacques Heath (Lily May Peel)    0      1      0   \n",
       "4                           Allen, Mr. William Henry    1      0      0   \n",
       "\n",
       "             Ticket      Fare Cabin  Embarked  Initial  Age_cat  \n",
       "0         A/5 21171  1.981001   NaN         2      2.0        2  \n",
       "1          PC 17599  4.266662   C85         0      3.0        3  \n",
       "2  STON/O2. 3101282  2.070022   NaN         2      1.0        2  \n",
       "3            113803  3.972177  C123         2      3.0        3  \n",
       "4            373450  2.085672   NaN         2      2.0        3  "
      ]
     },
     "execution_count": 59,
     "metadata": {},
     "output_type": "execute_result"
    }
   ],
   "source": [
    "df_train.head()"
   ]
  },
  {
   "cell_type": "code",
   "execution_count": 60,
   "id": "3f8eb677",
   "metadata": {
    "execution": {
     "iopub.execute_input": "2021-08-20T09:10:24.101538Z",
     "iopub.status.busy": "2021-08-20T09:10:24.100763Z",
     "iopub.status.idle": "2021-08-20T09:10:24.103501Z",
     "shell.execute_reply": "2021-08-20T09:10:24.102967Z",
     "shell.execute_reply.started": "2021-08-20T08:56:28.097874Z"
    },
    "papermill": {
     "duration": 0.129125,
     "end_time": "2021-08-20T09:10:24.103655",
     "exception": false,
     "start_time": "2021-08-20T09:10:23.974530",
     "status": "completed"
    },
    "tags": []
   },
   "outputs": [],
   "source": [
    "df_train['FamilySize'] = df_train['SibSp'] + df_train['Parch'] + 1\n",
    "df_test['FamilySize'] = df_test['SibSp'] + df_test['Parch'] + 1"
   ]
  },
  {
   "cell_type": "code",
   "execution_count": 61,
   "id": "e8d67257",
   "metadata": {
    "execution": {
     "iopub.execute_input": "2021-08-20T09:10:24.340259Z",
     "iopub.status.busy": "2021-08-20T09:10:24.339567Z",
     "iopub.status.idle": "2021-08-20T09:10:24.342807Z",
     "shell.execute_reply": "2021-08-20T09:10:24.343358Z",
     "shell.execute_reply.started": "2021-08-20T08:56:28.111743Z"
    },
    "papermill": {
     "duration": 0.125723,
     "end_time": "2021-08-20T09:10:24.343527",
     "exception": false,
     "start_time": "2021-08-20T09:10:24.217804",
     "status": "completed"
    },
    "tags": []
   },
   "outputs": [],
   "source": [
    "heatmap_data = df_train[['Survived', 'Pclass', 'Sex', 'Fare', 'Embarked', 'FamilySize', 'Initial', 'Age_cat']]"
   ]
  },
  {
   "cell_type": "code",
   "execution_count": 62,
   "id": "cc441cf6",
   "metadata": {
    "execution": {
     "iopub.execute_input": "2021-08-20T09:10:24.574134Z",
     "iopub.status.busy": "2021-08-20T09:10:24.573308Z",
     "iopub.status.idle": "2021-08-20T09:10:25.413006Z",
     "shell.execute_reply": "2021-08-20T09:10:25.412421Z",
     "shell.execute_reply.started": "2021-08-20T08:56:28.133227Z"
    },
    "papermill": {
     "duration": 0.956114,
     "end_time": "2021-08-20T09:10:25.413173",
     "exception": false,
     "start_time": "2021-08-20T09:10:24.457059",
     "status": "completed"
    },
    "tags": []
   },
   "outputs": [
    {
     "data": {
      "text/plain": [
       "<AxesSubplot:title={'center':'Pearson Correalation of Featrues'}>"
      ]
     },
     "execution_count": 62,
     "metadata": {},
     "output_type": "execute_result"
    },
    {
     "data": {
      "image/png": "[encoded data removed]",
      "text/plain": [
       "<Figure size 1008x864 with 2 Axes>"
      ]
     },
     "metadata": {
      "needs_background": "light"
     },
     "output_type": "display_data"
    }
   ],
   "source": [
    "colormap = plt.cm.BuGn\n",
    "plt.figure(figsize=(14, 12))\n",
    "plt.title('Pearson Correalation of Featrues', y=1.05, size=15)\n",
    "sns.heatmap(heatmap_data.astype(float).corr(), linewidths=0.1, vmax=1.0,\n",
    "            square=True, cmap=colormap, linecolor='white', annot=True, annot_kws={'size': 16}, fmt='.2f')"
   ]
  },
  {
   "cell_type": "code",
   "execution_count": 63,
   "id": "bda9b4e5",
   "metadata": {
    "execution": {
     "iopub.execute_input": "2021-08-20T09:10:25.660778Z",
     "iopub.status.busy": "2021-08-20T09:10:25.660008Z",
     "iopub.status.idle": "2021-08-20T09:10:25.670260Z",
     "shell.execute_reply": "2021-08-20T09:10:25.669437Z",
     "shell.execute_reply.started": "2021-08-20T08:56:29.041648Z"
    },
    "papermill": {
     "duration": 0.139535,
     "end_time": "2021-08-20T09:10:25.670425",
     "exception": false,
     "start_time": "2021-08-20T09:10:25.530890",
     "status": "completed"
    },
    "tags": []
   },
   "outputs": [],
   "source": [
    "df_train = pd.get_dummies(df_train, columns=['Initial'], prefix='Initial')\n",
    "df_test = pd.get_dummies(df_test, columns=['Initial'], prefix='Initial')"
   ]
  },
  {
   "cell_type": "code",
   "execution_count": 64,
   "id": "0e39f6a5",
   "metadata": {
    "execution": {
     "iopub.execute_input": "2021-08-20T09:10:25.925553Z",
     "iopub.status.busy": "2021-08-20T09:10:25.924776Z",
     "iopub.status.idle": "2021-08-20T09:10:25.929743Z",
     "shell.execute_reply": "2021-08-20T09:10:25.929100Z",
     "shell.execute_reply.started": "2021-08-20T08:56:29.063199Z"
    },
    "papermill": {
     "duration": 0.14267,
     "end_time": "2021-08-20T09:10:25.929900",
     "exception": false,
     "start_time": "2021-08-20T09:10:25.787230",
     "status": "completed"
    },
    "tags": []
   },
   "outputs": [
    {
     "data": {
      "text/html": [
       "<div>\n",
       "<style scoped>\n",
       "    .dataframe tbody tr th:only-of-type {\n",
       "        vertical-align: middle;\n",
       "    }\n",
       "\n",
       "    .dataframe tbody tr th {\n",
       "        vertical-align: top;\n",
       "    }\n",
       "\n",
       "    .dataframe thead th {\n",
       "        text-align: right;\n",
       "    }\n",
       "</style>\n",
       "<table border=\"1\" class=\"dataframe\">\n",
       "  <thead>\n",
       "    <tr style=\"text-align: right;\">\n",
       "      <th></th>\n",
       "      <th>PassengerId</th>\n",
       "      <th>Survived</th>\n",
       "      <th>Pclass</th>\n",
       "      <th>Name</th>\n",
       "      <th>Sex</th>\n",
       "      <th>SibSp</th>\n",
       "      <th>Parch</th>\n",
       "      <th>Ticket</th>\n",
       "      <th>Fare</th>\n",
       "      <th>Cabin</th>\n",
       "      <th>Embarked</th>\n",
       "      <th>Age_cat</th>\n",
       "      <th>FamilySize</th>\n",
       "      <th>Initial_0.0</th>\n",
       "      <th>Initial_1.0</th>\n",
       "      <th>Initial_2.0</th>\n",
       "      <th>Initial_3.0</th>\n",
       "      <th>Initial_4.0</th>\n",
       "    </tr>\n",
       "  </thead>\n",
       "  <tbody>\n",
       "    <tr>\n",
       "      <th>0</th>\n",
       "      <td>1</td>\n",
       "      <td>0</td>\n",
       "      <td>3</td>\n",
       "      <td>Braund, Mr. Owen Harris</td>\n",
       "      <td>1</td>\n",
       "      <td>1</td>\n",
       "      <td>0</td>\n",
       "      <td>A/5 21171</td>\n",
       "      <td>1.981001</td>\n",
       "      <td>NaN</td>\n",
       "      <td>2</td>\n",
       "      <td>2</td>\n",
       "      <td>2</td>\n",
       "      <td>0</td>\n",
       "      <td>0</td>\n",
       "      <td>1</td>\n",
       "      <td>0</td>\n",
       "      <td>0</td>\n",
       "    </tr>\n",
       "    <tr>\n",
       "      <th>1</th>\n",
       "      <td>2</td>\n",
       "      <td>1</td>\n",
       "      <td>1</td>\n",
       "      <td>Cumings, Mrs. John Bradley (Florence Briggs Th...</td>\n",
       "      <td>0</td>\n",
       "      <td>1</td>\n",
       "      <td>0</td>\n",
       "      <td>PC 17599</td>\n",
       "      <td>4.266662</td>\n",
       "      <td>C85</td>\n",
       "      <td>0</td>\n",
       "      <td>3</td>\n",
       "      <td>2</td>\n",
       "      <td>0</td>\n",
       "      <td>0</td>\n",
       "      <td>0</td>\n",
       "      <td>1</td>\n",
       "      <td>0</td>\n",
       "    </tr>\n",
       "    <tr>\n",
       "      <th>2</th>\n",
       "      <td>3</td>\n",
       "      <td>1</td>\n",
       "      <td>3</td>\n",
       "      <td>Heikkinen, Miss. Laina</td>\n",
       "      <td>0</td>\n",
       "      <td>0</td>\n",
       "      <td>0</td>\n",
       "      <td>STON/O2. 3101282</td>\n",
       "      <td>2.070022</td>\n",
       "      <td>NaN</td>\n",
       "      <td>2</td>\n",
       "      <td>2</td>\n",
       "      <td>1</td>\n",
       "      <td>0</td>\n",
       "      <td>1</td>\n",
       "      <td>0</td>\n",
       "      <td>0</td>\n",
       "      <td>0</td>\n",
       "    </tr>\n",
       "    <tr>\n",
       "      <th>3</th>\n",
       "      <td>4</td>\n",
       "      <td>1</td>\n",
       "      <td>1</td>\n",
       "      <td>Futrelle, Mrs. Jacques Heath (Lily May Peel)</td>\n",
       "      <td>0</td>\n",
       "      <td>1</td>\n",
       "      <td>0</td>\n",
       "      <td>113803</td>\n",
       "      <td>3.972177</td>\n",
       "      <td>C123</td>\n",
       "      <td>2</td>\n",
       "      <td>3</td>\n",
       "      <td>2</td>\n",
       "      <td>0</td>\n",
       "      <td>0</td>\n",
       "      <td>0</td>\n",
       "      <td>1</td>\n",
       "      <td>0</td>\n",
       "    </tr>\n",
       "    <tr>\n",
       "      <th>4</th>\n",
       "      <td>5</td>\n",
       "      <td>0</td>\n",
       "      <td>3</td>\n",
       "      <td>Allen, Mr. William Henry</td>\n",
       "      <td>1</td>\n",
       "      <td>0</td>\n",
       "      <td>0</td>\n",
       "      <td>373450</td>\n",
       "      <td>2.085672</td>\n",
       "      <td>NaN</td>\n",
       "      <td>2</td>\n",
       "      <td>3</td>\n",
       "      <td>1</td>\n",
       "      <td>0</td>\n",
       "      <td>0</td>\n",
       "      <td>1</td>\n",
       "      <td>0</td>\n",
       "      <td>0</td>\n",
       "    </tr>\n",
       "  </tbody>\n",
       "</table>\n",
       "</div>"
      ],
      "text/plain": [
       "   PassengerId  Survived  Pclass  \\\n",
       "0            1         0       3   \n",
       "1            2         1       1   \n",
       "2            3         1       3   \n",
       "3            4         1       1   \n",
       "4            5         0       3   \n",
       "\n",
       "                                                Name  Sex  SibSp  Parch  \\\n",
       "0                            Braund, Mr. Owen Harris    1      1      0   \n",
       "1  Cumings, Mrs. John Bradley (Florence Briggs Th...    0      1      0   \n",
       "2                             Heikkinen, Miss. Laina    0      0      0   \n",
       "3       Futrelle, Mrs. Jacques Heath (Lily May Peel)    0      1      0   \n",
       "4                           Allen, Mr. William Henry    1      0      0   \n",
       "\n",
       "             Ticket      Fare Cabin  Embarked  Age_cat  FamilySize  \\\n",
       "0         A/5 21171  1.981001   NaN         2        2           2   \n",
       "1          PC 17599  4.266662   C85         0        3           2   \n",
       "2  STON/O2. 3101282  2.070022   NaN         2        2           1   \n",
       "3            113803  3.972177  C123         2        3           2   \n",
       "4            373450  2.085672   NaN         2        3           1   \n",
       "\n",
       "   Initial_0.0  Initial_1.0  Initial_2.0  Initial_3.0  Initial_4.0  \n",
       "0            0            0            1            0            0  \n",
       "1            0            0            0            1            0  \n",
       "2            0            1            0            0            0  \n",
       "3            0            0            0            1            0  \n",
       "4            0            0            1            0            0  "
      ]
     },
     "execution_count": 64,
     "metadata": {},
     "output_type": "execute_result"
    }
   ],
   "source": [
    "df_train.head()"
   ]
  },
  {
   "cell_type": "code",
   "execution_count": 65,
   "id": "3b068632",
   "metadata": {
    "execution": {
     "iopub.execute_input": "2021-08-20T09:10:26.179192Z",
     "iopub.status.busy": "2021-08-20T09:10:26.172647Z",
     "iopub.status.idle": "2021-08-20T09:10:26.187864Z",
     "shell.execute_reply": "2021-08-20T09:10:26.187117Z",
     "shell.execute_reply.started": "2021-08-20T08:56:29.087830Z"
    },
    "papermill": {
     "duration": 0.139492,
     "end_time": "2021-08-20T09:10:26.188041",
     "exception": false,
     "start_time": "2021-08-20T09:10:26.048549",
     "status": "completed"
    },
    "tags": []
   },
   "outputs": [],
   "source": [
    "df_train = pd.get_dummies(df_train, columns=['Embarked'], prefix='Embarked')\n",
    "df_test = pd.get_dummies(df_test, columns=['Embarked'], prefix='Embarked')"
   ]
  },
  {
   "cell_type": "code",
   "execution_count": 66,
   "id": "33c6645e",
   "metadata": {
    "execution": {
     "iopub.execute_input": "2021-08-20T09:10:26.444095Z",
     "iopub.status.busy": "2021-08-20T09:10:26.443412Z",
     "iopub.status.idle": "2021-08-20T09:10:26.448256Z",
     "shell.execute_reply": "2021-08-20T09:10:26.447721Z",
     "shell.execute_reply.started": "2021-08-20T08:56:29.114723Z"
    },
    "papermill": {
     "duration": 0.142501,
     "end_time": "2021-08-20T09:10:26.448411",
     "exception": false,
     "start_time": "2021-08-20T09:10:26.305910",
     "status": "completed"
    },
    "tags": []
   },
   "outputs": [
    {
     "data": {
      "text/html": [
       "<div>\n",
       "<style scoped>\n",
       "    .dataframe tbody tr th:only-of-type {\n",
       "        vertical-align: middle;\n",
       "    }\n",
       "\n",
       "    .dataframe tbody tr th {\n",
       "        vertical-align: top;\n",
       "    }\n",
       "\n",
       "    .dataframe thead th {\n",
       "        text-align: right;\n",
       "    }\n",
       "</style>\n",
       "<table border=\"1\" class=\"dataframe\">\n",
       "  <thead>\n",
       "    <tr style=\"text-align: right;\">\n",
       "      <th></th>\n",
       "      <th>PassengerId</th>\n",
       "      <th>Survived</th>\n",
       "      <th>Pclass</th>\n",
       "      <th>Name</th>\n",
       "      <th>Sex</th>\n",
       "      <th>SibSp</th>\n",
       "      <th>Parch</th>\n",
       "      <th>Ticket</th>\n",
       "      <th>Fare</th>\n",
       "      <th>Cabin</th>\n",
       "      <th>Age_cat</th>\n",
       "      <th>FamilySize</th>\n",
       "      <th>Initial_0.0</th>\n",
       "      <th>Initial_1.0</th>\n",
       "      <th>Initial_2.0</th>\n",
       "      <th>Initial_3.0</th>\n",
       "      <th>Initial_4.0</th>\n",
       "      <th>Embarked_0</th>\n",
       "      <th>Embarked_1</th>\n",
       "      <th>Embarked_2</th>\n",
       "    </tr>\n",
       "  </thead>\n",
       "  <tbody>\n",
       "    <tr>\n",
       "      <th>0</th>\n",
       "      <td>1</td>\n",
       "      <td>0</td>\n",
       "      <td>3</td>\n",
       "      <td>Braund, Mr. Owen Harris</td>\n",
       "      <td>1</td>\n",
       "      <td>1</td>\n",
       "      <td>0</td>\n",
       "      <td>A/5 21171</td>\n",
       "      <td>1.981001</td>\n",
       "      <td>NaN</td>\n",
       "      <td>2</td>\n",
       "      <td>2</td>\n",
       "      <td>0</td>\n",
       "      <td>0</td>\n",
       "      <td>1</td>\n",
       "      <td>0</td>\n",
       "      <td>0</td>\n",
       "      <td>0</td>\n",
       "      <td>0</td>\n",
       "      <td>1</td>\n",
       "    </tr>\n",
       "    <tr>\n",
       "      <th>1</th>\n",
       "      <td>2</td>\n",
       "      <td>1</td>\n",
       "      <td>1</td>\n",
       "      <td>Cumings, Mrs. John Bradley (Florence Briggs Th...</td>\n",
       "      <td>0</td>\n",
       "      <td>1</td>\n",
       "      <td>0</td>\n",
       "      <td>PC 17599</td>\n",
       "      <td>4.266662</td>\n",
       "      <td>C85</td>\n",
       "      <td>3</td>\n",
       "      <td>2</td>\n",
       "      <td>0</td>\n",
       "      <td>0</td>\n",
       "      <td>0</td>\n",
       "      <td>1</td>\n",
       "      <td>0</td>\n",
       "      <td>1</td>\n",
       "      <td>0</td>\n",
       "      <td>0</td>\n",
       "    </tr>\n",
       "    <tr>\n",
       "      <th>2</th>\n",
       "      <td>3</td>\n",
       "      <td>1</td>\n",
       "      <td>3</td>\n",
       "      <td>Heikkinen, Miss. Laina</td>\n",
       "      <td>0</td>\n",
       "      <td>0</td>\n",
       "      <td>0</td>\n",
       "      <td>STON/O2. 3101282</td>\n",
       "      <td>2.070022</td>\n",
       "      <td>NaN</td>\n",
       "      <td>2</td>\n",
       "      <td>1</td>\n",
       "      <td>0</td>\n",
       "      <td>1</td>\n",
       "      <td>0</td>\n",
       "      <td>0</td>\n",
       "      <td>0</td>\n",
       "      <td>0</td>\n",
       "      <td>0</td>\n",
       "      <td>1</td>\n",
       "    </tr>\n",
       "    <tr>\n",
       "      <th>3</th>\n",
       "      <td>4</td>\n",
       "      <td>1</td>\n",
       "      <td>1</td>\n",
       "      <td>Futrelle, Mrs. Jacques Heath (Lily May Peel)</td>\n",
       "      <td>0</td>\n",
       "      <td>1</td>\n",
       "      <td>0</td>\n",
       "      <td>113803</td>\n",
       "      <td>3.972177</td>\n",
       "      <td>C123</td>\n",
       "      <td>3</td>\n",
       "      <td>2</td>\n",
       "      <td>0</td>\n",
       "      <td>0</td>\n",
       "      <td>0</td>\n",
       "      <td>1</td>\n",
       "      <td>0</td>\n",
       "      <td>0</td>\n",
       "      <td>0</td>\n",
       "      <td>1</td>\n",
       "    </tr>\n",
       "    <tr>\n",
       "      <th>4</th>\n",
       "      <td>5</td>\n",
       "      <td>0</td>\n",
       "      <td>3</td>\n",
       "      <td>Allen, Mr. William Henry</td>\n",
       "      <td>1</td>\n",
       "      <td>0</td>\n",
       "      <td>0</td>\n",
       "      <td>373450</td>\n",
       "      <td>2.085672</td>\n",
       "      <td>NaN</td>\n",
       "      <td>3</td>\n",
       "      <td>1</td>\n",
       "      <td>0</td>\n",
       "      <td>0</td>\n",
       "      <td>1</td>\n",
       "      <td>0</td>\n",
       "      <td>0</td>\n",
       "      <td>0</td>\n",
       "      <td>0</td>\n",
       "      <td>1</td>\n",
       "    </tr>\n",
       "  </tbody>\n",
       "</table>\n",
       "</div>"
      ],
      "text/plain": [
       "   PassengerId  Survived  Pclass  \\\n",
       "0            1         0       3   \n",
       "1            2         1       1   \n",
       "2            3         1       3   \n",
       "3            4         1       1   \n",
       "4            5         0       3   \n",
       "\n",
       "                                                Name  Sex  SibSp  Parch  \\\n",
       "0                            Braund, Mr. Owen Harris    1      1      0   \n",
       "1  Cumings, Mrs. John Bradley (Florence Briggs Th...    0      1      0   \n",
       "2                             Heikkinen, Miss. Laina    0      0      0   \n",
       "3       Futrelle, Mrs. Jacques Heath (Lily May Peel)    0      1      0   \n",
       "4                           Allen, Mr. William Henry    1      0      0   \n",
       "\n",
       "             Ticket      Fare Cabin  Age_cat  FamilySize  Initial_0.0  \\\n",
       "0         A/5 21171  1.981001   NaN        2           2            0   \n",
       "1          PC 17599  4.266662   C85        3           2            0   \n",
       "2  STON/O2. 3101282  2.070022   NaN        2           1            0   \n",
       "3            113803  3.972177  C123        3           2            0   \n",
       "4            373450  2.085672   NaN        3           1            0   \n",
       "\n",
       "   Initial_1.0  Initial_2.0  Initial_3.0  Initial_4.0  Embarked_0  Embarked_1  \\\n",
       "0            0            1            0            0           0           0   \n",
       "1            0            0            1            0           1           0   \n",
       "2            1            0            0            0           0           0   \n",
       "3            0            0            1            0           0           0   \n",
       "4            0            1            0            0           0           0   \n",
       "\n",
       "   Embarked_2  \n",
       "0           1  \n",
       "1           0  \n",
       "2           1  \n",
       "3           1  \n",
       "4           1  "
      ]
     },
     "execution_count": 66,
     "metadata": {},
     "output_type": "execute_result"
    }
   ],
   "source": [
    "df_train.head()"
   ]
  },
  {
   "cell_type": "code",
   "execution_count": 67,
   "id": "dda3d3b7",
   "metadata": {
    "execution": {
     "iopub.execute_input": "2021-08-20T09:10:26.693742Z",
     "iopub.status.busy": "2021-08-20T09:10:26.692991Z",
     "iopub.status.idle": "2021-08-20T09:10:26.696023Z",
     "shell.execute_reply": "2021-08-20T09:10:26.695355Z",
     "shell.execute_reply.started": "2021-08-20T08:56:29.143126Z"
    },
    "papermill": {
     "duration": 0.129785,
     "end_time": "2021-08-20T09:10:26.696170",
     "exception": false,
     "start_time": "2021-08-20T09:10:26.566385",
     "status": "completed"
    },
    "tags": []
   },
   "outputs": [],
   "source": [
    "df_train.drop(['PassengerId', 'Name', 'SibSp', 'Parch', 'Ticket', 'Cabin'], axis=1, inplace=True)\n",
    "df_test.drop(['PassengerId', 'Name', 'SibSp', 'Parch', 'Ticket', 'Cabin'], axis=1, inplace=True)"
   ]
  },
  {
   "cell_type": "code",
   "execution_count": 68,
   "id": "de86f0fe",
   "metadata": {
    "execution": {
     "iopub.execute_input": "2021-08-20T09:10:26.952603Z",
     "iopub.status.busy": "2021-08-20T09:10:26.951849Z",
     "iopub.status.idle": "2021-08-20T09:10:26.956646Z",
     "shell.execute_reply": "2021-08-20T09:10:26.956075Z",
     "shell.execute_reply.started": "2021-08-20T08:56:29.165593Z"
    },
    "papermill": {
     "duration": 0.139374,
     "end_time": "2021-08-20T09:10:26.956800",
     "exception": false,
     "start_time": "2021-08-20T09:10:26.817426",
     "status": "completed"
    },
    "tags": []
   },
   "outputs": [
    {
     "data": {
      "text/html": [
       "<div>\n",
       "<style scoped>\n",
       "    .dataframe tbody tr th:only-of-type {\n",
       "        vertical-align: middle;\n",
       "    }\n",
       "\n",
       "    .dataframe tbody tr th {\n",
       "        vertical-align: top;\n",
       "    }\n",
       "\n",
       "    .dataframe thead th {\n",
       "        text-align: right;\n",
       "    }\n",
       "</style>\n",
       "<table border=\"1\" class=\"dataframe\">\n",
       "  <thead>\n",
       "    <tr style=\"text-align: right;\">\n",
       "      <th></th>\n",
       "      <th>Survived</th>\n",
       "      <th>Pclass</th>\n",
       "      <th>Sex</th>\n",
       "      <th>Fare</th>\n",
       "      <th>Age_cat</th>\n",
       "      <th>FamilySize</th>\n",
       "      <th>Initial_0.0</th>\n",
       "      <th>Initial_1.0</th>\n",
       "      <th>Initial_2.0</th>\n",
       "      <th>Initial_3.0</th>\n",
       "      <th>Initial_4.0</th>\n",
       "      <th>Embarked_0</th>\n",
       "      <th>Embarked_1</th>\n",
       "      <th>Embarked_2</th>\n",
       "    </tr>\n",
       "  </thead>\n",
       "  <tbody>\n",
       "    <tr>\n",
       "      <th>0</th>\n",
       "      <td>0</td>\n",
       "      <td>3</td>\n",
       "      <td>1</td>\n",
       "      <td>1.981001</td>\n",
       "      <td>2</td>\n",
       "      <td>2</td>\n",
       "      <td>0</td>\n",
       "      <td>0</td>\n",
       "      <td>1</td>\n",
       "      <td>0</td>\n",
       "      <td>0</td>\n",
       "      <td>0</td>\n",
       "      <td>0</td>\n",
       "      <td>1</td>\n",
       "    </tr>\n",
       "    <tr>\n",
       "      <th>1</th>\n",
       "      <td>1</td>\n",
       "      <td>1</td>\n",
       "      <td>0</td>\n",
       "      <td>4.266662</td>\n",
       "      <td>3</td>\n",
       "      <td>2</td>\n",
       "      <td>0</td>\n",
       "      <td>0</td>\n",
       "      <td>0</td>\n",
       "      <td>1</td>\n",
       "      <td>0</td>\n",
       "      <td>1</td>\n",
       "      <td>0</td>\n",
       "      <td>0</td>\n",
       "    </tr>\n",
       "    <tr>\n",
       "      <th>2</th>\n",
       "      <td>1</td>\n",
       "      <td>3</td>\n",
       "      <td>0</td>\n",
       "      <td>2.070022</td>\n",
       "      <td>2</td>\n",
       "      <td>1</td>\n",
       "      <td>0</td>\n",
       "      <td>1</td>\n",
       "      <td>0</td>\n",
       "      <td>0</td>\n",
       "      <td>0</td>\n",
       "      <td>0</td>\n",
       "      <td>0</td>\n",
       "      <td>1</td>\n",
       "    </tr>\n",
       "    <tr>\n",
       "      <th>3</th>\n",
       "      <td>1</td>\n",
       "      <td>1</td>\n",
       "      <td>0</td>\n",
       "      <td>3.972177</td>\n",
       "      <td>3</td>\n",
       "      <td>2</td>\n",
       "      <td>0</td>\n",
       "      <td>0</td>\n",
       "      <td>0</td>\n",
       "      <td>1</td>\n",
       "      <td>0</td>\n",
       "      <td>0</td>\n",
       "      <td>0</td>\n",
       "      <td>1</td>\n",
       "    </tr>\n",
       "    <tr>\n",
       "      <th>4</th>\n",
       "      <td>0</td>\n",
       "      <td>3</td>\n",
       "      <td>1</td>\n",
       "      <td>2.085672</td>\n",
       "      <td>3</td>\n",
       "      <td>1</td>\n",
       "      <td>0</td>\n",
       "      <td>0</td>\n",
       "      <td>1</td>\n",
       "      <td>0</td>\n",
       "      <td>0</td>\n",
       "      <td>0</td>\n",
       "      <td>0</td>\n",
       "      <td>1</td>\n",
       "    </tr>\n",
       "  </tbody>\n",
       "</table>\n",
       "</div>"
      ],
      "text/plain": [
       "   Survived  Pclass  Sex      Fare  Age_cat  FamilySize  Initial_0.0  \\\n",
       "0         0       3    1  1.981001        2           2            0   \n",
       "1         1       1    0  4.266662        3           2            0   \n",
       "2         1       3    0  2.070022        2           1            0   \n",
       "3         1       1    0  3.972177        3           2            0   \n",
       "4         0       3    1  2.085672        3           1            0   \n",
       "\n",
       "   Initial_1.0  Initial_2.0  Initial_3.0  Initial_4.0  Embarked_0  Embarked_1  \\\n",
       "0            0            1            0            0           0           0   \n",
       "1            0            0            1            0           1           0   \n",
       "2            1            0            0            0           0           0   \n",
       "3            0            0            1            0           0           0   \n",
       "4            0            1            0            0           0           0   \n",
       "\n",
       "   Embarked_2  \n",
       "0           1  \n",
       "1           0  \n",
       "2           1  \n",
       "3           1  \n",
       "4           1  "
      ]
     },
     "execution_count": 68,
     "metadata": {},
     "output_type": "execute_result"
    }
   ],
   "source": [
    "df_train.head()"
   ]
  },
  {
   "cell_type": "code",
   "execution_count": 69,
   "id": "272a8cc4",
   "metadata": {
    "execution": {
     "iopub.execute_input": "2021-08-20T09:10:27.220535Z",
     "iopub.status.busy": "2021-08-20T09:10:27.219818Z",
     "iopub.status.idle": "2021-08-20T09:10:27.224531Z",
     "shell.execute_reply": "2021-08-20T09:10:27.223988Z",
     "shell.execute_reply.started": "2021-08-20T08:56:29.194349Z"
    },
    "papermill": {
     "duration": 0.141851,
     "end_time": "2021-08-20T09:10:27.224684",
     "exception": false,
     "start_time": "2021-08-20T09:10:27.082833",
     "status": "completed"
    },
    "tags": []
   },
   "outputs": [
    {
     "data": {
      "text/html": [
       "<div>\n",
       "<style scoped>\n",
       "    .dataframe tbody tr th:only-of-type {\n",
       "        vertical-align: middle;\n",
       "    }\n",
       "\n",
       "    .dataframe tbody tr th {\n",
       "        vertical-align: top;\n",
       "    }\n",
       "\n",
       "    .dataframe thead th {\n",
       "        text-align: right;\n",
       "    }\n",
       "</style>\n",
       "<table border=\"1\" class=\"dataframe\">\n",
       "  <thead>\n",
       "    <tr style=\"text-align: right;\">\n",
       "      <th></th>\n",
       "      <th>Pclass</th>\n",
       "      <th>Sex</th>\n",
       "      <th>Fare</th>\n",
       "      <th>Age_cat</th>\n",
       "      <th>FamilySize</th>\n",
       "      <th>Initial_0.0</th>\n",
       "      <th>Initial_1.0</th>\n",
       "      <th>Initial_2.0</th>\n",
       "      <th>Initial_3.0</th>\n",
       "      <th>Initial_4.0</th>\n",
       "      <th>Embarked_0</th>\n",
       "      <th>Embarked_1</th>\n",
       "      <th>Embarked_2</th>\n",
       "    </tr>\n",
       "  </thead>\n",
       "  <tbody>\n",
       "    <tr>\n",
       "      <th>0</th>\n",
       "      <td>3</td>\n",
       "      <td>1</td>\n",
       "      <td>2.057860</td>\n",
       "      <td>3</td>\n",
       "      <td>1</td>\n",
       "      <td>0</td>\n",
       "      <td>0</td>\n",
       "      <td>1</td>\n",
       "      <td>0</td>\n",
       "      <td>0</td>\n",
       "      <td>0</td>\n",
       "      <td>1</td>\n",
       "      <td>0</td>\n",
       "    </tr>\n",
       "    <tr>\n",
       "      <th>1</th>\n",
       "      <td>3</td>\n",
       "      <td>0</td>\n",
       "      <td>1.945910</td>\n",
       "      <td>4</td>\n",
       "      <td>2</td>\n",
       "      <td>0</td>\n",
       "      <td>0</td>\n",
       "      <td>0</td>\n",
       "      <td>1</td>\n",
       "      <td>0</td>\n",
       "      <td>0</td>\n",
       "      <td>0</td>\n",
       "      <td>1</td>\n",
       "    </tr>\n",
       "    <tr>\n",
       "      <th>2</th>\n",
       "      <td>2</td>\n",
       "      <td>1</td>\n",
       "      <td>2.270836</td>\n",
       "      <td>6</td>\n",
       "      <td>1</td>\n",
       "      <td>0</td>\n",
       "      <td>0</td>\n",
       "      <td>1</td>\n",
       "      <td>0</td>\n",
       "      <td>0</td>\n",
       "      <td>0</td>\n",
       "      <td>1</td>\n",
       "      <td>0</td>\n",
       "    </tr>\n",
       "    <tr>\n",
       "      <th>3</th>\n",
       "      <td>3</td>\n",
       "      <td>1</td>\n",
       "      <td>2.159003</td>\n",
       "      <td>2</td>\n",
       "      <td>1</td>\n",
       "      <td>0</td>\n",
       "      <td>0</td>\n",
       "      <td>1</td>\n",
       "      <td>0</td>\n",
       "      <td>0</td>\n",
       "      <td>0</td>\n",
       "      <td>0</td>\n",
       "      <td>1</td>\n",
       "    </tr>\n",
       "    <tr>\n",
       "      <th>4</th>\n",
       "      <td>3</td>\n",
       "      <td>0</td>\n",
       "      <td>2.508582</td>\n",
       "      <td>2</td>\n",
       "      <td>3</td>\n",
       "      <td>0</td>\n",
       "      <td>0</td>\n",
       "      <td>0</td>\n",
       "      <td>1</td>\n",
       "      <td>0</td>\n",
       "      <td>0</td>\n",
       "      <td>0</td>\n",
       "      <td>1</td>\n",
       "    </tr>\n",
       "  </tbody>\n",
       "</table>\n",
       "</div>"
      ],
      "text/plain": [
       "   Pclass  Sex      Fare  Age_cat  FamilySize  Initial_0.0  Initial_1.0  \\\n",
       "0       3    1  2.057860        3           1            0            0   \n",
       "1       3    0  1.945910        4           2            0            0   \n",
       "2       2    1  2.270836        6           1            0            0   \n",
       "3       3    1  2.159003        2           1            0            0   \n",
       "4       3    0  2.508582        2           3            0            0   \n",
       "\n",
       "   Initial_2.0  Initial_3.0  Initial_4.0  Embarked_0  Embarked_1  Embarked_2  \n",
       "0            1            0            0           0           1           0  \n",
       "1            0            1            0           0           0           1  \n",
       "2            1            0            0           0           1           0  \n",
       "3            1            0            0           0           0           1  \n",
       "4            0            1            0           0           0           1  "
      ]
     },
     "execution_count": 69,
     "metadata": {},
     "output_type": "execute_result"
    }
   ],
   "source": [
    "df_test.head()"
   ]
  },
  {
   "cell_type": "code",
   "execution_count": 70,
   "id": "3627ccdb",
   "metadata": {
    "execution": {
     "iopub.execute_input": "2021-08-20T09:10:27.469796Z",
     "iopub.status.busy": "2021-08-20T09:10:27.469065Z",
     "iopub.status.idle": "2021-08-20T09:10:28.059888Z",
     "shell.execute_reply": "2021-08-20T09:10:28.059331Z",
     "shell.execute_reply.started": "2021-08-20T08:56:29.218714Z"
    },
    "papermill": {
     "duration": 0.715967,
     "end_time": "2021-08-20T09:10:28.060065",
     "exception": false,
     "start_time": "2021-08-20T09:10:27.344098",
     "status": "completed"
    },
    "tags": []
   },
   "outputs": [],
   "source": [
    "from sklearn.ensemble import RandomForestClassifier\n",
    "from sklearn import metrics\n",
    "from sklearn.model_selection import train_test_split"
   ]
  },
  {
   "cell_type": "code",
   "execution_count": 71,
   "id": "75902238",
   "metadata": {
    "execution": {
     "iopub.execute_input": "2021-08-20T09:10:28.309889Z",
     "iopub.status.busy": "2021-08-20T09:10:28.308900Z",
     "iopub.status.idle": "2021-08-20T09:10:28.312992Z",
     "shell.execute_reply": "2021-08-20T09:10:28.313510Z",
     "shell.execute_reply.started": "2021-08-20T09:08:20.561656Z"
    },
    "papermill": {
     "duration": 0.133966,
     "end_time": "2021-08-20T09:10:28.313702",
     "exception": false,
     "start_time": "2021-08-20T09:10:28.179736",
     "status": "completed"
    },
    "tags": []
   },
   "outputs": [],
   "source": [
    "X_train = df_train.drop('Survived', axis=1).values\n",
    "target_label = df_train['Survived'].values\n",
    "X_test = df_test.values"
   ]
  },
  {
   "cell_type": "code",
   "execution_count": 72,
   "id": "6e828fe6",
   "metadata": {
    "execution": {
     "iopub.execute_input": "2021-08-20T09:10:28.564303Z",
     "iopub.status.busy": "2021-08-20T09:10:28.563377Z",
     "iopub.status.idle": "2021-08-20T09:10:28.568767Z",
     "shell.execute_reply": "2021-08-20T09:10:28.568193Z",
     "shell.execute_reply.started": "2021-08-20T09:03:24.869786Z"
    },
    "papermill": {
     "duration": 0.133538,
     "end_time": "2021-08-20T09:10:28.568914",
     "exception": false,
     "start_time": "2021-08-20T09:10:28.435376",
     "status": "completed"
    },
    "tags": []
   },
   "outputs": [
    {
     "data": {
      "text/plain": [
       "(418, 13)"
      ]
     },
     "execution_count": 72,
     "metadata": {},
     "output_type": "execute_result"
    }
   ],
   "source": [
    "X_test.shape"
   ]
  },
  {
   "cell_type": "code",
   "execution_count": 74,
   "id": "763e5c82",
   "metadata": {
    "execution": {
     "iopub.execute_input": "2021-08-20T09:10:29.081882Z",
     "iopub.status.busy": "2021-08-20T09:10:29.080757Z",
     "iopub.status.idle": "2021-08-20T09:10:29.085817Z",
     "shell.execute_reply": "2021-08-20T09:10:29.085111Z",
     "shell.execute_reply.started": "2021-08-20T09:08:02.179672Z"
    },
    "papermill": {
     "duration": 0.135707,
     "end_time": "2021-08-20T09:10:29.085977",
     "exception": false,
     "start_time": "2021-08-20T09:10:28.950270",
     "status": "completed"
    },
    "tags": []
   },
   "outputs": [
    {
     "data": {
      "text/plain": [
       "Pclass         0\n",
       "Sex            0\n",
       "Fare           0\n",
       "Age_cat        0\n",
       "FamilySize     0\n",
       "Initial_0.0    0\n",
       "Initial_1.0    0\n",
       "Initial_2.0    0\n",
       "Initial_3.0    0\n",
       "Initial_4.0    0\n",
       "Embarked_0     0\n",
       "Embarked_1     0\n",
       "Embarked_2     0\n",
       "dtype: int64"
      ]
     },
     "execution_count": 74,
     "metadata": {},
     "output_type": "execute_result"
    }
   ],
   "source": [
    "df_test.isnull().sum()"
   ]
  },
  {
   "cell_type": "code",
   "execution_count": 75,
   "id": "e7b1789f",
   "metadata": {
    "execution": {
     "iopub.execute_input": "2021-08-20T09:10:29.337650Z",
     "iopub.status.busy": "2021-08-20T09:10:29.336951Z",
     "iopub.status.idle": "2021-08-20T09:10:29.340789Z",
     "shell.execute_reply": "2021-08-20T09:10:29.340116Z",
     "shell.execute_reply.started": "2021-08-20T08:56:29.295774Z"
    },
    "papermill": {
     "duration": 0.131296,
     "end_time": "2021-08-20T09:10:29.340936",
     "exception": false,
     "start_time": "2021-08-20T09:10:29.209640",
     "status": "completed"
    },
    "tags": []
   },
   "outputs": [],
   "source": [
    "X_tr, X_vld, y_tr, y_vld = train_test_split(X_train, target_label, test_size=0.3, random_state=2018)"
   ]
  },
  {
   "cell_type": "code",
   "execution_count": 76,
   "id": "5c65cef1",
   "metadata": {
    "execution": {
     "iopub.execute_input": "2021-08-20T09:10:29.589433Z",
     "iopub.status.busy": "2021-08-20T09:10:29.588553Z",
     "iopub.status.idle": "2021-08-20T09:10:29.592616Z",
     "shell.execute_reply": "2021-08-20T09:10:29.591945Z",
     "shell.execute_reply.started": "2021-08-20T08:56:29.308113Z"
    },
    "papermill": {
     "duration": 0.13165,
     "end_time": "2021-08-20T09:10:29.592766",
     "exception": false,
     "start_time": "2021-08-20T09:10:29.461116",
     "status": "completed"
    },
    "tags": []
   },
   "outputs": [
    {
     "data": {
      "text/plain": [
       "(623, 13)"
      ]
     },
     "execution_count": 76,
     "metadata": {},
     "output_type": "execute_result"
    }
   ],
   "source": [
    "X_tr.shape"
   ]
  },
  {
   "cell_type": "code",
   "execution_count": 77,
   "id": "07e947f4",
   "metadata": {
    "execution": {
     "iopub.execute_input": "2021-08-20T09:10:29.900041Z",
     "iopub.status.busy": "2021-08-20T09:10:29.898993Z",
     "iopub.status.idle": "2021-08-20T09:10:30.146495Z",
     "shell.execute_reply": "2021-08-20T09:10:30.145862Z",
     "shell.execute_reply.started": "2021-08-20T08:56:29.321919Z"
    },
    "papermill": {
     "duration": 0.392528,
     "end_time": "2021-08-20T09:10:30.146653",
     "exception": false,
     "start_time": "2021-08-20T09:10:29.754125",
     "status": "completed"
    },
    "tags": []
   },
   "outputs": [
    {
     "data": {
      "text/plain": [
       "RandomForestClassifier()"
      ]
     },
     "execution_count": 77,
     "metadata": {},
     "output_type": "execute_result"
    }
   ],
   "source": [
    "model = RandomForestClassifier()\n",
    "model.fit(X_tr, y_tr)"
   ]
  },
  {
   "cell_type": "code",
   "execution_count": 78,
   "id": "3f920a10",
   "metadata": {
    "execution": {
     "iopub.execute_input": "2021-08-20T09:10:30.402962Z",
     "iopub.status.busy": "2021-08-20T09:10:30.401950Z",
     "iopub.status.idle": "2021-08-20T09:10:30.419596Z",
     "shell.execute_reply": "2021-08-20T09:10:30.418887Z",
     "shell.execute_reply.started": "2021-08-20T08:56:29.573522Z"
    },
    "papermill": {
     "duration": 0.146952,
     "end_time": "2021-08-20T09:10:30.419745",
     "exception": false,
     "start_time": "2021-08-20T09:10:30.272793",
     "status": "completed"
    },
    "tags": []
   },
   "outputs": [],
   "source": [
    "prediction = model.predict(X_vld)"
   ]
  },
  {
   "cell_type": "code",
   "execution_count": 79,
   "id": "63c93a8e",
   "metadata": {
    "execution": {
     "iopub.execute_input": "2021-08-20T09:10:30.676021Z",
     "iopub.status.busy": "2021-08-20T09:10:30.675049Z",
     "iopub.status.idle": "2021-08-20T09:10:30.681160Z",
     "shell.execute_reply": "2021-08-20T09:10:30.680398Z",
     "shell.execute_reply.started": "2021-08-20T08:56:29.600780Z"
    },
    "papermill": {
     "duration": 0.137902,
     "end_time": "2021-08-20T09:10:30.681391",
     "exception": false,
     "start_time": "2021-08-20T09:10:30.543489",
     "status": "completed"
    },
    "tags": []
   },
   "outputs": [
    {
     "name": "stdout",
     "output_type": "stream",
     "text": [
      "총 268명 중 82.46% 정확도로 생존자를 맞춤\n"
     ]
    }
   ],
   "source": [
    "print('총 {}명 중 {:.2f}% 정확도로 생존자를 맞춤'.format(y_vld.shape[0], 100 * metrics.accuracy_score(prediction, y_vld)))"
   ]
  },
  {
   "cell_type": "code",
   "execution_count": 80,
   "id": "71524e70",
   "metadata": {
    "execution": {
     "iopub.execute_input": "2021-08-20T09:10:30.938309Z",
     "iopub.status.busy": "2021-08-20T09:10:30.937260Z",
     "iopub.status.idle": "2021-08-20T09:10:30.942569Z",
     "shell.execute_reply": "2021-08-20T09:10:30.942003Z",
     "shell.execute_reply.started": "2021-08-20T08:56:29.613539Z"
    },
    "papermill": {
     "duration": 0.13434,
     "end_time": "2021-08-20T09:10:30.942720",
     "exception": false,
     "start_time": "2021-08-20T09:10:30.808380",
     "status": "completed"
    },
    "tags": []
   },
   "outputs": [
    {
     "data": {
      "text/plain": [
       "0.8246268656716418"
      ]
     },
     "execution_count": 80,
     "metadata": {},
     "output_type": "execute_result"
    }
   ],
   "source": [
    "(prediction == y_vld).sum() / prediction.shape[0]"
   ]
  },
  {
   "cell_type": "code",
   "execution_count": 81,
   "id": "009d8e50",
   "metadata": {
    "execution": {
     "iopub.execute_input": "2021-08-20T09:10:31.202855Z",
     "iopub.status.busy": "2021-08-20T09:10:31.200779Z",
     "iopub.status.idle": "2021-08-20T09:10:31.214959Z",
     "shell.execute_reply": "2021-08-20T09:10:31.214408Z",
     "shell.execute_reply.started": "2021-08-20T08:56:29.629850Z"
    },
    "papermill": {
     "duration": 0.145001,
     "end_time": "2021-08-20T09:10:31.215109",
     "exception": false,
     "start_time": "2021-08-20T09:10:31.070108",
     "status": "completed"
    },
    "tags": []
   },
   "outputs": [
    {
     "data": {
      "text/plain": [
       "array([0.10169167, 0.09810781, 0.32558449, 0.12669648, 0.08986625,\n",
       "       0.01144761, 0.04410788, 0.12625166, 0.02532737, 0.00642712,\n",
       "       0.01355249, 0.01300545, 0.01793373])"
      ]
     },
     "execution_count": 81,
     "metadata": {},
     "output_type": "execute_result"
    }
   ],
   "source": [
    "model.feature_importances_"
   ]
  },
  {
   "cell_type": "code",
   "execution_count": 82,
   "id": "efc22a38",
   "metadata": {
    "execution": {
     "iopub.execute_input": "2021-08-20T09:10:31.465098Z",
     "iopub.status.busy": "2021-08-20T09:10:31.464415Z",
     "iopub.status.idle": "2021-08-20T09:10:31.467814Z",
     "shell.execute_reply": "2021-08-20T09:10:31.467150Z",
     "shell.execute_reply.started": "2021-08-20T08:56:29.654620Z"
    },
    "papermill": {
     "duration": 0.130424,
     "end_time": "2021-08-20T09:10:31.467973",
     "exception": false,
     "start_time": "2021-08-20T09:10:31.337549",
     "status": "completed"
    },
    "tags": []
   },
   "outputs": [],
   "source": [
    "from pandas import Series"
   ]
  },
  {
   "cell_type": "code",
   "execution_count": 83,
   "id": "d21d9fe5",
   "metadata": {
    "execution": {
     "iopub.execute_input": "2021-08-20T09:10:31.722929Z",
     "iopub.status.busy": "2021-08-20T09:10:31.722254Z",
     "iopub.status.idle": "2021-08-20T09:10:31.736548Z",
     "shell.execute_reply": "2021-08-20T09:10:31.737138Z",
     "shell.execute_reply.started": "2021-08-20T08:56:29.665146Z"
    },
    "papermill": {
     "duration": 0.143376,
     "end_time": "2021-08-20T09:10:31.737377",
     "exception": false,
     "start_time": "2021-08-20T09:10:31.594001",
     "status": "completed"
    },
    "tags": []
   },
   "outputs": [],
   "source": [
    "feature_importance = model.feature_importances_\n",
    "Series_feat_imp = Series(feature_importance, index=df_test.columns)"
   ]
  },
  {
   "cell_type": "code",
   "execution_count": 84,
   "id": "5b697244",
   "metadata": {
    "execution": {
     "iopub.execute_input": "2021-08-20T09:10:31.986514Z",
     "iopub.status.busy": "2021-08-20T09:10:31.985821Z",
     "iopub.status.idle": "2021-08-20T09:10:32.260070Z",
     "shell.execute_reply": "2021-08-20T09:10:32.260635Z",
     "shell.execute_reply.started": "2021-08-20T08:58:52.536516Z"
    },
    "papermill": {
     "duration": 0.39999,
     "end_time": "2021-08-20T09:10:32.260834",
     "exception": false,
     "start_time": "2021-08-20T09:10:31.860844",
     "status": "completed"
    },
    "tags": []
   },
   "outputs": [
    {
     "data": {
      "image/png": "[encoded data removed]",
      "text/plain": [
       "<Figure size 576x576 with 1 Axes>"
      ]
     },
     "metadata": {
      "needs_background": "light"
     },
     "output_type": "display_data"
    }
   ],
   "source": [
    "plt.figure(figsize=(8, 8))\n",
    "Series_feat_imp.sort_values(ascending=True).plot.barh()\n",
    "plt.xlabel('Feature importance')\n",
    "plt.ylabel('Feature')\n",
    "plt.show()"
   ]
  },
  {
   "cell_type": "code",
   "execution_count": 85,
   "id": "bc1c0093",
   "metadata": {
    "execution": {
     "iopub.execute_input": "2021-08-20T09:10:32.520205Z",
     "iopub.status.busy": "2021-08-20T09:10:32.519523Z",
     "iopub.status.idle": "2021-08-20T09:10:32.534419Z",
     "shell.execute_reply": "2021-08-20T09:10:32.534979Z",
     "shell.execute_reply.started": "2021-08-20T09:02:17.301941Z"
    },
    "papermill": {
     "duration": 0.146616,
     "end_time": "2021-08-20T09:10:32.535261",
     "exception": false,
     "start_time": "2021-08-20T09:10:32.388645",
     "status": "completed"
    },
    "tags": []
   },
   "outputs": [],
   "source": [
    "submission = pd.read_csv('../input/titanic/gender_submission.csv')"
   ]
  },
  {
   "cell_type": "code",
   "execution_count": 86,
   "id": "833609d2",
   "metadata": {
    "execution": {
     "iopub.execute_input": "2021-08-20T09:10:32.790129Z",
     "iopub.status.busy": "2021-08-20T09:10:32.789379Z",
     "iopub.status.idle": "2021-08-20T09:10:32.798759Z",
     "shell.execute_reply": "2021-08-20T09:10:32.799301Z",
     "shell.execute_reply.started": "2021-08-20T09:02:24.274523Z"
    },
    "papermill": {
     "duration": 0.138735,
     "end_time": "2021-08-20T09:10:32.799496",
     "exception": false,
     "start_time": "2021-08-20T09:10:32.660761",
     "status": "completed"
    },
    "tags": []
   },
   "outputs": [
    {
     "data": {
      "text/html": [
       "<div>\n",
       "<style scoped>\n",
       "    .dataframe tbody tr th:only-of-type {\n",
       "        vertical-align: middle;\n",
       "    }\n",
       "\n",
       "    .dataframe tbody tr th {\n",
       "        vertical-align: top;\n",
       "    }\n",
       "\n",
       "    .dataframe thead th {\n",
       "        text-align: right;\n",
       "    }\n",
       "</style>\n",
       "<table border=\"1\" class=\"dataframe\">\n",
       "  <thead>\n",
       "    <tr style=\"text-align: right;\">\n",
       "      <th></th>\n",
       "      <th>PassengerId</th>\n",
       "      <th>Survived</th>\n",
       "    </tr>\n",
       "  </thead>\n",
       "  <tbody>\n",
       "    <tr>\n",
       "      <th>0</th>\n",
       "      <td>892</td>\n",
       "      <td>0</td>\n",
       "    </tr>\n",
       "    <tr>\n",
       "      <th>1</th>\n",
       "      <td>893</td>\n",
       "      <td>1</td>\n",
       "    </tr>\n",
       "    <tr>\n",
       "      <th>2</th>\n",
       "      <td>894</td>\n",
       "      <td>0</td>\n",
       "    </tr>\n",
       "    <tr>\n",
       "      <th>3</th>\n",
       "      <td>895</td>\n",
       "      <td>0</td>\n",
       "    </tr>\n",
       "    <tr>\n",
       "      <th>4</th>\n",
       "      <td>896</td>\n",
       "      <td>1</td>\n",
       "    </tr>\n",
       "  </tbody>\n",
       "</table>\n",
       "</div>"
      ],
      "text/plain": [
       "   PassengerId  Survived\n",
       "0          892         0\n",
       "1          893         1\n",
       "2          894         0\n",
       "3          895         0\n",
       "4          896         1"
      ]
     },
     "execution_count": 86,
     "metadata": {},
     "output_type": "execute_result"
    }
   ],
   "source": [
    "submission.head()"
   ]
  },
  {
   "cell_type": "code",
   "execution_count": 87,
   "id": "f083c7de",
   "metadata": {
    "execution": {
     "iopub.execute_input": "2021-08-20T09:10:33.054528Z",
     "iopub.status.busy": "2021-08-20T09:10:33.053789Z",
     "iopub.status.idle": "2021-08-20T09:10:33.073882Z",
     "shell.execute_reply": "2021-08-20T09:10:33.074472Z",
     "shell.execute_reply.started": "2021-08-20T09:08:22.907687Z"
    },
    "papermill": {
     "duration": 0.149643,
     "end_time": "2021-08-20T09:10:33.074682",
     "exception": false,
     "start_time": "2021-08-20T09:10:32.925039",
     "status": "completed"
    },
    "tags": []
   },
   "outputs": [],
   "source": [
    "prediction = model.predict(X_test)"
   ]
  },
  {
   "cell_type": "code",
   "execution_count": 88,
   "id": "69780c32",
   "metadata": {
    "execution": {
     "iopub.execute_input": "2021-08-20T09:10:33.333009Z",
     "iopub.status.busy": "2021-08-20T09:10:33.332349Z",
     "iopub.status.idle": "2021-08-20T09:10:33.336891Z",
     "shell.execute_reply": "2021-08-20T09:10:33.337405Z",
     "shell.execute_reply.started": "2021-08-20T09:08:58.112611Z"
    },
    "papermill": {
     "duration": 0.133187,
     "end_time": "2021-08-20T09:10:33.337604",
     "exception": false,
     "start_time": "2021-08-20T09:10:33.204417",
     "status": "completed"
    },
    "tags": []
   },
   "outputs": [],
   "source": [
    "submission['Survived'] = prediction"
   ]
  },
  {
   "cell_type": "code",
   "execution_count": 89,
   "id": "4b700c65",
   "metadata": {
    "execution": {
     "iopub.execute_input": "2021-08-20T09:10:33.602916Z",
     "iopub.status.busy": "2021-08-20T09:10:33.602136Z",
     "iopub.status.idle": "2021-08-20T09:10:33.606551Z",
     "shell.execute_reply": "2021-08-20T09:10:33.607046Z",
     "shell.execute_reply.started": "2021-08-20T09:09:00.988025Z"
    },
    "papermill": {
     "duration": 0.143571,
     "end_time": "2021-08-20T09:10:33.607267",
     "exception": false,
     "start_time": "2021-08-20T09:10:33.463696",
     "status": "completed"
    },
    "tags": []
   },
   "outputs": [
    {
     "data": {
      "text/html": [
       "<div>\n",
       "<style scoped>\n",
       "    .dataframe tbody tr th:only-of-type {\n",
       "        vertical-align: middle;\n",
       "    }\n",
       "\n",
       "    .dataframe tbody tr th {\n",
       "        vertical-align: top;\n",
       "    }\n",
       "\n",
       "    .dataframe thead th {\n",
       "        text-align: right;\n",
       "    }\n",
       "</style>\n",
       "<table border=\"1\" class=\"dataframe\">\n",
       "  <thead>\n",
       "    <tr style=\"text-align: right;\">\n",
       "      <th></th>\n",
       "      <th>PassengerId</th>\n",
       "      <th>Survived</th>\n",
       "    </tr>\n",
       "  </thead>\n",
       "  <tbody>\n",
       "    <tr>\n",
       "      <th>0</th>\n",
       "      <td>892</td>\n",
       "      <td>0</td>\n",
       "    </tr>\n",
       "    <tr>\n",
       "      <th>1</th>\n",
       "      <td>893</td>\n",
       "      <td>0</td>\n",
       "    </tr>\n",
       "    <tr>\n",
       "      <th>2</th>\n",
       "      <td>894</td>\n",
       "      <td>0</td>\n",
       "    </tr>\n",
       "    <tr>\n",
       "      <th>3</th>\n",
       "      <td>895</td>\n",
       "      <td>0</td>\n",
       "    </tr>\n",
       "    <tr>\n",
       "      <th>4</th>\n",
       "      <td>896</td>\n",
       "      <td>0</td>\n",
       "    </tr>\n",
       "    <tr>\n",
       "      <th>...</th>\n",
       "      <td>...</td>\n",
       "      <td>...</td>\n",
       "    </tr>\n",
       "    <tr>\n",
       "      <th>413</th>\n",
       "      <td>1305</td>\n",
       "      <td>0</td>\n",
       "    </tr>\n",
       "    <tr>\n",
       "      <th>414</th>\n",
       "      <td>1306</td>\n",
       "      <td>1</td>\n",
       "    </tr>\n",
       "    <tr>\n",
       "      <th>415</th>\n",
       "      <td>1307</td>\n",
       "      <td>0</td>\n",
       "    </tr>\n",
       "    <tr>\n",
       "      <th>416</th>\n",
       "      <td>1308</td>\n",
       "      <td>0</td>\n",
       "    </tr>\n",
       "    <tr>\n",
       "      <th>417</th>\n",
       "      <td>1309</td>\n",
       "      <td>1</td>\n",
       "    </tr>\n",
       "  </tbody>\n",
       "</table>\n",
       "<p>418 rows × 2 columns</p>\n",
       "</div>"
      ],
      "text/plain": [
       "     PassengerId  Survived\n",
       "0            892         0\n",
       "1            893         0\n",
       "2            894         0\n",
       "3            895         0\n",
       "4            896         0\n",
       "..           ...       ...\n",
       "413         1305         0\n",
       "414         1306         1\n",
       "415         1307         0\n",
       "416         1308         0\n",
       "417         1309         1\n",
       "\n",
       "[418 rows x 2 columns]"
      ]
     },
     "execution_count": 89,
     "metadata": {},
     "output_type": "execute_result"
    }
   ],
   "source": [
    "submission"
   ]
  },
  {
   "cell_type": "code",
   "execution_count": 90,
   "id": "dbc83eb2",
   "metadata": {
    "execution": {
     "iopub.execute_input": "2021-08-20T09:10:33.864016Z",
     "iopub.status.busy": "2021-08-20T09:10:33.862959Z",
     "iopub.status.idle": "2021-08-20T09:10:33.872992Z",
     "shell.execute_reply": "2021-08-20T09:10:33.872049Z",
     "shell.execute_reply.started": "2021-08-20T09:09:19.680191Z"
    },
    "papermill": {
     "duration": 0.139781,
     "end_time": "2021-08-20T09:10:33.873183",
     "exception": false,
     "start_time": "2021-08-20T09:10:33.733402",
     "status": "completed"
    },
    "tags": []
   },
   "outputs": [],
   "source": [
    "submission.to_csv('./my_first_submission.csv', index=False)"
   ]
  }
 ],
 "metadata": {
  "kernelspec": {
   "display_name": "Python 3 (ipykernel)",
   "language": "python",
   "name": "python3"
  },
  "language_info": {
   "codemirror_mode": {
    "name": "ipython",
    "version": 3
   },
   "file_extension": ".py",
   "mimetype": "text/x-python",
   "name": "python",
   "nbconvert_exporter": "python",
   "pygments_lexer": "ipython3",
   "version": "3.8.2"
  },
  "papermill": {
   "default_parameters": {},
   "duration": 41.754902,
   "end_time": "2021-08-20T09:10:35.163197",
   "environment_variables": {},
   "exception": null,
   "input_path": "__notebook__.ipynb",
   "output_path": "__notebook__.ipynb",
   "parameters": {},
   "start_time": "2021-08-20T09:09:53.408295",
   "version": "2.3.3"
  }
 },
 "nbformat": 4,
 "nbformat_minor": 5
}
